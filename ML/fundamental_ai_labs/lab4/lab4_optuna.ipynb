{
  "nbformat": 4,
  "nbformat_minor": 0,
  "metadata": {
    "colab": {
      "provenance": []
    },
    "kernelspec": {
      "name": "python3",
      "display_name": "Python 3"
    },
    "language_info": {
      "name": "python"
    }
  },
  "cells": [
    {
      "cell_type": "markdown",
      "source": [
        "# Лабораторная работа №4\n",
        "\n",
        "## Оптимизация функций с помощью Optuna"
      ],
      "metadata": {
        "id": "lytT59GNWvxL"
      }
    },
    {
      "cell_type": "code",
      "execution_count": 2,
      "metadata": {
        "id": "DsDA2aynVjjX"
      },
      "outputs": [],
      "source": [
        "from typing import Tuple, Mapping\n",
        "\n",
        "import numpy as np\n",
        "from matplotlib import pyplot as plt\n",
        "import sklearn\n",
        "import optuna"
      ]
    },
    {
      "cell_type": "markdown",
      "source": [
        "#### Тестовые функции"
      ],
      "metadata": {
        "id": "HN0u3QtmX8hT"
      }
    },
    {
      "cell_type": "markdown",
      "source": [
        "##### Функция трехгорбого верблюда\n",
        "$$ {\\displaystyle f(x,y)=2x^{2}-1.05x^{4}+{\\frac {x^{6}}{6}}+xy+y^{2}} $$\n",
        "Глобальный минимум\n",
        "$$ {\\displaystyle f(0,0)=0} $$\n",
        "Метод поиска\n",
        "$$ {\\displaystyle -5\\leq x,y\\leq 5} $$"
      ],
      "metadata": {
        "id": "B8CUeX6ZX-9P"
      }
    },
    {
      "cell_type": "code",
      "source": [
        "def test_func_Camel(x: np.ndarray, y:np.ndarray) -> np.float64:   \n",
        "    return 2 * x**2 - 1.05 * x**4 + 1/6 * x**6 + x * y + y**2"
      ],
      "metadata": {
        "id": "Rsx9CNjIX4mf"
      },
      "execution_count": 5,
      "outputs": []
    },
    {
      "cell_type": "markdown",
      "source": [
        "##### Функция Изома\n",
        "$$ {\\displaystyle f(x,y)=-\\cos \\left(x\\right)\\cos \\left(y\\right)\\exp \\left(-\\left(\\left(x-\\pi \\right)^{2}+\\left(y-\\pi \\right)^{2}\\right)\\right)} $$\n",
        "Глобальный минимум\n",
        "$$ {\\displaystyle f(\\pi ,\\pi )=-1} $$\n",
        "Метод поиска\n",
        "$$ {\\displaystyle -100\\leq x,y\\leq 100} $$"
      ],
      "metadata": {
        "id": "RT62-UGhYCV1"
      }
    },
    {
      "cell_type": "code",
      "source": [
        "def test_func_Izom(x: np.ndarray, y:np.ndarray) -> np.float64:   \n",
        "    return -np.cos(x) * np.cos(y) * np.exp(-((x - np.pi)**2 + (y - np.pi)**2))"
      ],
      "metadata": {
        "id": "-zB9q_VmX4pr"
      },
      "execution_count": 6,
      "outputs": []
    },
    {
      "cell_type": "markdown",
      "source": [
        "##### Функция Била\n",
        "$$ {\\displaystyle f(x,y)=\\left(1.5-x+xy\\right)^{2}+\\left(2.25-x+xy^{2}\\right)^{2}} $$\n",
        "Глобальный минимум:\n",
        "$$ {\\displaystyle f(3,0.5)=0} $$\n",
        "Метод поиска:\n",
        "$$ {\\displaystyle -4.5\\leq x,y\\leq 4.5} $$"
      ],
      "metadata": {
        "id": "I9_1Q16eYGyC"
      }
    },
    {
      "cell_type": "code",
      "source": [
        "def test_func_Bil(x: np.ndarray, y:np.ndarray) -> np.longdouble:\n",
        "    return (1.5 - x + x*y)**2 + (2.25 - x + x*y**2)**2"
      ],
      "metadata": {
        "id": "yBiEEpHtX4tM"
      },
      "execution_count": 7,
      "outputs": []
    },
    {
      "cell_type": "markdown",
      "source": [
        "### Оптимизация функции трёхгорбого верблюда"
      ],
      "metadata": {
        "id": "iz-7xa3Bi8K7"
      }
    },
    {
      "cell_type": "code",
      "source": [
        "def obj_Camel(trial):\n",
        "  x = trial.suggest_float('x', -5, 5)\n",
        "  y = trial.suggest_float('y', -5, 5)\n",
        "  return test_func_Camel(x,y)"
      ],
      "metadata": {
        "id": "jY3nHMpOX43A"
      },
      "execution_count": 11,
      "outputs": []
    },
    {
      "cell_type": "code",
      "source": [
        "create_st = optuna.create_study()\n",
        "create_st.optimize(obj_Camel, n_trials=100)"
      ],
      "metadata": {
        "colab": {
          "base_uri": "https://localhost:8080/"
        },
        "id": "bWQBrMQqfk1W",
        "outputId": "2eb7046b-89b6-4a2b-ebe4-5782407d9909"
      },
      "execution_count": 12,
      "outputs": [
        {
          "output_type": "stream",
          "name": "stderr",
          "text": [
            "\u001b[32m[I 2023-01-11 20:22:52,126]\u001b[0m A new study created in memory with name: no-name-dfe07772-b7c3-4f5d-916d-a3cc7f11c176\u001b[0m\n",
            "\u001b[32m[I 2023-01-11 20:22:52,132]\u001b[0m Trial 0 finished with value: 1095.034626279049 and parameters: {'x': 4.568882151608879, 'y': -2.3920313376814772}. Best is trial 0 with value: 1095.034626279049.\u001b[0m\n",
            "\u001b[32m[I 2023-01-11 20:22:52,138]\u001b[0m Trial 1 finished with value: 35.55341760132076 and parameters: {'x': 2.807925516801701, 'y': -3.7147193309445594}. Best is trial 1 with value: 35.55341760132076.\u001b[0m\n",
            "\u001b[32m[I 2023-01-11 20:22:52,141]\u001b[0m Trial 2 finished with value: 16.724361793318923 and parameters: {'x': -2.3722471243431373, 'y': 4.414970291825513}. Best is trial 2 with value: 16.724361793318923.\u001b[0m\n",
            "\u001b[32m[I 2023-01-11 20:22:52,146]\u001b[0m Trial 3 finished with value: 2.3079302813397513 and parameters: {'x': -1.4363724852121038, 'y': 2.0232452843164603}. Best is trial 3 with value: 2.3079302813397513.\u001b[0m\n",
            "\u001b[32m[I 2023-01-11 20:22:52,152]\u001b[0m Trial 4 finished with value: 1370.3249749148745 and parameters: {'x': -4.724979927688272, 'y': 2.2674587067437297}. Best is trial 3 with value: 2.3079302813397513.\u001b[0m\n",
            "\u001b[32m[I 2023-01-11 20:22:52,155]\u001b[0m Trial 5 finished with value: 15.898697328867767 and parameters: {'x': -1.6945631870046785, 'y': 4.795091421802534}. Best is trial 3 with value: 2.3079302813397513.\u001b[0m\n",
            "\u001b[32m[I 2023-01-11 20:22:52,160]\u001b[0m Trial 6 finished with value: 82.71057017160493 and parameters: {'x': -3.1246117348093927, 'y': -1.6944205372346999}. Best is trial 3 with value: 2.3079302813397513.\u001b[0m\n",
            "\u001b[32m[I 2023-01-11 20:22:52,162]\u001b[0m Trial 7 finished with value: 472.60405746570035 and parameters: {'x': -4.03829168348563, 'y': 2.7113450889322834}. Best is trial 3 with value: 2.3079302813397513.\u001b[0m\n",
            "\u001b[32m[I 2023-01-11 20:22:52,164]\u001b[0m Trial 8 finished with value: 866.9690865456112 and parameters: {'x': -4.408314563392437, 'y': -0.31209390189189357}. Best is trial 3 with value: 2.3079302813397513.\u001b[0m\n",
            "\u001b[32m[I 2023-01-11 20:22:52,173]\u001b[0m Trial 9 finished with value: 3.7856393138896784 and parameters: {'x': 2.09055224118564, 'y': -2.555278872703093}. Best is trial 3 with value: 2.3079302813397513.\u001b[0m\n",
            "\u001b[32m[I 2023-01-11 20:22:52,187]\u001b[0m Trial 10 finished with value: 1.4635038591567329 and parameters: {'x': 0.02634889679667962, 'y': 1.1960771393905336}. Best is trial 10 with value: 1.4635038591567329.\u001b[0m\n",
            "\u001b[32m[I 2023-01-11 20:22:52,199]\u001b[0m Trial 11 finished with value: 0.8146467409852047 and parameters: {'x': -0.3198068840838708, 'y': 0.9639358729454481}. Best is trial 11 with value: 0.8146467409852047.\u001b[0m\n",
            "\u001b[32m[I 2023-01-11 20:22:52,211]\u001b[0m Trial 12 finished with value: 0.8948610359533883 and parameters: {'x': 0.5203022709726701, 'y': 0.44323692456213415}. Best is trial 11 with value: 0.8146467409852047.\u001b[0m\n",
            "\u001b[32m[I 2023-01-11 20:22:52,221]\u001b[0m Trial 13 finished with value: 0.11625709253373614 and parameters: {'x': 0.25943939502084634, 'y': -0.1860479129334648}. Best is trial 13 with value: 0.11625709253373614.\u001b[0m\n",
            "\u001b[32m[I 2023-01-11 20:22:52,232]\u001b[0m Trial 14 finished with value: 0.3683355751146005 and parameters: {'x': 1.652998091021351, 'y': -0.6654845611392124}. Best is trial 13 with value: 0.11625709253373614.\u001b[0m\n",
            "\u001b[32m[I 2023-01-11 20:22:52,241]\u001b[0m Trial 15 finished with value: 0.5777914976002969 and parameters: {'x': 1.495937972422039, 'y': -0.5197849853039107}. Best is trial 13 with value: 0.11625709253373614.\u001b[0m\n",
            "\u001b[32m[I 2023-01-11 20:22:52,250]\u001b[0m Trial 16 finished with value: 297.27854288485264 and parameters: {'x': 3.763460457267742, 'y': -4.975831929790311}. Best is trial 13 with value: 0.11625709253373614.\u001b[0m\n",
            "\u001b[32m[I 2023-01-11 20:22:52,260]\u001b[0m Trial 17 finished with value: 1.2872528332568518 and parameters: {'x': 1.2033469254539308, 'y': -1.2715974086701884}. Best is trial 13 with value: 0.11625709253373614.\u001b[0m\n",
            "\u001b[32m[I 2023-01-11 20:22:52,272]\u001b[0m Trial 18 finished with value: 57.61153347470818 and parameters: {'x': 3.0173377393181253, 'y': -3.2226577121175923}. Best is trial 13 with value: 0.11625709253373614.\u001b[0m\n",
            "\u001b[32m[I 2023-01-11 20:22:52,283]\u001b[0m Trial 19 finished with value: 10.927778425032212 and parameters: {'x': -0.6855408990924229, 'y': 3.555238193608158}. Best is trial 13 with value: 0.11625709253373614.\u001b[0m\n",
            "\u001b[32m[I 2023-01-11 20:22:52,292]\u001b[0m Trial 20 finished with value: 1.1184145859804202 and parameters: {'x': 0.8883741451468162, 'y': -1.0003936840110268}. Best is trial 13 with value: 0.11625709253373614.\u001b[0m\n",
            "\u001b[32m[I 2023-01-11 20:22:52,304]\u001b[0m Trial 21 finished with value: 0.555405942608429 and parameters: {'x': 1.7955436128563953, 'y': -0.40567670125753574}. Best is trial 13 with value: 0.11625709253373614.\u001b[0m\n",
            "\u001b[32m[I 2023-01-11 20:22:52,316]\u001b[0m Trial 22 finished with value: 4.146228777437429 and parameters: {'x': 2.114327123554815, 'y': 0.49751026676945176}. Best is trial 13 with value: 0.11625709253373614.\u001b[0m\n",
            "\u001b[32m[I 2023-01-11 20:22:52,328]\u001b[0m Trial 23 finished with value: 2.67117176988297 and parameters: {'x': 2.134934548858283, 'y': -0.21506348717327145}. Best is trial 13 with value: 0.11625709253373614.\u001b[0m\n",
            "\u001b[32m[I 2023-01-11 20:22:52,339]\u001b[0m Trial 24 finished with value: 131.07855719544 and parameters: {'x': 3.3786091453656764, 'y': -1.8295572320404014}. Best is trial 13 with value: 0.11625709253373614.\u001b[0m\n",
            "\u001b[32m[I 2023-01-11 20:22:52,352]\u001b[0m Trial 25 finished with value: 1.779921599193484 and parameters: {'x': 0.337011071990035, 'y': 1.0942150193972902}. Best is trial 13 with value: 0.11625709253373614.\u001b[0m\n",
            "\u001b[32m[I 2023-01-11 20:22:52,368]\u001b[0m Trial 26 finished with value: 1945.2413933566827 and parameters: {'x': 4.981029500854632, 'y': -0.8393210759022396}. Best is trial 13 with value: 0.11625709253373614.\u001b[0m\n",
            "\u001b[32m[I 2023-01-11 20:22:52,380]\u001b[0m Trial 27 finished with value: 1.9510580860935607 and parameters: {'x': -1.0426396392853845, 'y': 1.558329446064742}. Best is trial 13 with value: 0.11625709253373614.\u001b[0m\n",
            "\u001b[32m[I 2023-01-11 20:22:52,392]\u001b[0m Trial 28 finished with value: 1.801087363625942 and parameters: {'x': 1.5375748725994889, 'y': 0.3845546999414875}. Best is trial 13 with value: 0.11625709253373614.\u001b[0m\n",
            "\u001b[32m[I 2023-01-11 20:22:52,405]\u001b[0m Trial 29 finished with value: 804.6282297661776 and parameters: {'x': 4.3647138081096815, 'y': -2.3196979844504675}. Best is trial 13 with value: 0.11625709253373614.\u001b[0m\n",
            "\u001b[32m[I 2023-01-11 20:22:52,418]\u001b[0m Trial 30 finished with value: 12.686409784326147 and parameters: {'x': 2.5469341374017485, 'y': -1.4277062240497438}. Best is trial 13 with value: 0.11625709253373614.\u001b[0m\n",
            "\u001b[32m[I 2023-01-11 20:22:52,431]\u001b[0m Trial 31 finished with value: 0.7607550463690474 and parameters: {'x': 1.3036545682278506, 'y': -0.6870405277512655}. Best is trial 13 with value: 0.11625709253373614.\u001b[0m\n",
            "\u001b[32m[I 2023-01-11 20:22:52,444]\u001b[0m Trial 32 finished with value: 1.092583399750494 and parameters: {'x': 1.5755013749212132, 'y': 0.030284186692730142}. Best is trial 13 with value: 0.11625709253373614.\u001b[0m\n",
            "\u001b[32m[I 2023-01-11 20:22:52,456]\u001b[0m Trial 33 finished with value: 5.138298411552503 and parameters: {'x': 0.6742756762296996, 'y': -2.468813645736167}. Best is trial 13 with value: 0.11625709253373614.\u001b[0m\n",
            "\u001b[32m[I 2023-01-11 20:22:52,472]\u001b[0m Trial 34 finished with value: 0.484494587279268 and parameters: {'x': -0.2034575020360112, 'y': -0.5415758527417087}. Best is trial 13 with value: 0.11625709253373614.\u001b[0m\n",
            "\u001b[32m[I 2023-01-11 20:22:52,486]\u001b[0m Trial 35 finished with value: 17.207389412542327 and parameters: {'x': -1.9670998723356306, 'y': -3.07860583492878}. Best is trial 13 with value: 0.11625709253373614.\u001b[0m\n",
            "\u001b[32m[I 2023-01-11 20:22:52,500]\u001b[0m Trial 36 finished with value: 0.16840707231421004 and parameters: {'x': -0.32003502906561465, 'y': 0.16192349468689438}. Best is trial 13 with value: 0.11625709253373614.\u001b[0m\n",
            "\u001b[32m[I 2023-01-11 20:22:52,513]\u001b[0m Trial 37 finished with value: 5.410616603488711 and parameters: {'x': -0.8661693837694758, 'y': 2.5821112985353847}. Best is trial 13 with value: 0.11625709253373614.\u001b[0m\n",
            "\u001b[32m[I 2023-01-11 20:22:52,525]\u001b[0m Trial 38 finished with value: 13.423092253417696 and parameters: {'x': -2.5607682762452533, 'y': 1.5992761477459594}. Best is trial 13 with value: 0.11625709253373614.\u001b[0m\n",
            "\u001b[32m[I 2023-01-11 20:22:52,537]\u001b[0m Trial 39 finished with value: 0.13777713114456125 and parameters: {'x': -0.24250457246244395, 'y': 0.3173639198502608}. Best is trial 13 with value: 0.11625709253373614.\u001b[0m\n",
            "\u001b[32m[I 2023-01-11 20:22:52,547]\u001b[0m Trial 40 finished with value: 0.548720800291026 and parameters: {'x': -0.5209065701619875, 'y': 0.6449639246518981}. Best is trial 13 with value: 0.11625709253373614.\u001b[0m\n",
            "\u001b[32m[I 2023-01-11 20:22:52,561]\u001b[0m Trial 41 finished with value: 1.105994329065808 and parameters: {'x': -1.3192204077331628, 'y': 0.05785943527613939}. Best is trial 13 with value: 0.11625709253373614.\u001b[0m\n",
            "\u001b[32m[I 2023-01-11 20:22:52,572]\u001b[0m Trial 42 finished with value: 2.83404998861227 and parameters: {'x': -0.007345472410902526, 'y': -1.6797629081630552}. Best is trial 13 with value: 0.11625709253373614.\u001b[0m\n",
            "\u001b[32m[I 2023-01-11 20:22:52,584]\u001b[0m Trial 43 finished with value: 3.418039092499696 and parameters: {'x': -0.032530019467812865, 'y': 1.8645583885815693}. Best is trial 13 with value: 0.11625709253373614.\u001b[0m\n",
            "\u001b[32m[I 2023-01-11 20:22:52,597]\u001b[0m Trial 44 finished with value: 4.53410360145348 and parameters: {'x': -1.852729866676771, 'y': -1.1127581431156153}. Best is trial 13 with value: 0.11625709253373614.\u001b[0m\n",
            "\u001b[32m[I 2023-01-11 20:22:52,613]\u001b[0m Trial 45 finished with value: 0.9984249647604808 and parameters: {'x': 0.8326942886376375, 'y': 0.06766178324652397}. Best is trial 13 with value: 0.11625709253373614.\u001b[0m\n",
            "\u001b[32m[I 2023-01-11 20:22:52,627]\u001b[0m Trial 46 finished with value: 0.8263829085109556 and parameters: {'x': -1.2637452310778858, 'y': 0.8072167964252865}. Best is trial 13 with value: 0.11625709253373614.\u001b[0m\n",
            "\u001b[32m[I 2023-01-11 20:22:52,638]\u001b[0m Trial 47 finished with value: 0.5936999702802521 and parameters: {'x': -0.23292342400499053, 'y': -0.5919312839377275}. Best is trial 13 with value: 0.11625709253373614.\u001b[0m\n",
            "\u001b[32m[I 2023-01-11 20:22:52,650]\u001b[0m Trial 48 finished with value: 3.2424507381735297 and parameters: {'x': 0.33913815806968917, 'y': -1.917370913290135}. Best is trial 13 with value: 0.11625709253373614.\u001b[0m\n",
            "\u001b[32m[I 2023-01-11 20:22:52,663]\u001b[0m Trial 49 finished with value: 3.911252887583339 and parameters: {'x': 1.0475335854224292, 'y': 1.218370811890708}. Best is trial 13 with value: 0.11625709253373614.\u001b[0m\n",
            "\u001b[32m[I 2023-01-11 20:22:52,678]\u001b[0m Trial 50 finished with value: 115.80390302278576 and parameters: {'x': -3.3217923888508616, 'y': 2.3107409003461137}. Best is trial 13 with value: 0.11625709253373614.\u001b[0m\n",
            "\u001b[32m[I 2023-01-11 20:22:52,690]\u001b[0m Trial 51 finished with value: 0.5846089213022667 and parameters: {'x': -0.6194678290422013, 'y': 0.5511147389754891}. Best is trial 13 with value: 0.11625709253373614.\u001b[0m\n",
            "\u001b[32m[I 2023-01-11 20:22:52,703]\u001b[0m Trial 52 finished with value: 0.5254986129658028 and parameters: {'x': -0.47257258481828524, 'y': -0.19405248816630905}. Best is trial 13 with value: 0.11625709253373614.\u001b[0m\n",
            "\u001b[32m[I 2023-01-11 20:22:52,717]\u001b[0m Trial 53 finished with value: 0.1840541447737512 and parameters: {'x': 0.32014940880641884, 'y': -0.03542345555880888}. Best is trial 13 with value: 0.11625709253373614.\u001b[0m\n",
            "\u001b[32m[I 2023-01-11 20:22:52,732]\u001b[0m Trial 54 finished with value: 0.32909097474334714 and parameters: {'x': 0.3515415648004817, 'y': 0.18276071472476002}. Best is trial 13 with value: 0.11625709253373614.\u001b[0m\n",
            "\u001b[32m[I 2023-01-11 20:22:52,744]\u001b[0m Trial 55 finished with value: 0.5479898720375669 and parameters: {'x': 0.41895361056293956, 'y': 0.31232135346463397}. Best is trial 13 with value: 0.11625709253373614.\u001b[0m\n",
            "\u001b[32m[I 2023-01-11 20:22:52,756]\u001b[0m Trial 56 finished with value: 2.0071681369040113 and parameters: {'x': 0.21041215344497954, 'y': 1.284662108501977}. Best is trial 13 with value: 0.11625709253373614.\u001b[0m\n",
            "\u001b[32m[I 2023-01-11 20:22:52,767]\u001b[0m Trial 57 finished with value: 4.95337380191607 and parameters: {'x': 2.318414488319339, 'y': -1.188714379494422}. Best is trial 13 with value: 0.11625709253373614.\u001b[0m\n",
            "\u001b[32m[I 2023-01-11 20:22:52,779]\u001b[0m Trial 58 finished with value: 13.648751876930374 and parameters: {'x': 0.8115096636110146, 'y': 3.186467628939102}. Best is trial 13 with value: 0.11625709253373614.\u001b[0m\n",
            "\u001b[32m[I 2023-01-11 20:22:52,796]\u001b[0m Trial 59 finished with value: 29.30280176375214 and parameters: {'x': -0.9258189589076108, 'y': -4.872751186044688}. Best is trial 13 with value: 0.11625709253373614.\u001b[0m\n",
            "\u001b[32m[I 2023-01-11 20:22:52,808]\u001b[0m Trial 60 finished with value: 3.0682005710082527 and parameters: {'x': 1.2093381603570037, 'y': 0.8897600514346046}. Best is trial 13 with value: 0.11625709253373614.\u001b[0m\n",
            "\u001b[32m[I 2023-01-11 20:22:52,819]\u001b[0m Trial 61 finished with value: 0.4802877405888609 and parameters: {'x': -0.22104986685634054, 'y': -0.5197646404180454}. Best is trial 13 with value: 0.11625709253373614.\u001b[0m\n",
            "\u001b[32m[I 2023-01-11 20:22:52,832]\u001b[0m Trial 62 finished with value: 1.1736442660858337 and parameters: {'x': -1.5642139131602875, 'y': -0.07607303114344421}. Best is trial 13 with value: 0.11625709253373614.\u001b[0m\n",
            "\u001b[32m[I 2023-01-11 20:22:52,844]\u001b[0m Trial 63 finished with value: 0.6621903371705963 and parameters: {'x': 0.1605559766423707, 'y': -0.8662635714235144}. Best is trial 13 with value: 0.11625709253373614.\u001b[0m\n",
            "\u001b[32m[I 2023-01-11 20:22:52,857]\u001b[0m Trial 64 finished with value: 0.6509564217575255 and parameters: {'x': 0.5431454997203885, 'y': 0.19937914236267756}. Best is trial 13 with value: 0.11625709253373614.\u001b[0m\n",
            "\u001b[32m[I 2023-01-11 20:22:52,876]\u001b[0m Trial 65 finished with value: 0.5062209440249678 and parameters: {'x': 1.7775140621743075, 'y': -0.43923999421179927}. Best is trial 13 with value: 0.11625709253373614.\u001b[0m\n",
            "\u001b[32m[I 2023-01-11 20:22:52,896]\u001b[0m Trial 66 finished with value: 0.22571394296951114 and parameters: {'x': -0.29280338030752995, 'y': -0.14220276748475102}. Best is trial 13 with value: 0.11625709253373614.\u001b[0m\n",
            "\u001b[32m[I 2023-01-11 20:22:52,910]\u001b[0m Trial 67 finished with value: 5.274611127473194 and parameters: {'x': -1.11720018709947, 'y': -1.5395042998643422}. Best is trial 13 with value: 0.11625709253373614.\u001b[0m\n",
            "\u001b[32m[I 2023-01-11 20:22:52,924]\u001b[0m Trial 68 finished with value: 37.93483469178849 and parameters: {'x': 2.8713197667962223, 'y': -0.21957660214164487}. Best is trial 13 with value: 0.11625709253373614.\u001b[0m\n",
            "\u001b[32m[I 2023-01-11 20:22:52,936]\u001b[0m Trial 69 finished with value: 0.725906525957638 and parameters: {'x': -0.6431341866248214, 'y': 0.7337706683037022}. Best is trial 13 with value: 0.11625709253373614.\u001b[0m\n",
            "\u001b[32m[I 2023-01-11 20:22:52,948]\u001b[0m Trial 70 finished with value: 0.758956412134314 and parameters: {'x': 0.5367035306517953, 'y': -0.8497347390574487}. Best is trial 13 with value: 0.11625709253373614.\u001b[0m\n",
            "\u001b[32m[I 2023-01-11 20:22:52,959]\u001b[0m Trial 71 finished with value: 0.111225454452069 and parameters: {'x': -0.20138216931502761, 'y': 0.30555787211204666}. Best is trial 71 with value: 0.111225454452069.\u001b[0m\n",
            "\u001b[32m[I 2023-01-11 20:22:52,970]\u001b[0m Trial 72 finished with value: 0.0957165892499846 and parameters: {'x': -0.009254318127078776, 'y': 0.31376583788622775}. Best is trial 72 with value: 0.0957165892499846.\u001b[0m\n",
            "\u001b[32m[I 2023-01-11 20:22:52,980]\u001b[0m Trial 73 finished with value: 0.1585982723464023 and parameters: {'x': -0.0014040879946765061, 'y': 0.39894169833887155}. Best is trial 72 with value: 0.0957165892499846.\u001b[0m\n",
            "\u001b[32m[I 2023-01-11 20:22:52,990]\u001b[0m Trial 74 finished with value: 1.8586183203744975 and parameters: {'x': -0.361674407863001, 'y': 1.4643078865833192}. Best is trial 72 with value: 0.0957165892499846.\u001b[0m\n",
            "\u001b[32m[I 2023-01-11 20:22:53,003]\u001b[0m Trial 75 finished with value: 0.21055678508110975 and parameters: {'x': -0.047273752563155524, 'y': 0.47822582672148445}. Best is trial 72 with value: 0.0957165892499846.\u001b[0m\n",
            "\u001b[32m[I 2023-01-11 20:22:53,015]\u001b[0m Trial 76 finished with value: 1.183132921418017 and parameters: {'x': -0.809529086430065, 'y': 1.0683346796302133}. Best is trial 72 with value: 0.0957165892499846.\u001b[0m\n",
            "\u001b[32m[I 2023-01-11 20:22:53,034]\u001b[0m Trial 77 finished with value: 0.23824900018867767 and parameters: {'x': 0.02005098453216919, 'y': 0.4773610036806615}. Best is trial 72 with value: 0.0957165892499846.\u001b[0m\n",
            "\u001b[32m[I 2023-01-11 20:22:53,048]\u001b[0m Trial 78 finished with value: 3.6959132956490857 and parameters: {'x': 0.14461760170353033, 'y': 1.8407440234039598}. Best is trial 72 with value: 0.0957165892499846.\u001b[0m\n",
            "\u001b[32m[I 2023-01-11 20:22:53,060]\u001b[0m Trial 79 finished with value: 2.5375315174652617 and parameters: {'x': 0.9232832738400788, 'y': 0.8443086453720123}. Best is trial 72 with value: 0.0957165892499846.\u001b[0m\n",
            "\u001b[32m[I 2023-01-11 20:22:53,073]\u001b[0m Trial 80 finished with value: 1.7732347273891957 and parameters: {'x': 1.37568769840624, 'y': 0.35729655790636067}. Best is trial 72 with value: 0.0957165892499846.\u001b[0m\n",
            "\u001b[32m[I 2023-01-11 20:22:53,088]\u001b[0m Trial 81 finished with value: 0.2031134303138659 and parameters: {'x': -0.30049864809930177, 'y': -0.0811126990791934}. Best is trial 72 with value: 0.0957165892499846.\u001b[0m\n",
            "\u001b[32m[I 2023-01-11 20:22:53,101]\u001b[0m Trial 82 finished with value: 0.158427671902411 and parameters: {'x': -0.08709877367482824, 'y': -0.33751777702545244}. Best is trial 72 with value: 0.0957165892499846.\u001b[0m\n",
            "\u001b[32m[I 2023-01-11 20:22:53,112]\u001b[0m Trial 83 finished with value: 1.1581347500832246 and parameters: {'x': -0.7224399146136086, 'y': -0.3508899363962403}. Best is trial 72 with value: 0.0957165892499846.\u001b[0m\n",
            "\u001b[32m[I 2023-01-11 20:22:53,125]\u001b[0m Trial 84 finished with value: 0.7232504496736264 and parameters: {'x': 0.6873517029482042, 'y': -0.00714279451837152}. Best is trial 72 with value: 0.0957165892499846.\u001b[0m\n",
            "\u001b[32m[I 2023-01-11 20:22:53,136]\u001b[0m Trial 85 finished with value: 0.8896311582467491 and parameters: {'x': -1.029378317958085, 'y': 0.640947602990461}. Best is trial 72 with value: 0.0957165892499846.\u001b[0m\n",
            "\u001b[32m[I 2023-01-11 20:22:53,154]\u001b[0m Trial 86 finished with value: 3.4682361615742354 and parameters: {'x': -2.1931749106738865, 'y': 0.2043156837655546}. Best is trial 72 with value: 0.0957165892499846.\u001b[0m\n",
            "\u001b[32m[I 2023-01-11 20:22:53,165]\u001b[0m Trial 87 finished with value: 2.883496872148699 and parameters: {'x': -1.3558107682743625, 'y': -0.7983662971391996}. Best is trial 72 with value: 0.0957165892499846.\u001b[0m\n",
            "\u001b[32m[I 2023-01-11 20:22:53,177]\u001b[0m Trial 88 finished with value: 0.6349370644782947 and parameters: {'x': -0.45084360285047553, 'y': -0.34133465693696646}. Best is trial 72 with value: 0.0957165892499846.\u001b[0m\n",
            "\u001b[32m[I 2023-01-11 20:22:53,191]\u001b[0m Trial 89 finished with value: 1.211796670387961 and parameters: {'x': -0.11862356952489396, 'y': -1.0303573853561612}. Best is trial 72 with value: 0.0957165892499846.\u001b[0m\n",
            "\u001b[32m[I 2023-01-11 20:22:53,204]\u001b[0m Trial 90 finished with value: 1769.6197662571874 and parameters: {'x': -4.909372703419522, 'y': 4.431142394429993}. Best is trial 72 with value: 0.0957165892499846.\u001b[0m\n",
            "\u001b[32m[I 2023-01-11 20:22:53,218]\u001b[0m Trial 91 finished with value: 0.23460717441551301 and parameters: {'x': 0.03496160129537309, 'y': 0.4646703106495204}. Best is trial 72 with value: 0.0957165892499846.\u001b[0m\n",
            "\u001b[32m[I 2023-01-11 20:22:53,231]\u001b[0m Trial 92 finished with value: 2.433358396194077 and parameters: {'x': 0.2766692722866343, 'y': 1.380046271630535}. Best is trial 72 with value: 0.0957165892499846.\u001b[0m\n",
            "\u001b[32m[I 2023-01-11 20:22:53,244]\u001b[0m Trial 93 finished with value: 0.9046489862724947 and parameters: {'x': -0.4105432325100281, 'y': 1.0044737086056288}. Best is trial 72 with value: 0.0957165892499846.\u001b[0m\n",
            "\u001b[32m[I 2023-01-11 20:22:53,256]\u001b[0m Trial 94 finished with value: 0.7731867532596164 and parameters: {'x': 0.6536934001662958, 'y': 0.12493751256088984}. Best is trial 72 with value: 0.0957165892499846.\u001b[0m\n",
            "\u001b[32m[I 2023-01-11 20:22:53,271]\u001b[0m Trial 95 finished with value: 0.338392056940511 and parameters: {'x': -0.1453124421187458, 'y': 0.6221161097324943}. Best is trial 72 with value: 0.0957165892499846.\u001b[0m\n",
            "\u001b[32m[I 2023-01-11 20:22:53,282]\u001b[0m Trial 96 finished with value: 0.4737031313680901 and parameters: {'x': 0.4729410961762731, 'y': -0.6010813834195909}. Best is trial 72 with value: 0.0957165892499846.\u001b[0m\n",
            "\u001b[32m[I 2023-01-11 20:22:53,295]\u001b[0m Trial 97 finished with value: 1.0334025236426283 and parameters: {'x': 0.9926440328118284, 'y': -0.08516119146571671}. Best is trial 72 with value: 0.0957165892499846.\u001b[0m\n",
            "\u001b[32m[I 2023-01-11 20:22:53,309]\u001b[0m Trial 98 finished with value: 0.5111182381952577 and parameters: {'x': -0.6072001832707723, 'y': 0.32047323893981916}. Best is trial 72 with value: 0.0957165892499846.\u001b[0m\n",
            "\u001b[32m[I 2023-01-11 20:22:53,322]\u001b[0m Trial 99 finished with value: 1.5633839995267722 and parameters: {'x': 0.13515972187945785, 'y': -1.3052244511954765}. Best is trial 72 with value: 0.0957165892499846.\u001b[0m\n"
          ]
        }
      ]
    },
    {
      "cell_type": "code",
      "source": [
        "best_parameters = create_st.best_params\n",
        "x = best_parameters['x']\n",
        "y = best_parameters['y']\n",
        "\n",
        "print(\"Best parameters ({0},{1})\".format(x,y))\n",
        "print(\"Best value of function: {}\".format(create_st.best_value))"
      ],
      "metadata": {
        "colab": {
          "base_uri": "https://localhost:8080/"
        },
        "id": "aFXbO_ldgF31",
        "outputId": "600b73cd-c225-4051-ea2d-f6a787ea7976"
      },
      "execution_count": 15,
      "outputs": [
        {
          "output_type": "stream",
          "name": "stdout",
          "text": [
            "Best parameters (-0.009254318127078776,0.31376583788622775)\n",
            "Best value of function: 0.0957165892499846\n"
          ]
        }
      ]
    },
    {
      "cell_type": "markdown",
      "source": [
        "### Оптимизация функции Изома"
      ],
      "metadata": {
        "id": "K9n56NB4i4-S"
      }
    },
    {
      "cell_type": "code",
      "source": [
        "def obj_Izom(trial):\n",
        "  x = trial.suggest_float('x', -100, 100)\n",
        "  y = trial.suggest_float('y', -100, 100)\n",
        "  return test_func_Izom(x,y)"
      ],
      "metadata": {
        "id": "LVyPcWzOjJxs"
      },
      "execution_count": 16,
      "outputs": []
    },
    {
      "cell_type": "code",
      "source": [
        "create_st = optuna.create_study()\n",
        "create_st.optimize(obj_Izom, n_trials=100)"
      ],
      "metadata": {
        "colab": {
          "base_uri": "https://localhost:8080/"
        },
        "id": "je1HZstBjKdF",
        "outputId": "8fbc7a6c-8dff-4a50-d8f2-12b4a7933656"
      },
      "execution_count": 17,
      "outputs": [
        {
          "output_type": "stream",
          "name": "stderr",
          "text": [
            "\u001b[32m[I 2023-01-11 20:38:17,262]\u001b[0m A new study created in memory with name: no-name-e6a33bb0-1ef7-4e71-94ca-ec154b610b51\u001b[0m\n",
            "\u001b[32m[I 2023-01-11 20:38:17,270]\u001b[0m Trial 0 finished with value: -0.0 and parameters: {'x': -67.79445150654965, 'y': 49.488434915197644}. Best is trial 0 with value: -0.0.\u001b[0m\n",
            "\u001b[32m[I 2023-01-11 20:38:17,281]\u001b[0m Trial 1 finished with value: 0.0 and parameters: {'x': -9.700989916690943, 'y': -55.934335745226996}. Best is trial 0 with value: -0.0.\u001b[0m\n",
            "\u001b[32m[I 2023-01-11 20:38:17,285]\u001b[0m Trial 2 finished with value: -0.0 and parameters: {'x': 76.84226579099152, 'y': 44.95441937988943}. Best is trial 0 with value: -0.0.\u001b[0m\n",
            "\u001b[32m[I 2023-01-11 20:38:17,292]\u001b[0m Trial 3 finished with value: -0.0 and parameters: {'x': -94.37561627197422, 'y': 31.364229845427417}. Best is trial 0 with value: -0.0.\u001b[0m\n",
            "\u001b[32m[I 2023-01-11 20:38:17,297]\u001b[0m Trial 4 finished with value: -0.0 and parameters: {'x': 54.66103122369552, 'y': -58.37930453271123}. Best is trial 0 with value: -0.0.\u001b[0m\n",
            "\u001b[32m[I 2023-01-11 20:38:17,301]\u001b[0m Trial 5 finished with value: 0.0 and parameters: {'x': -99.99957911292618, 'y': 9.016161429509538}. Best is trial 0 with value: -0.0.\u001b[0m\n",
            "\u001b[32m[I 2023-01-11 20:38:17,306]\u001b[0m Trial 6 finished with value: -0.0 and parameters: {'x': 55.635675390640415, 'y': 11.287151932394295}. Best is trial 0 with value: -0.0.\u001b[0m\n",
            "\u001b[32m[I 2023-01-11 20:38:17,309]\u001b[0m Trial 7 finished with value: -4.644e-321 and parameters: {'x': 29.868791546936876, 'y': -1.167786295364408}. Best is trial 7 with value: -4.644e-321.\u001b[0m\n",
            "\u001b[32m[I 2023-01-11 20:38:17,315]\u001b[0m Trial 8 finished with value: 0.0 and parameters: {'x': -97.43459102831795, 'y': -56.23172617448389}. Best is trial 7 with value: -4.644e-321.\u001b[0m\n",
            "\u001b[32m[I 2023-01-11 20:38:17,318]\u001b[0m Trial 9 finished with value: -0.0 and parameters: {'x': 22.262093885993323, 'y': -60.31392655437233}. Best is trial 7 with value: -4.644e-321.\u001b[0m\n",
            "\u001b[32m[I 2023-01-11 20:38:17,336]\u001b[0m Trial 10 finished with value: 0.0 and parameters: {'x': -18.492187798381384, 'y': 98.28788214529388}. Best is trial 7 with value: -4.644e-321.\u001b[0m\n",
            "\u001b[32m[I 2023-01-11 20:38:17,348]\u001b[0m Trial 11 finished with value: 0.0 and parameters: {'x': -38.304936490013375, 'y': 73.44505864108484}. Best is trial 7 with value: -4.644e-321.\u001b[0m\n",
            "\u001b[32m[I 2023-01-11 20:38:17,358]\u001b[0m Trial 12 finished with value: 0.0 and parameters: {'x': -56.462362388118095, 'y': -20.69239316273839}. Best is trial 7 with value: -4.644e-321.\u001b[0m\n",
            "\u001b[32m[I 2023-01-11 20:38:17,369]\u001b[0m Trial 13 finished with value: -0.0 and parameters: {'x': 23.06693100216765, 'y': -20.799820222314587}. Best is trial 7 with value: -4.644e-321.\u001b[0m\n",
            "\u001b[32m[I 2023-01-11 20:38:17,380]\u001b[0m Trial 14 finished with value: 0.0 and parameters: {'x': -63.33560917467117, 'y': -96.64974624198094}. Best is trial 7 with value: -4.644e-321.\u001b[0m\n",
            "\u001b[32m[I 2023-01-11 20:38:17,392]\u001b[0m Trial 15 finished with value: 0.0 and parameters: {'x': 15.691073843265604, 'y': 57.67925819587096}. Best is trial 7 with value: -4.644e-321.\u001b[0m\n",
            "\u001b[32m[I 2023-01-11 20:38:17,404]\u001b[0m Trial 16 finished with value: 0.0 and parameters: {'x': -32.449901721539796, 'y': -15.867184832426275}. Best is trial 7 with value: -4.644e-321.\u001b[0m\n",
            "\u001b[32m[I 2023-01-11 20:38:17,420]\u001b[0m Trial 17 finished with value: -0.0 and parameters: {'x': 98.01602595475276, 'y': 27.13276556367967}. Best is trial 7 with value: -4.644e-321.\u001b[0m\n",
            "\u001b[32m[I 2023-01-11 20:38:17,433]\u001b[0m Trial 18 finished with value: -0.0 and parameters: {'x': -69.04185398753657, 'y': 76.85194797678588}. Best is trial 7 with value: -4.644e-321.\u001b[0m\n",
            "\u001b[32m[I 2023-01-11 20:38:17,444]\u001b[0m Trial 19 finished with value: -0.0 and parameters: {'x': 46.036582915810285, 'y': -3.1787088762021716}. Best is trial 7 with value: -4.644e-321.\u001b[0m\n",
            "\u001b[32m[I 2023-01-11 20:38:17,457]\u001b[0m Trial 20 finished with value: -0.0 and parameters: {'x': 10.438207108828934, 'y': 52.86351045815953}. Best is trial 7 with value: -4.644e-321.\u001b[0m\n",
            "\u001b[32m[I 2023-01-11 20:38:17,472]\u001b[0m Trial 21 finished with value: 0.0 and parameters: {'x': -71.2019022287978, 'y': 86.75570658848396}. Best is trial 7 with value: -4.644e-321.\u001b[0m\n",
            "\u001b[32m[I 2023-01-11 20:38:17,485]\u001b[0m Trial 22 finished with value: 0.0 and parameters: {'x': 43.15850701880966, 'y': -2.8953134007271}. Best is trial 7 with value: -4.644e-321.\u001b[0m\n",
            "\u001b[32m[I 2023-01-11 20:38:17,497]\u001b[0m Trial 23 finished with value: -0.0 and parameters: {'x': 4.300640174672354, 'y': 53.062527558655646}. Best is trial 7 with value: -4.644e-321.\u001b[0m\n",
            "\u001b[32m[I 2023-01-11 20:38:17,513]\u001b[0m Trial 24 finished with value: 0.0 and parameters: {'x': -45.70663815477752, 'y': 99.97860566391373}. Best is trial 7 with value: -4.644e-321.\u001b[0m\n",
            "\u001b[32m[I 2023-01-11 20:38:17,525]\u001b[0m Trial 25 finished with value: 0.0 and parameters: {'x': 39.858862356318674, 'y': -37.79985006261061}. Best is trial 7 with value: -4.644e-321.\u001b[0m\n",
            "\u001b[32m[I 2023-01-11 20:38:17,537]\u001b[0m Trial 26 finished with value: -0.0 and parameters: {'x': -2.855370603717673, 'y': 34.68562814154545}. Best is trial 7 with value: -4.644e-321.\u001b[0m\n",
            "\u001b[32m[I 2023-01-11 20:38:17,556]\u001b[0m Trial 27 finished with value: -0.0 and parameters: {'x': -35.405870693689224, 'y': 92.39714895295188}. Best is trial 7 with value: -4.644e-321.\u001b[0m\n",
            "\u001b[32m[I 2023-01-11 20:38:17,572]\u001b[0m Trial 28 finished with value: -0.0 and parameters: {'x': 33.80254793365734, 'y': -35.51377725733061}. Best is trial 7 with value: -4.644e-321.\u001b[0m\n",
            "\u001b[32m[I 2023-01-11 20:38:17,587]\u001b[0m Trial 29 finished with value: -0.0 and parameters: {'x': -12.969935463658217, 'y': 30.74327392700789}. Best is trial 7 with value: -4.644e-321.\u001b[0m\n",
            "\u001b[32m[I 2023-01-11 20:38:17,598]\u001b[0m Trial 30 finished with value: -0.0 and parameters: {'x': -80.31891437246733, 'y': 62.27719347309011}. Best is trial 7 with value: -4.644e-321.\u001b[0m\n",
            "\u001b[32m[I 2023-01-11 20:38:17,608]\u001b[0m Trial 31 finished with value: 0.0 and parameters: {'x': -24.98770665291772, 'y': -41.414578190209056}. Best is trial 7 with value: -4.644e-321.\u001b[0m\n",
            "\u001b[32m[I 2023-01-11 20:38:17,620]\u001b[0m Trial 32 finished with value: 0.0 and parameters: {'x': 32.440211497081634, 'y': 21.38933161372686}. Best is trial 7 with value: -4.644e-321.\u001b[0m\n",
            "\u001b[32m[I 2023-01-11 20:38:17,635]\u001b[0m Trial 33 finished with value: 0.0 and parameters: {'x': -80.47129386605884, 'y': 40.46447633004705}. Best is trial 7 with value: -4.644e-321.\u001b[0m\n",
            "\u001b[32m[I 2023-01-11 20:38:17,650]\u001b[0m Trial 34 finished with value: -0.0 and parameters: {'x': 64.69417490383267, 'y': -3.1317171502993233}. Best is trial 7 with value: -4.644e-321.\u001b[0m\n",
            "\u001b[32m[I 2023-01-11 20:38:17,661]\u001b[0m Trial 35 finished with value: 0.0 and parameters: {'x': -84.78125445754276, 'y': 82.7883737277788}. Best is trial 7 with value: -4.644e-321.\u001b[0m\n",
            "\u001b[32m[I 2023-01-11 20:38:17,676]\u001b[0m Trial 36 finished with value: -0.0 and parameters: {'x': 3.480059862061853, 'y': 72.10709823019896}. Best is trial 7 with value: -4.644e-321.\u001b[0m\n",
            "\u001b[32m[I 2023-01-11 20:38:17,688]\u001b[0m Trial 37 finished with value: 0.0 and parameters: {'x': 76.96130841634508, 'y': 14.491640861627339}. Best is trial 7 with value: -4.644e-321.\u001b[0m\n",
            "\u001b[32m[I 2023-01-11 20:38:17,701]\u001b[0m Trial 38 finished with value: 0.0 and parameters: {'x': -53.38968853539898, 'y': 7.488572178009097}. Best is trial 7 with value: -4.644e-321.\u001b[0m\n",
            "\u001b[32m[I 2023-01-11 20:38:17,714]\u001b[0m Trial 39 finished with value: 0.0 and parameters: {'x': -2.2261048630333704, 'y': 51.12599028744631}. Best is trial 7 with value: -4.644e-321.\u001b[0m\n",
            "\u001b[32m[I 2023-01-11 20:38:17,727]\u001b[0m Trial 40 finished with value: -0.0 and parameters: {'x': 52.727649088641, 'y': 41.73022668029575}. Best is trial 7 with value: -4.644e-321.\u001b[0m\n",
            "\u001b[32m[I 2023-01-11 20:38:17,745]\u001b[0m Trial 41 finished with value: -0.0 and parameters: {'x': -46.192144438576236, 'y': -40.00371302591334}. Best is trial 7 with value: -4.644e-321.\u001b[0m\n",
            "\u001b[32m[I 2023-01-11 20:38:17,757]\u001b[0m Trial 42 finished with value: -0.0 and parameters: {'x': 27.01860581995271, 'y': -78.54517605267338}. Best is trial 7 with value: -4.644e-321.\u001b[0m\n",
            "\u001b[32m[I 2023-01-11 20:38:17,769]\u001b[0m Trial 43 finished with value: 0.0 and parameters: {'x': -22.251896970565987, 'y': 63.89892115854377}. Best is trial 7 with value: -4.644e-321.\u001b[0m\n",
            "\u001b[32m[I 2023-01-11 20:38:17,785]\u001b[0m Trial 44 finished with value: 0.0 and parameters: {'x': 64.06713681359399, 'y': -14.976188860016226}. Best is trial 7 with value: -4.644e-321.\u001b[0m\n",
            "\u001b[32m[I 2023-01-11 20:38:17,804]\u001b[0m Trial 45 finished with value: -0.0 and parameters: {'x': -4.754693246549941, 'y': 89.53322869679845}. Best is trial 7 with value: -4.644e-321.\u001b[0m\n",
            "\u001b[32m[I 2023-01-11 20:38:17,815]\u001b[0m Trial 46 finished with value: 0.0 and parameters: {'x': -36.393959527340655, 'y': -29.72699061139312}. Best is trial 7 with value: -4.644e-321.\u001b[0m\n",
            "\u001b[32m[I 2023-01-11 20:38:17,829]\u001b[0m Trial 47 finished with value: -0.0 and parameters: {'x': 15.278149800854964, 'y': 40.43697761766974}. Best is trial 7 with value: -4.644e-321.\u001b[0m\n",
            "\u001b[32m[I 2023-01-11 20:38:17,845]\u001b[0m Trial 48 finished with value: -7.73674592998111e-214 and parameters: {'x': -11.801835733309892, 'y': 19.477545059107854}. Best is trial 48 with value: -7.73674592998111e-214.\u001b[0m\n",
            "\u001b[32m[I 2023-01-11 20:38:17,859]\u001b[0m Trial 49 finished with value: 0.0 and parameters: {'x': -10.295438161016323, 'y': -50.383087771212864}. Best is trial 48 with value: -7.73674592998111e-214.\u001b[0m\n",
            "\u001b[32m[I 2023-01-11 20:38:17,871]\u001b[0m Trial 50 finished with value: 1.1160892693873137e-263 and parameters: {'x': -14.6681325377781, 'y': 20.068986238732766}. Best is trial 48 with value: -7.73674592998111e-214.\u001b[0m\n",
            "\u001b[32m[I 2023-01-11 20:38:17,884]\u001b[0m Trial 51 finished with value: -0.0 and parameters: {'x': -84.98270777269306, 'y': 28.686523925808835}. Best is trial 48 with value: -7.73674592998111e-214.\u001b[0m\n",
            "\u001b[32m[I 2023-01-11 20:38:17,898]\u001b[0m Trial 52 finished with value: 0.0 and parameters: {'x': -95.07597207847442, 'y': 65.05311081988016}. Best is trial 48 with value: -7.73674592998111e-214.\u001b[0m\n",
            "\u001b[32m[I 2023-01-11 20:38:17,912]\u001b[0m Trial 53 finished with value: 0.0 and parameters: {'x': 34.194791372796104, 'y': 31.343496379624234}. Best is trial 48 with value: -7.73674592998111e-214.\u001b[0m\n",
            "\u001b[32m[I 2023-01-11 20:38:17,924]\u001b[0m Trial 54 finished with value: -0.0 and parameters: {'x': -25.541098147733663, 'y': 5.3002086029978805}. Best is trial 48 with value: -7.73674592998111e-214.\u001b[0m\n",
            "\u001b[32m[I 2023-01-11 20:38:17,937]\u001b[0m Trial 55 finished with value: 0.0 and parameters: {'x': -26.712109370808086, 'y': 18.080444107180938}. Best is trial 48 with value: -7.73674592998111e-214.\u001b[0m\n",
            "\u001b[32m[I 2023-01-11 20:38:17,956]\u001b[0m Trial 56 finished with value: -0.0 and parameters: {'x': -62.349085436380165, 'y': -69.41578293844304}. Best is trial 48 with value: -7.73674592998111e-214.\u001b[0m\n",
            "\u001b[32m[I 2023-01-11 20:38:17,969]\u001b[0m Trial 57 finished with value: -0.0 and parameters: {'x': -73.62617366111303, 'y': -9.20136393437564}. Best is trial 48 with value: -7.73674592998111e-214.\u001b[0m\n",
            "\u001b[32m[I 2023-01-11 20:38:17,982]\u001b[0m Trial 58 finished with value: -0.0 and parameters: {'x': 21.471276188476466, 'y': 23.361314374924106}. Best is trial 48 with value: -7.73674592998111e-214.\u001b[0m\n",
            "\u001b[32m[I 2023-01-11 20:38:17,997]\u001b[0m Trial 59 finished with value: 0.0 and parameters: {'x': 10.06753636314136, 'y': 43.86439014066532}. Best is trial 48 with value: -7.73674592998111e-214.\u001b[0m\n",
            "\u001b[32m[I 2023-01-11 20:38:18,011]\u001b[0m Trial 60 finished with value: 0.0 and parameters: {'x': 80.36105153983684, 'y': 2.5210486306803626}. Best is trial 48 with value: -7.73674592998111e-214.\u001b[0m\n",
            "\u001b[32m[I 2023-01-11 20:38:18,024]\u001b[0m Trial 61 finished with value: -0.0 and parameters: {'x': -88.17197267361679, 'y': 12.448274339815415}. Best is trial 48 with value: -7.73674592998111e-214.\u001b[0m\n",
            "\u001b[32m[I 2023-01-11 20:38:18,038]\u001b[0m Trial 62 finished with value: -0.0 and parameters: {'x': -79.21276988482532, 'y': 78.5700371381114}. Best is trial 48 with value: -7.73674592998111e-214.\u001b[0m\n",
            "\u001b[32m[I 2023-01-11 20:38:18,052]\u001b[0m Trial 63 finished with value: -0.0 and parameters: {'x': 65.71554703217653, 'y': 72.29845688588267}. Best is trial 48 with value: -7.73674592998111e-214.\u001b[0m\n",
            "\u001b[32m[I 2023-01-11 20:38:18,065]\u001b[0m Trial 64 finished with value: -0.0 and parameters: {'x': 84.56440414322401, 'y': 14.163648307146056}. Best is trial 48 with value: -7.73674592998111e-214.\u001b[0m\n",
            "\u001b[32m[I 2023-01-11 20:38:18,076]\u001b[0m Trial 65 finished with value: -0.0 and parameters: {'x': 95.79858916657724, 'y': -7.1509954764813415}. Best is trial 48 with value: -7.73674592998111e-214.\u001b[0m\n",
            "\u001b[32m[I 2023-01-11 20:38:18,089]\u001b[0m Trial 66 finished with value: 0.0 and parameters: {'x': -52.51504262781749, 'y': 6.04437827562276}. Best is trial 48 with value: -7.73674592998111e-214.\u001b[0m\n",
            "\u001b[32m[I 2023-01-11 20:38:18,106]\u001b[0m Trial 67 finished with value: 0.0 and parameters: {'x': -63.50579046565682, 'y': 80.00768103886766}. Best is trial 48 with value: -7.73674592998111e-214.\u001b[0m\n",
            "\u001b[32m[I 2023-01-11 20:38:18,118]\u001b[0m Trial 68 finished with value: 0.0 and parameters: {'x': 1.2810700357122577, 'y': 51.84653362834216}. Best is trial 48 with value: -7.73674592998111e-214.\u001b[0m\n",
            "\u001b[32m[I 2023-01-11 20:38:18,131]\u001b[0m Trial 69 finished with value: 1.6905647214041453e-171 and parameters: {'x': 15.276784750445858, 'y': -12.53825800375786}. Best is trial 48 with value: -7.73674592998111e-214.\u001b[0m\n",
            "\u001b[32m[I 2023-01-11 20:38:18,147]\u001b[0m Trial 70 finished with value: -0.0 and parameters: {'x': -6.317281582244931, 'y': -31.467054473572677}. Best is trial 48 with value: -7.73674592998111e-214.\u001b[0m\n",
            "\u001b[32m[I 2023-01-11 20:38:18,161]\u001b[0m Trial 71 finished with value: -0.0 and parameters: {'x': -9.504933572384523, 'y': -28.596958423523194}. Best is trial 48 with value: -7.73674592998111e-214.\u001b[0m\n",
            "\u001b[32m[I 2023-01-11 20:38:18,174]\u001b[0m Trial 72 finished with value: -0.0 and parameters: {'x': 7.633129102897444, 'y': -48.986898000335906}. Best is trial 48 with value: -7.73674592998111e-214.\u001b[0m\n",
            "\u001b[32m[I 2023-01-11 20:38:18,189]\u001b[0m Trial 73 finished with value: 0.0 and parameters: {'x': -39.63187322598326, 'y': 37.11687107843085}. Best is trial 48 with value: -7.73674592998111e-214.\u001b[0m\n",
            "\u001b[32m[I 2023-01-11 20:38:18,202]\u001b[0m Trial 74 finished with value: 0.0 and parameters: {'x': -99.23828075457163, 'y': -52.50524641972777}. Best is trial 48 with value: -7.73674592998111e-214.\u001b[0m\n",
            "\u001b[32m[I 2023-01-11 20:38:18,214]\u001b[0m Trial 75 finished with value: 0.0 and parameters: {'x': 33.85776745071564, 'y': 30.969867362383795}. Best is trial 48 with value: -7.73674592998111e-214.\u001b[0m\n",
            "\u001b[32m[I 2023-01-11 20:38:18,229]\u001b[0m Trial 76 finished with value: 0.0 and parameters: {'x': -92.99090006630524, 'y': 47.21855402223205}. Best is trial 48 with value: -7.73674592998111e-214.\u001b[0m\n",
            "\u001b[32m[I 2023-01-11 20:38:18,242]\u001b[0m Trial 77 finished with value: -0.0 and parameters: {'x': -91.3448790205281, 'y': 59.53695531640044}. Best is trial 48 with value: -7.73674592998111e-214.\u001b[0m\n",
            "\u001b[32m[I 2023-01-11 20:38:18,256]\u001b[0m Trial 78 finished with value: 0.0 and parameters: {'x': -25.716640195305782, 'y': 22.731740565868645}. Best is trial 48 with value: -7.73674592998111e-214.\u001b[0m\n",
            "\u001b[32m[I 2023-01-11 20:38:18,271]\u001b[0m Trial 79 finished with value: -0.0 and parameters: {'x': -28.842459304370912, 'y': -72.68415178341901}. Best is trial 48 with value: -7.73674592998111e-214.\u001b[0m\n",
            "\u001b[32m[I 2023-01-11 20:38:18,289]\u001b[0m Trial 80 finished with value: -0.0 and parameters: {'x': -66.30798041670562, 'y': 2.5775146907859074}. Best is trial 48 with value: -7.73674592998111e-214.\u001b[0m\n",
            "\u001b[32m[I 2023-01-11 20:38:18,307]\u001b[0m Trial 81 finished with value: 0.0 and parameters: {'x': -74.11668509150792, 'y': -8.708449737846486}. Best is trial 48 with value: -7.73674592998111e-214.\u001b[0m\n",
            "\u001b[32m[I 2023-01-11 20:38:18,319]\u001b[0m Trial 82 finished with value: 0.0 and parameters: {'x': -60.08080707701608, 'y': 17.853876356066035}. Best is trial 48 with value: -7.73674592998111e-214.\u001b[0m\n",
            "\u001b[32m[I 2023-01-11 20:38:18,331]\u001b[0m Trial 83 finished with value: 0.0 and parameters: {'x': 20.672388708079918, 'y': -99.2769815601519}. Best is trial 48 with value: -7.73674592998111e-214.\u001b[0m\n",
            "\u001b[32m[I 2023-01-11 20:38:18,343]\u001b[0m Trial 84 finished with value: 0.0 and parameters: {'x': -17.273892021083704, 'y': -19.652079175652922}. Best is trial 48 with value: -7.73674592998111e-214.\u001b[0m\n",
            "\u001b[32m[I 2023-01-11 20:38:18,356]\u001b[0m Trial 85 finished with value: -0.0 and parameters: {'x': -73.83823531224178, 'y': -89.22784327032738}. Best is trial 48 with value: -7.73674592998111e-214.\u001b[0m\n",
            "\u001b[32m[I 2023-01-11 20:38:18,371]\u001b[0m Trial 86 finished with value: -0.0 and parameters: {'x': -87.7952638979462, 'y': 11.051194749569895}. Best is trial 48 with value: -7.73674592998111e-214.\u001b[0m\n",
            "\u001b[32m[I 2023-01-11 20:38:18,384]\u001b[0m Trial 87 finished with value: -0.0 and parameters: {'x': -76.67240926148261, 'y': -0.9050091464629304}. Best is trial 48 with value: -7.73674592998111e-214.\u001b[0m\n",
            "\u001b[32m[I 2023-01-11 20:38:18,403]\u001b[0m Trial 88 finished with value: -0.0 and parameters: {'x': 49.49094669379887, 'y': 25.27487913396331}. Best is trial 48 with value: -7.73674592998111e-214.\u001b[0m\n",
            "\u001b[32m[I 2023-01-11 20:38:18,424]\u001b[0m Trial 89 finished with value: -0.0 and parameters: {'x': 73.43514303244838, 'y': 73.24027563153544}. Best is trial 48 with value: -7.73674592998111e-214.\u001b[0m\n",
            "\u001b[32m[I 2023-01-11 20:38:18,438]\u001b[0m Trial 90 finished with value: 0.0 and parameters: {'x': 89.30605809892833, 'y': 14.386324570053967}. Best is trial 48 with value: -7.73674592998111e-214.\u001b[0m\n",
            "\u001b[32m[I 2023-01-11 20:38:18,451]\u001b[0m Trial 91 finished with value: -0.0 and parameters: {'x': 96.3617286845662, 'y': -7.877378832302886}. Best is trial 48 with value: -7.73674592998111e-214.\u001b[0m\n",
            "\u001b[32m[I 2023-01-11 20:38:18,467]\u001b[0m Trial 92 finished with value: -0.0 and parameters: {'x': 86.35154444250055, 'y': 10.932386134844684}. Best is trial 48 with value: -7.73674592998111e-214.\u001b[0m\n",
            "\u001b[32m[I 2023-01-11 20:38:18,486]\u001b[0m Trial 93 finished with value: 0.0 and parameters: {'x': 83.92016373149949, 'y': 5.515830554621314}. Best is trial 48 with value: -7.73674592998111e-214.\u001b[0m\n",
            "\u001b[32m[I 2023-01-11 20:38:18,498]\u001b[0m Trial 94 finished with value: 0.0 and parameters: {'x': -53.29324455407713, 'y': 95.64487268726218}. Best is trial 48 with value: -7.73674592998111e-214.\u001b[0m\n",
            "\u001b[32m[I 2023-01-11 20:38:18,512]\u001b[0m Trial 95 finished with value: 0.0 and parameters: {'x': 67.97692085032878, 'y': 84.40768530458557}. Best is trial 48 with value: -7.73674592998111e-214.\u001b[0m\n",
            "\u001b[32m[I 2023-01-11 20:38:18,525]\u001b[0m Trial 96 finished with value: 0.0 and parameters: {'x': 94.19290476150526, 'y': 65.94877937834971}. Best is trial 48 with value: -7.73674592998111e-214.\u001b[0m\n",
            "\u001b[32m[I 2023-01-11 20:38:18,540]\u001b[0m Trial 97 finished with value: -0.0 and parameters: {'x': 90.97017934065354, 'y': 79.96652913878391}. Best is trial 48 with value: -7.73674592998111e-214.\u001b[0m\n",
            "\u001b[32m[I 2023-01-11 20:38:18,554]\u001b[0m Trial 98 finished with value: 0.0 and parameters: {'x': 59.01906773981712, 'y': -30.63161270027968}. Best is trial 48 with value: -7.73674592998111e-214.\u001b[0m\n",
            "\u001b[32m[I 2023-01-11 20:38:18,569]\u001b[0m Trial 99 finished with value: 0.0 and parameters: {'x': 3.558016912212242, 'y': -25.287864348578438}. Best is trial 48 with value: -7.73674592998111e-214.\u001b[0m\n"
          ]
        }
      ]
    },
    {
      "cell_type": "code",
      "source": [
        "best_parameters = create_st.best_params\n",
        "x = best_parameters['x']\n",
        "y = best_parameters['y']\n",
        "\n",
        "print(\"Best parameters ({0},{1})\".format(x,y))\n",
        "print(\"Best value of function: {}\".format(create_st.best_value))"
      ],
      "metadata": {
        "colab": {
          "base_uri": "https://localhost:8080/"
        },
        "id": "hVxSAj-EjKeq",
        "outputId": "c012b6f2-0490-4e5e-ed79-af42cc39c819"
      },
      "execution_count": 19,
      "outputs": [
        {
          "output_type": "stream",
          "name": "stdout",
          "text": [
            "Best parameters (-11.801835733309892,19.477545059107854)\n",
            "Best value of function: -7.73674592998111e-214\n"
          ]
        }
      ]
    },
    {
      "cell_type": "markdown",
      "source": [
        "### Оптимизация функции Била"
      ],
      "metadata": {
        "id": "Kg3ILR3ljkQx"
      }
    },
    {
      "cell_type": "code",
      "source": [
        "def obj_Bil(trial):\n",
        "  x = trial.suggest_float('x', -4.5, 4.5)\n",
        "  y = trial.suggest_float('y', -4.5, 4.5)\n",
        "  return test_func_Bil(x,y)"
      ],
      "metadata": {
        "id": "2US9S8RBjKiH"
      },
      "execution_count": 20,
      "outputs": []
    },
    {
      "cell_type": "code",
      "source": [
        "create_st = optuna.create_study()\n",
        "create_st.optimize(obj_Bil, n_trials=100)"
      ],
      "metadata": {
        "colab": {
          "base_uri": "https://localhost:8080/"
        },
        "id": "ADK4YIrEjpvd",
        "outputId": "016af89d-1578-40a1-c078-b6a6c83d8d46"
      },
      "execution_count": 21,
      "outputs": [
        {
          "output_type": "stream",
          "name": "stderr",
          "text": [
            "\u001b[32m[I 2023-01-11 20:39:41,854]\u001b[0m A new study created in memory with name: no-name-940001b1-5b8a-4364-8cb2-70f04c1e0b08\u001b[0m\n",
            "\u001b[32m[I 2023-01-11 20:39:41,863]\u001b[0m Trial 0 finished with value: 7.788807061965193 and parameters: {'x': -0.1449261665503414, 'y': 0.6957381509966938}. Best is trial 0 with value: 7.788807061965193.\u001b[0m\n",
            "\u001b[32m[I 2023-01-11 20:39:41,867]\u001b[0m Trial 1 finished with value: 2.835871836837151 and parameters: {'x': 4.155441529455308, 'y': 0.3815593581425194}. Best is trial 1 with value: 2.835871836837151.\u001b[0m\n",
            "\u001b[32m[I 2023-01-11 20:39:41,872]\u001b[0m Trial 2 finished with value: 54.31083937895062 and parameters: {'x': 4.475612752305233, 'y': -0.9371020243326984}. Best is trial 1 with value: 2.835871836837151.\u001b[0m\n",
            "\u001b[32m[I 2023-01-11 20:39:41,876]\u001b[0m Trial 3 finished with value: 56.812861483498466 and parameters: {'x': -4.012801433847161, 'y': 1.8386474680946971}. Best is trial 1 with value: 2.835871836837151.\u001b[0m\n",
            "\u001b[32m[I 2023-01-11 20:39:41,881]\u001b[0m Trial 4 finished with value: 18.44047911143806 and parameters: {'x': 1.5736779814366715, 'y': 1.3940149020850265}. Best is trial 1 with value: 2.835871836837151.\u001b[0m\n",
            "\u001b[32m[I 2023-01-11 20:39:41,884]\u001b[0m Trial 5 finished with value: 4.415132009011266 and parameters: {'x': 0.4251528637895232, 'y': -0.4239853418238857}. Best is trial 1 with value: 2.835871836837151.\u001b[0m\n",
            "\u001b[32m[I 2023-01-11 20:39:41,888]\u001b[0m Trial 6 finished with value: 1.9960107057437426 and parameters: {'x': -0.5738179838391049, 'y': 1.8035028945588083}. Best is trial 6 with value: 1.9960107057437426.\u001b[0m\n",
            "\u001b[32m[I 2023-01-11 20:39:41,890]\u001b[0m Trial 7 finished with value: 133.47722122261868 and parameters: {'x': 0.5665606266062193, 'y': 4.074466770735054}. Best is trial 6 with value: 1.9960107057437426.\u001b[0m\n",
            "\u001b[32m[I 2023-01-11 20:39:41,896]\u001b[0m Trial 8 finished with value: 1073.014340042142 and parameters: {'x': 3.595757965240665, 'y': 3.025009987504726}. Best is trial 6 with value: 1.9960107057437426.\u001b[0m\n",
            "\u001b[32m[I 2023-01-11 20:39:41,899]\u001b[0m Trial 9 finished with value: 74.89727714368068 and parameters: {'x': -3.0521656034145908, 'y': -1.3432216091458296}. Best is trial 6 with value: 1.9960107057437426.\u001b[0m\n",
            "\u001b[32m[I 2023-01-11 20:39:41,914]\u001b[0m Trial 10 finished with value: 966.6927853824986 and parameters: {'x': -2.19063689189642, 'y': -3.883576747824814}. Best is trial 6 with value: 1.9960107057437426.\u001b[0m\n",
            "\u001b[32m[I 2023-01-11 20:39:41,925]\u001b[0m Trial 11 finished with value: 42.85755393928385 and parameters: {'x': -1.3566798914473885, 'y': -2.1995377876396813}. Best is trial 6 with value: 1.9960107057437426.\u001b[0m\n",
            "\u001b[32m[I 2023-01-11 20:39:41,935]\u001b[0m Trial 12 finished with value: 321.735487362543 and parameters: {'x': 2.4931935546333097, 'y': 2.633605403252217}. Best is trial 6 with value: 1.9960107057437426.\u001b[0m\n",
            "\u001b[32m[I 2023-01-11 20:39:41,946]\u001b[0m Trial 13 finished with value: 14.036390937385658 and parameters: {'x': -0.9119770590066107, 'y': 0.3030302266282594}. Best is trial 6 with value: 1.9960107057437426.\u001b[0m\n",
            "\u001b[32m[I 2023-01-11 20:39:41,957]\u001b[0m Trial 14 finished with value: 316.5239419509018 and parameters: {'x': 2.1761617012782155, 'y': -2.747369380952469}. Best is trial 6 with value: 1.9960107057437426.\u001b[0m\n",
            "\u001b[32m[I 2023-01-11 20:39:41,971]\u001b[0m Trial 15 finished with value: 704.3456400692709 and parameters: {'x': 1.3397777007635594, 'y': 4.315848757870505}. Best is trial 6 with value: 1.9960107057437426.\u001b[0m\n",
            "\u001b[32m[I 2023-01-11 20:39:41,983]\u001b[0m Trial 16 finished with value: 86.33163812546685 and parameters: {'x': 3.572078325672914, 'y': 1.6549293965285128}. Best is trial 6 with value: 1.9960107057437426.\u001b[0m\n",
            "\u001b[32m[I 2023-01-11 20:39:41,995]\u001b[0m Trial 17 finished with value: 54.19392205750481 and parameters: {'x': -1.1539720005999086, 'y': 3.0471735625735237}. Best is trial 6 with value: 1.9960107057437426.\u001b[0m\n",
            "\u001b[32m[I 2023-01-11 20:39:42,006]\u001b[0m Trial 18 finished with value: 22.009980568600326 and parameters: {'x': -2.2507900290725282, 'y': 0.5131994312247128}. Best is trial 6 with value: 1.9960107057437426.\u001b[0m\n",
            "\u001b[32m[I 2023-01-11 20:39:42,019]\u001b[0m Trial 19 finished with value: 8.019347776669905 and parameters: {'x': -0.2421519634555417, 'y': -1.6112770966839571}. Best is trial 6 with value: 1.9960107057437426.\u001b[0m\n",
            "\u001b[32m[I 2023-01-11 20:39:42,029]\u001b[0m Trial 20 finished with value: 360.5588501861368 and parameters: {'x': -4.386706252056874, 'y': 2.3901269430743386}. Best is trial 6 with value: 1.9960107057437426.\u001b[0m\n",
            "\u001b[32m[I 2023-01-11 20:39:42,041]\u001b[0m Trial 21 finished with value: 2.876028885030108 and parameters: {'x': 0.7137137423056966, 'y': -0.13575777342743248}. Best is trial 6 with value: 1.9960107057437426.\u001b[0m\n",
            "\u001b[32m[I 2023-01-11 20:39:42,052]\u001b[0m Trial 22 finished with value: 4.287918681744505 and parameters: {'x': 3.0088469406614977, 'y': -0.1469566265676614}. Best is trial 6 with value: 1.9960107057437426.\u001b[0m\n",
            "\u001b[32m[I 2023-01-11 20:39:42,067]\u001b[0m Trial 23 finished with value: 7.965340214377373 and parameters: {'x': 1.2381803681231616, 'y': 1.0423115857280563}. Best is trial 6 with value: 1.9960107057437426.\u001b[0m\n",
            "\u001b[32m[I 2023-01-11 20:39:42,079]\u001b[0m Trial 24 finished with value: 34.285862122122964 and parameters: {'x': -2.010916890439404, 'y': -0.4335968414102327}. Best is trial 6 with value: 1.9960107057437426.\u001b[0m\n",
            "\u001b[32m[I 2023-01-11 20:39:42,090]\u001b[0m Trial 25 finished with value: 339.1127400366181 and parameters: {'x': 4.326637524525631, 'y': 2.1158859608534937}. Best is trial 6 with value: 1.9960107057437426.\u001b[0m\n",
            "\u001b[32m[I 2023-01-11 20:39:42,100]\u001b[0m Trial 26 finished with value: 5.001319441210738 and parameters: {'x': -3.156268731209805, 'y': 1.065331687863688}. Best is trial 6 with value: 1.9960107057437426.\u001b[0m\n",
            "\u001b[32m[I 2023-01-11 20:39:42,111]\u001b[0m Trial 27 finished with value: 9.485936244073836 and parameters: {'x': -0.5023864728878276, 'y': 3.4031554958487993}. Best is trial 6 with value: 1.9960107057437426.\u001b[0m\n",
            "\u001b[32m[I 2023-01-11 20:39:42,126]\u001b[0m Trial 28 finished with value: 102.00159118714558 and parameters: {'x': 0.8455186049535985, 'y': -3.1687911851844937}. Best is trial 6 with value: 1.9960107057437426.\u001b[0m\n",
            "\u001b[32m[I 2023-01-11 20:39:42,141]\u001b[0m Trial 29 finished with value: 6.037983849714664 and parameters: {'x': 0.2543664851668773, 'y': 0.4483548173728269}. Best is trial 6 with value: 1.9960107057437426.\u001b[0m\n",
            "\u001b[32m[I 2023-01-11 20:39:42,154]\u001b[0m Trial 30 finished with value: 9.587661098940107 and parameters: {'x': 2.0340455570182727, 'y': -0.9219593023135363}. Best is trial 6 with value: 1.9960107057437426.\u001b[0m\n",
            "\u001b[32m[I 2023-01-11 20:39:42,167]\u001b[0m Trial 31 finished with value: 4.2936225362545315 and parameters: {'x': 3.020075490596445, 'y': -0.14127731367304083}. Best is trial 6 with value: 1.9960107057437426.\u001b[0m\n",
            "\u001b[32m[I 2023-01-11 20:39:42,180]\u001b[0m Trial 32 finished with value: 2.4416864082076746 and parameters: {'x': 3.7380589567213023, 'y': 0.8539148968858108}. Best is trial 6 with value: 1.9960107057437426.\u001b[0m\n",
            "\u001b[32m[I 2023-01-11 20:39:42,193]\u001b[0m Trial 33 finished with value: 8.652698464901913 and parameters: {'x': 3.9872314179002366, 'y': 1.0265497743877223}. Best is trial 6 with value: 1.9960107057437426.\u001b[0m\n",
            "\u001b[32m[I 2023-01-11 20:39:42,206]\u001b[0m Trial 34 finished with value: 84.63106177470662 and parameters: {'x': 3.1027723883627436, 'y': 1.7267207114202463}. Best is trial 6 with value: 1.9960107057437426.\u001b[0m\n",
            "\u001b[32m[I 2023-01-11 20:39:42,219]\u001b[0m Trial 35 finished with value: 33.52888551330987 and parameters: {'x': 4.359032028592179, 'y': -0.6720961214639943}. Best is trial 6 with value: 1.9960107057437426.\u001b[0m\n",
            "\u001b[32m[I 2023-01-11 20:39:42,232]\u001b[0m Trial 36 finished with value: 24.65693565981408 and parameters: {'x': 2.5106161860958127, 'y': 1.3553582060111273}. Best is trial 6 with value: 1.9960107057437426.\u001b[0m\n",
            "\u001b[32m[I 2023-01-11 20:39:42,246]\u001b[0m Trial 37 finished with value: 4.19135849782607 and parameters: {'x': 3.602480806327966, 'y': 0.14041624565439692}. Best is trial 6 with value: 1.9960107057437426.\u001b[0m\n",
            "\u001b[32m[I 2023-01-11 20:39:42,259]\u001b[0m Trial 38 finished with value: 4.473927537043929 and parameters: {'x': 0.969889080192905, 'y': 0.6901996527009662}. Best is trial 6 with value: 1.9960107057437426.\u001b[0m\n",
            "\u001b[32m[I 2023-01-11 20:39:42,274]\u001b[0m Trial 39 finished with value: 12.994880201521744 and parameters: {'x': 1.7691308225988451, 'y': -1.1413347646328333}. Best is trial 6 with value: 1.9960107057437426.\u001b[0m\n",
            "\u001b[32m[I 2023-01-11 20:39:42,288]\u001b[0m Trial 40 finished with value: 38.45335599058908 and parameters: {'x': -1.6122243114577204, 'y': -1.8120226258344116}. Best is trial 6 with value: 1.9960107057437426.\u001b[0m\n",
            "\u001b[32m[I 2023-01-11 20:39:42,301]\u001b[0m Trial 41 finished with value: 3.678274136614129 and parameters: {'x': 3.609520765501837, 'y': 0.17976384131505804}. Best is trial 6 with value: 1.9960107057437426.\u001b[0m\n",
            "\u001b[32m[I 2023-01-11 20:39:42,312]\u001b[0m Trial 42 finished with value: 11.071427801445555 and parameters: {'x': 3.8839274895984346, 'y': -0.14378867220546104}. Best is trial 6 with value: 1.9960107057437426.\u001b[0m\n",
            "\u001b[32m[I 2023-01-11 20:39:42,322]\u001b[0m Trial 43 finished with value: 3.8032355563064186 and parameters: {'x': 3.252866073429473, 'y': 0.8908570012926956}. Best is trial 6 with value: 1.9960107057437426.\u001b[0m\n",
            "\u001b[32m[I 2023-01-11 20:39:42,333]\u001b[0m Trial 44 finished with value: 42.91146766485956 and parameters: {'x': 2.607649416989167, 'y': 1.5446174502981425}. Best is trial 6 with value: 1.9960107057437426.\u001b[0m\n",
            "\u001b[32m[I 2023-01-11 20:39:42,349]\u001b[0m Trial 45 finished with value: 368.5384601962793 and parameters: {'x': 4.175660399402653, 'y': 2.1886522230574035}. Best is trial 6 with value: 1.9960107057437426.\u001b[0m\n",
            "\u001b[32m[I 2023-01-11 20:39:42,361]\u001b[0m Trial 46 finished with value: 18.365646403136726 and parameters: {'x': 3.5134578669535887, 'y': -0.6453465604299781}. Best is trial 6 with value: 1.9960107057437426.\u001b[0m\n",
            "\u001b[32m[I 2023-01-11 20:39:42,375]\u001b[0m Trial 47 finished with value: 12.140496465473664 and parameters: {'x': -0.7216104424398747, 'y': 0.35857039232109367}. Best is trial 6 with value: 1.9960107057437426.\u001b[0m\n",
            "\u001b[32m[I 2023-01-11 20:39:42,388]\u001b[0m Trial 48 finished with value: 9.372714596613047 and parameters: {'x': 0.4348487515804107, 'y': 1.329018166437978}. Best is trial 6 with value: 1.9960107057437426.\u001b[0m\n",
            "\u001b[32m[I 2023-01-11 20:39:42,400]\u001b[0m Trial 49 finished with value: 1032.3745055258441 and parameters: {'x': 4.475014451403338, 'y': 2.7162300735970133}. Best is trial 6 with value: 1.9960107057437426.\u001b[0m\n",
            "\u001b[32m[I 2023-01-11 20:39:42,413]\u001b[0m Trial 50 finished with value: 21.11296841515941 and parameters: {'x': -2.6805582047115, 'y': 1.877191746247046}. Best is trial 6 with value: 1.9960107057437426.\u001b[0m\n",
            "\u001b[32m[I 2023-01-11 20:39:42,436]\u001b[0m Trial 51 finished with value: 1.5832527613333784 and parameters: {'x': 3.2845864049309195, 'y': 0.7833112632138439}. Best is trial 51 with value: 1.5832527613333784.\u001b[0m\n",
            "\u001b[32m[I 2023-01-11 20:39:42,450]\u001b[0m Trial 52 finished with value: 7.661714260096316 and parameters: {'x': -0.07078909053369431, 'y': 0.4999154818573349}. Best is trial 51 with value: 1.5832527613333784.\u001b[0m\n",
            "\u001b[32m[I 2023-01-11 20:39:42,461]\u001b[0m Trial 53 finished with value: 7.153108522273115 and parameters: {'x': 3.842352267925159, 'y': 0.04861850078510513}. Best is trial 51 with value: 1.5832527613333784.\u001b[0m\n",
            "\u001b[32m[I 2023-01-11 20:39:42,472]\u001b[0m Trial 54 finished with value: 2.957151870400338 and parameters: {'x': 2.774585810381522, 'y': 0.8287209647466267}. Best is trial 51 with value: 1.5832527613333784.\u001b[0m\n",
            "\u001b[32m[I 2023-01-11 20:39:42,484]\u001b[0m Trial 55 finished with value: 4.538153989920825 and parameters: {'x': 2.8258831130036204, 'y': 0.9049506899959538}. Best is trial 51 with value: 1.5832527613333784.\u001b[0m\n",
            "\u001b[32m[I 2023-01-11 20:39:42,497]\u001b[0m Trial 56 finished with value: 72.4583266205293 and parameters: {'x': 2.2870277703450146, 'y': 1.8493778224867463}. Best is trial 51 with value: 1.5832527613333784.\u001b[0m\n",
            "\u001b[32m[I 2023-01-11 20:39:42,510]\u001b[0m Trial 57 finished with value: 437.7465663021135 and parameters: {'x': 1.70668146171265, 'y': 3.390679951570089}. Best is trial 51 with value: 1.5832527613333784.\u001b[0m\n",
            "\u001b[32m[I 2023-01-11 20:39:42,522]\u001b[0m Trial 58 finished with value: 28.66448549523403 and parameters: {'x': 3.250678055262024, 'y': 1.3247926405842458}. Best is trial 51 with value: 1.5832527613333784.\u001b[0m\n",
            "\u001b[32m[I 2023-01-11 20:39:42,535]\u001b[0m Trial 59 finished with value: 1.1801233431778957 and parameters: {'x': 2.706124308972475, 'y': 0.6950787170483221}. Best is trial 59 with value: 1.1801233431778957.\u001b[0m\n",
            "\u001b[32m[I 2023-01-11 20:39:42,547]\u001b[0m Trial 60 finished with value: 3.036635687779651 and parameters: {'x': 2.070950072242934, 'y': -0.4968983525184206}. Best is trial 59 with value: 1.1801233431778957.\u001b[0m\n",
            "\u001b[32m[I 2023-01-11 20:39:42,564]\u001b[0m Trial 61 finished with value: 1.7961265981535668 and parameters: {'x': 3.343968794794424, 'y': 0.8006404107807902}. Best is trial 59 with value: 1.1801233431778957.\u001b[0m\n",
            "\u001b[32m[I 2023-01-11 20:39:42,582]\u001b[0m Trial 62 finished with value: 9.448848128520796 and parameters: {'x': 3.5052463554964084, 'y': -0.254325783387629}. Best is trial 59 with value: 1.1801233431778957.\u001b[0m\n",
            "\u001b[32m[I 2023-01-11 20:39:42,597]\u001b[0m Trial 63 finished with value: 0.5920573496451171 and parameters: {'x': 3.9261622411355384, 'y': 0.5119416472962989}. Best is trial 63 with value: 0.5920573496451171.\u001b[0m\n",
            "\u001b[32m[I 2023-01-11 20:39:42,616]\u001b[0m Trial 64 finished with value: 25.380883643545122 and parameters: {'x': 4.114280271941811, 'y': 1.2335350414938242}. Best is trial 63 with value: 0.5920573496451171.\u001b[0m\n",
            "\u001b[32m[I 2023-01-11 20:39:42,628]\u001b[0m Trial 65 finished with value: 0.1473007553244403 and parameters: {'x': 3.9323422014522116, 'y': 0.6970269707969017}. Best is trial 65 with value: 0.1473007553244403.\u001b[0m\n",
            "\u001b[32m[I 2023-01-11 20:39:42,643]\u001b[0m Trial 66 finished with value: 0.16071196688750236 and parameters: {'x': 3.788185188013647, 'y': 0.6869132499026966}. Best is trial 65 with value: 0.1473007553244403.\u001b[0m\n",
            "\u001b[32m[I 2023-01-11 20:39:42,656]\u001b[0m Trial 67 finished with value: 0.11120214330531164 and parameters: {'x': 4.1231285326794005, 'y': 0.6136898768284831}. Best is trial 67 with value: 0.11120214330531164.\u001b[0m\n",
            "\u001b[32m[I 2023-01-11 20:39:42,669]\u001b[0m Trial 68 finished with value: 0.6846840994004888 and parameters: {'x': 3.2579207571037756, 'y': 0.7072275619557783}. Best is trial 67 with value: 0.11120214330531164.\u001b[0m\n",
            "\u001b[32m[I 2023-01-11 20:39:42,683]\u001b[0m Trial 69 finished with value: 5.095873939855073 and parameters: {'x': 4.089441571633991, 'y': 0.24320086876002622}. Best is trial 67 with value: 0.11120214330531164.\u001b[0m\n",
            "\u001b[32m[I 2023-01-11 20:39:42,694]\u001b[0m Trial 70 finished with value: 3342.114943884003 and parameters: {'x': 2.850344706574536, 'y': -4.459117528215164}. Best is trial 67 with value: 0.11120214330531164.\u001b[0m\n",
            "\u001b[32m[I 2023-01-11 20:39:42,707]\u001b[0m Trial 71 finished with value: 0.25242908487828625 and parameters: {'x': 3.3109720972615375, 'y': 0.6541237671637612}. Best is trial 67 with value: 0.11120214330531164.\u001b[0m\n",
            "\u001b[32m[I 2023-01-11 20:39:42,722]\u001b[0m Trial 72 finished with value: 0.008581963270910346 and parameters: {'x': 3.2997120378156337, 'y': 0.5392056428656742}. Best is trial 72 with value: 0.008581963270910346.\u001b[0m\n",
            "\u001b[32m[I 2023-01-11 20:39:42,735]\u001b[0m Trial 73 finished with value: 0.3916138503279559 and parameters: {'x': 3.843529937736033, 'y': 0.5249670140966183}. Best is trial 72 with value: 0.008581963270910346.\u001b[0m\n",
            "\u001b[32m[I 2023-01-11 20:39:42,747]\u001b[0m Trial 74 finished with value: 0.45912868319092437 and parameters: {'x': 3.7691008902645944, 'y': 0.5029935815175857}. Best is trial 72 with value: 0.008581963270910346.\u001b[0m\n",
            "\u001b[32m[I 2023-01-11 20:39:42,761]\u001b[0m Trial 75 finished with value: 0.8987111589972973 and parameters: {'x': 3.794230801657746, 'y': 0.4549393188494649}. Best is trial 72 with value: 0.008581963270910346.\u001b[0m\n",
            "\u001b[32m[I 2023-01-11 20:39:42,783]\u001b[0m Trial 76 finished with value: 15.535898499308088 and parameters: {'x': 4.31164057993189, 'y': 1.1232048739323608}. Best is trial 72 with value: 0.008581963270910346.\u001b[0m\n",
            "\u001b[32m[I 2023-01-11 20:39:42,796]\u001b[0m Trial 77 finished with value: 8.766562670588497 and parameters: {'x': 4.493389049394233, 'y': 0.19542805087626525}. Best is trial 72 with value: 0.008581963270910346.\u001b[0m\n",
            "\u001b[32m[I 2023-01-11 20:39:42,808]\u001b[0m Trial 78 finished with value: 59.0790275023466 and parameters: {'x': 3.958057779723009, 'y': 1.4750002587316884}. Best is trial 72 with value: 0.008581963270910346.\u001b[0m\n",
            "\u001b[32m[I 2023-01-11 20:39:42,822]\u001b[0m Trial 79 finished with value: 19.330366905203828 and parameters: {'x': 4.204031510424915, 'y': -0.3434156172427709}. Best is trial 72 with value: 0.008581963270910346.\u001b[0m\n",
            "\u001b[32m[I 2023-01-11 20:39:42,837]\u001b[0m Trial 80 finished with value: 6.322051172368576 and parameters: {'x': 3.6848085590819415, 'y': 0.03186575846852946}. Best is trial 72 with value: 0.008581963270910346.\u001b[0m\n",
            "\u001b[32m[I 2023-01-11 20:39:42,850]\u001b[0m Trial 81 finished with value: 0.059010217138961166 and parameters: {'x': 3.051360583255808, 'y': 0.5647188402895911}. Best is trial 72 with value: 0.008581963270910346.\u001b[0m\n",
            "\u001b[32m[I 2023-01-11 20:39:42,864]\u001b[0m Trial 82 finished with value: 0.013002576964985114 and parameters: {'x': 3.102228178563646, 'y': 0.5453732238629169}. Best is trial 72 with value: 0.008581963270910346.\u001b[0m\n",
            "\u001b[32m[I 2023-01-11 20:39:42,884]\u001b[0m Trial 83 finished with value: 12.56823293389304 and parameters: {'x': 2.3476548746247143, 'y': 1.152301582097602}. Best is trial 72 with value: 0.008581963270910346.\u001b[0m\n",
            "\u001b[32m[I 2023-01-11 20:39:42,904]\u001b[0m Trial 84 finished with value: 0.04704288623192607 and parameters: {'x': 3.0018695051926, 'y': 0.5502057460227479}. Best is trial 72 with value: 0.008581963270910346.\u001b[0m\n",
            "\u001b[32m[I 2023-01-11 20:39:42,920]\u001b[0m Trial 85 finished with value: 13.733754655257474 and parameters: {'x': 2.8996022310366385, 'y': -0.7498261473070593}. Best is trial 72 with value: 0.008581963270910346.\u001b[0m\n",
            "\u001b[32m[I 2023-01-11 20:39:42,931]\u001b[0m Trial 86 finished with value: 2.955424015964593 and parameters: {'x': 3.0421014570875933, 'y': 0.005350900436939199}. Best is trial 72 with value: 0.008581963270910346.\u001b[0m\n",
            "\u001b[32m[I 2023-01-11 20:39:42,942]\u001b[0m Trial 87 finished with value: 65.82192183227245 and parameters: {'x': 3.450842234041287, 'y': 1.5723918433223132}. Best is trial 72 with value: 0.008581963270910346.\u001b[0m\n",
            "\u001b[32m[I 2023-01-11 20:39:42,958]\u001b[0m Trial 88 finished with value: 0.03695330183084202 and parameters: {'x': 2.4514048692165273, 'y': 0.31105969801817746}. Best is trial 72 with value: 0.008581963270910346.\u001b[0m\n",
            "\u001b[32m[I 2023-01-11 20:39:42,969]\u001b[0m Trial 89 finished with value: 0.04313689940739462 and parameters: {'x': 2.428744677419426, 'y': 0.2982749898715122}. Best is trial 72 with value: 0.008581963270910346.\u001b[0m\n",
            "\u001b[32m[I 2023-01-11 20:39:42,980]\u001b[0m Trial 90 finished with value: 0.5807265088990375 and parameters: {'x': 3.040491729609241, 'y': 0.3145904476566875}. Best is trial 72 with value: 0.008581963270910346.\u001b[0m\n",
            "\u001b[32m[I 2023-01-11 20:39:42,992]\u001b[0m Trial 91 finished with value: 8.618156788465864 and parameters: {'x': 2.442722284416501, 'y': 1.0420218906627703}. Best is trial 72 with value: 0.008581963270910346.\u001b[0m\n",
            "\u001b[32m[I 2023-01-11 20:39:43,006]\u001b[0m Trial 92 finished with value: 0.6963794303402485 and parameters: {'x': 1.4187340403037887, 'y': -0.006009325174213567}. Best is trial 72 with value: 0.008581963270910346.\u001b[0m\n",
            "\u001b[32m[I 2023-01-11 20:39:43,018]\u001b[0m Trial 93 finished with value: 5.789304733389817 and parameters: {'x': 2.6087629454344032, 'y': -0.4914197218029721}. Best is trial 72 with value: 0.008581963270910346.\u001b[0m\n",
            "\u001b[32m[I 2023-01-11 20:39:43,033]\u001b[0m Trial 94 finished with value: 1.4305451042306325 and parameters: {'x': 2.01599046722192, 'y': 0.6037781456462554}. Best is trial 72 with value: 0.008581963270910346.\u001b[0m\n",
            "\u001b[32m[I 2023-01-11 20:39:43,047]\u001b[0m Trial 95 finished with value: 0.7356844667492259 and parameters: {'x': 3.0996523749194487, 'y': 0.3062056993134087}. Best is trial 72 with value: 0.008581963270910346.\u001b[0m\n",
            "\u001b[32m[I 2023-01-11 20:39:43,061]\u001b[0m Trial 96 finished with value: 7.159047218311624 and parameters: {'x': 1.933918754470511, 'y': 0.9933354012900923}. Best is trial 72 with value: 0.008581963270910346.\u001b[0m\n",
            "\u001b[32m[I 2023-01-11 20:39:43,077]\u001b[0m Trial 97 finished with value: 6.9504139736772075 and parameters: {'x': 3.403444354359548, 'y': -0.1474375141975055}. Best is trial 72 with value: 0.008581963270910346.\u001b[0m\n",
            "\u001b[32m[I 2023-01-11 20:39:43,090]\u001b[0m Trial 98 finished with value: 14.466675803830258 and parameters: {'x': 2.1938906779721985, 'y': -1.0317746778086414}. Best is trial 72 with value: 0.008581963270910346.\u001b[0m\n",
            "\u001b[32m[I 2023-01-11 20:39:43,102]\u001b[0m Trial 99 finished with value: 0.5845946073282343 and parameters: {'x': 2.664237883240701, 'y': 0.17806840265942991}. Best is trial 72 with value: 0.008581963270910346.\u001b[0m\n"
          ]
        }
      ]
    },
    {
      "cell_type": "code",
      "source": [
        "best_parameters = create_st.best_params\n",
        "x = best_parameters['x']\n",
        "y = best_parameters['y']\n",
        "\n",
        "print(\"Best parameters ({0},{1})\".format(x,y))\n",
        "print(\"Best value of function: {}\".format(create_st.best_value))"
      ],
      "metadata": {
        "colab": {
          "base_uri": "https://localhost:8080/"
        },
        "id": "xbdD9tqVjpzC",
        "outputId": "8fadd833-dddc-4d40-d480-5e14a6d76c77"
      },
      "execution_count": 22,
      "outputs": [
        {
          "output_type": "stream",
          "name": "stdout",
          "text": [
            "Best parameters (3.2997120378156337,0.5392056428656742)\n",
            "Best value of function: 0.008581963270910346\n"
          ]
        }
      ]
    },
    {
      "cell_type": "markdown",
      "source": [
        "## Датасет"
      ],
      "metadata": {
        "id": "DV3yN-xBkGnb"
      }
    },
    {
      "cell_type": "markdown",
      "source": [
        "Набор данных по распознаванию вин\n",
        "\n",
        "Характеристики набора данных:\n",
        "\n",
        "Количество экземпляров: 178 (по 50 в каждом из трех классов)\n",
        "\n",
        "Количество атрибутов: 13 числовых, прогнозных атрибутов и класса\n",
        "\n",
        "Информация об атрибутах\n",
        "\n",
        "- Алкоголь\n",
        "- Яблочная кислота\n",
        "- Пепел\n",
        "- Щелочность золы\n",
        "- Магний\n",
        "- Общие фенолы\n",
        "- Флаваноиды\n",
        "- Нефлаваноидные фенолы\n",
        "- Проантоцианы\n",
        "- Интенсивность цвета\n",
        "- Оттенок\n",
        "- OD280 / OD315 разбавленных вин\n",
        "- Пролин \\\n",
        "\n",
        "Класс:\n",
        "\n",
        "- class_0\n",
        "- class_1\n",
        "- class_2\n"
      ],
      "metadata": {
        "id": "SJuOfx7bkL7w"
      }
    },
    {
      "cell_type": "code",
      "source": [
        "import logging\n",
        "import sys\n",
        "import sklearn.datasets\n",
        "import sklearn.linear_model\n",
        "import sklearn.metrics\n",
        "\n",
        "def objective(trial):\n",
        "    classif_method = trial.suggest_categorical('classifier', ('SGDClassifier', 'RidgeClassifier'))\n",
        "    if classif_method == 'RidgeClassifier':\n",
        "        ridge_alpha = trial.suggest_uniform('ridge_alpha', 0.0, 2.0)\n",
        "        model = sklearn.linear_model.RidgeClassifier(alpha=ridge_alpha)\n",
        "    else:\n",
        "        sgd_alpha = trial.suggest_uniform('sgd_alpha', 0.0, 2.0)\n",
        "        model = sklearn.linear_model.SGDClassifier(alpha=sgd_alpha)\n",
        "    \n",
        "    X, y = sklearn.datasets.load_wine(return_X_y=True)\n",
        "    X_train, X_val, y_train, y_val = sklearn.model_selection.train_test_split(X, y, random_state=0)\n",
        "    \n",
        "    for i in range(100):\n",
        "      model = model.fit(X_train, y_train)\n",
        "      y_pred = model.predict(X_val)\n",
        "      error = sklearn.metrics.mean_squared_error(y_val, y_pred)\n",
        "\n",
        "      intermediate_value = error\n",
        "      trial.report(intermediate_value, i)\n",
        "\n",
        "      if trial.should_prune():\n",
        "          raise optuna.TrialPruned()\n",
        "\n",
        "    return error\n",
        "\n",
        "optuna.logging.get_logger(\"optuna\").addHandler(logging.StreamHandler(sys.stdout))\n",
        "create_st = optuna.create_study(pruner=optuna.pruners.MedianPruner())\n",
        "create_st.optimize(objective, n_trials=10)"
      ],
      "metadata": {
        "colab": {
          "base_uri": "https://localhost:8080/"
        },
        "id": "U-eWQfqCkML7",
        "outputId": "f6384690-8d25-4717-ca65-2ed841183319"
      },
      "execution_count": 25,
      "outputs": [
        {
          "output_type": "stream",
          "name": "stderr",
          "text": [
            "\u001b[32m[I 2023-01-11 21:45:00,941]\u001b[0m A new study created in memory with name: no-name-0dace083-61b9-47ce-9f91-ea1253f7577d\u001b[0m\n"
          ]
        },
        {
          "output_type": "stream",
          "name": "stdout",
          "text": [
            "A new study created in memory with name: no-name-0dace083-61b9-47ce-9f91-ea1253f7577d\n",
            "A new study created in memory with name: no-name-0dace083-61b9-47ce-9f91-ea1253f7577d\n",
            "A new study created in memory with name: no-name-0dace083-61b9-47ce-9f91-ea1253f7577d\n"
          ]
        },
        {
          "output_type": "stream",
          "name": "stderr",
          "text": [
            "<ipython-input-25-c75105839d37>:13: FutureWarning: suggest_uniform has been deprecated in v3.0.0. This feature will be removed in v6.0.0. See https://github.com/optuna/optuna/releases/tag/v3.0.0. Use :func:`~optuna.trial.Trial.suggest_float` instead.\n",
            "  sgd_alpha = trial.suggest_uniform('sgd_alpha', 0.0, 2.0)\n",
            "\u001b[32m[I 2023-01-11 21:45:01,303]\u001b[0m Trial 0 finished with value: 0.26666666666666666 and parameters: {'classifier': 'SGDClassifier', 'sgd_alpha': 0.5413041528873119}. Best is trial 0 with value: 0.26666666666666666.\u001b[0m\n"
          ]
        },
        {
          "output_type": "stream",
          "name": "stdout",
          "text": [
            "Trial 0 finished with value: 0.26666666666666666 and parameters: {'classifier': 'SGDClassifier', 'sgd_alpha': 0.5413041528873119}. Best is trial 0 with value: 0.26666666666666666.\n",
            "Trial 0 finished with value: 0.26666666666666666 and parameters: {'classifier': 'SGDClassifier', 'sgd_alpha': 0.5413041528873119}. Best is trial 0 with value: 0.26666666666666666.\n",
            "Trial 0 finished with value: 0.26666666666666666 and parameters: {'classifier': 'SGDClassifier', 'sgd_alpha': 0.5413041528873119}. Best is trial 0 with value: 0.26666666666666666.\n"
          ]
        },
        {
          "output_type": "stream",
          "name": "stderr",
          "text": [
            "<ipython-input-25-c75105839d37>:13: FutureWarning: suggest_uniform has been deprecated in v3.0.0. This feature will be removed in v6.0.0. See https://github.com/optuna/optuna/releases/tag/v3.0.0. Use :func:`~optuna.trial.Trial.suggest_float` instead.\n",
            "  sgd_alpha = trial.suggest_uniform('sgd_alpha', 0.0, 2.0)\n",
            "\u001b[32m[I 2023-01-11 21:45:01,633]\u001b[0m Trial 1 finished with value: 0.5555555555555556 and parameters: {'classifier': 'SGDClassifier', 'sgd_alpha': 1.1119602261198187}. Best is trial 0 with value: 0.26666666666666666.\u001b[0m\n"
          ]
        },
        {
          "output_type": "stream",
          "name": "stdout",
          "text": [
            "Trial 1 finished with value: 0.5555555555555556 and parameters: {'classifier': 'SGDClassifier', 'sgd_alpha': 1.1119602261198187}. Best is trial 0 with value: 0.26666666666666666.\n",
            "Trial 1 finished with value: 0.5555555555555556 and parameters: {'classifier': 'SGDClassifier', 'sgd_alpha': 1.1119602261198187}. Best is trial 0 with value: 0.26666666666666666.\n",
            "Trial 1 finished with value: 0.5555555555555556 and parameters: {'classifier': 'SGDClassifier', 'sgd_alpha': 1.1119602261198187}. Best is trial 0 with value: 0.26666666666666666.\n"
          ]
        },
        {
          "output_type": "stream",
          "name": "stderr",
          "text": [
            "<ipython-input-25-c75105839d37>:10: FutureWarning: suggest_uniform has been deprecated in v3.0.0. This feature will be removed in v6.0.0. See https://github.com/optuna/optuna/releases/tag/v3.0.0. Use :func:`~optuna.trial.Trial.suggest_float` instead.\n",
            "  ridge_alpha = trial.suggest_uniform('ridge_alpha', 0.0, 2.0)\n",
            "\u001b[32m[I 2023-01-11 21:45:01,855]\u001b[0m Trial 2 finished with value: 0.0 and parameters: {'classifier': 'RidgeClassifier', 'ridge_alpha': 0.21745698711628791}. Best is trial 2 with value: 0.0.\u001b[0m\n"
          ]
        },
        {
          "output_type": "stream",
          "name": "stdout",
          "text": [
            "Trial 2 finished with value: 0.0 and parameters: {'classifier': 'RidgeClassifier', 'ridge_alpha': 0.21745698711628791}. Best is trial 2 with value: 0.0.\n",
            "Trial 2 finished with value: 0.0 and parameters: {'classifier': 'RidgeClassifier', 'ridge_alpha': 0.21745698711628791}. Best is trial 2 with value: 0.0.\n",
            "Trial 2 finished with value: 0.0 and parameters: {'classifier': 'RidgeClassifier', 'ridge_alpha': 0.21745698711628791}. Best is trial 2 with value: 0.0.\n"
          ]
        },
        {
          "output_type": "stream",
          "name": "stderr",
          "text": [
            "<ipython-input-25-c75105839d37>:13: FutureWarning: suggest_uniform has been deprecated in v3.0.0. This feature will be removed in v6.0.0. See https://github.com/optuna/optuna/releases/tag/v3.0.0. Use :func:`~optuna.trial.Trial.suggest_float` instead.\n",
            "  sgd_alpha = trial.suggest_uniform('sgd_alpha', 0.0, 2.0)\n",
            "\u001b[32m[I 2023-01-11 21:45:02,196]\u001b[0m Trial 3 finished with value: 0.6444444444444445 and parameters: {'classifier': 'SGDClassifier', 'sgd_alpha': 1.6931696701006147}. Best is trial 2 with value: 0.0.\u001b[0m\n"
          ]
        },
        {
          "output_type": "stream",
          "name": "stdout",
          "text": [
            "Trial 3 finished with value: 0.6444444444444445 and parameters: {'classifier': 'SGDClassifier', 'sgd_alpha': 1.6931696701006147}. Best is trial 2 with value: 0.0.\n",
            "Trial 3 finished with value: 0.6444444444444445 and parameters: {'classifier': 'SGDClassifier', 'sgd_alpha': 1.6931696701006147}. Best is trial 2 with value: 0.0.\n",
            "Trial 3 finished with value: 0.6444444444444445 and parameters: {'classifier': 'SGDClassifier', 'sgd_alpha': 1.6931696701006147}. Best is trial 2 with value: 0.0.\n"
          ]
        },
        {
          "output_type": "stream",
          "name": "stderr",
          "text": [
            "<ipython-input-25-c75105839d37>:10: FutureWarning: suggest_uniform has been deprecated in v3.0.0. This feature will be removed in v6.0.0. See https://github.com/optuna/optuna/releases/tag/v3.0.0. Use :func:`~optuna.trial.Trial.suggest_float` instead.\n",
            "  ridge_alpha = trial.suggest_uniform('ridge_alpha', 0.0, 2.0)\n",
            "\u001b[32m[I 2023-01-11 21:45:02,421]\u001b[0m Trial 4 finished with value: 0.0 and parameters: {'classifier': 'RidgeClassifier', 'ridge_alpha': 0.33374453462093867}. Best is trial 2 with value: 0.0.\u001b[0m\n"
          ]
        },
        {
          "output_type": "stream",
          "name": "stdout",
          "text": [
            "Trial 4 finished with value: 0.0 and parameters: {'classifier': 'RidgeClassifier', 'ridge_alpha': 0.33374453462093867}. Best is trial 2 with value: 0.0.\n",
            "Trial 4 finished with value: 0.0 and parameters: {'classifier': 'RidgeClassifier', 'ridge_alpha': 0.33374453462093867}. Best is trial 2 with value: 0.0.\n",
            "Trial 4 finished with value: 0.0 and parameters: {'classifier': 'RidgeClassifier', 'ridge_alpha': 0.33374453462093867}. Best is trial 2 with value: 0.0.\n"
          ]
        },
        {
          "output_type": "stream",
          "name": "stderr",
          "text": [
            "<ipython-input-25-c75105839d37>:13: FutureWarning: suggest_uniform has been deprecated in v3.0.0. This feature will be removed in v6.0.0. See https://github.com/optuna/optuna/releases/tag/v3.0.0. Use :func:`~optuna.trial.Trial.suggest_float` instead.\n",
            "  sgd_alpha = trial.suggest_uniform('sgd_alpha', 0.0, 2.0)\n",
            "\u001b[32m[I 2023-01-11 21:45:02,441]\u001b[0m Trial 5 pruned. \u001b[0m\n"
          ]
        },
        {
          "output_type": "stream",
          "name": "stdout",
          "text": [
            "Trial 5 pruned. \n",
            "Trial 5 pruned. \n",
            "Trial 5 pruned. \n"
          ]
        },
        {
          "output_type": "stream",
          "name": "stderr",
          "text": [
            "<ipython-input-25-c75105839d37>:13: FutureWarning: suggest_uniform has been deprecated in v3.0.0. This feature will be removed in v6.0.0. See https://github.com/optuna/optuna/releases/tag/v3.0.0. Use :func:`~optuna.trial.Trial.suggest_float` instead.\n",
            "  sgd_alpha = trial.suggest_uniform('sgd_alpha', 0.0, 2.0)\n",
            "\u001b[32m[I 2023-01-11 21:45:02,463]\u001b[0m Trial 6 pruned. \u001b[0m\n"
          ]
        },
        {
          "output_type": "stream",
          "name": "stdout",
          "text": [
            "Trial 6 pruned. \n",
            "Trial 6 pruned. \n",
            "Trial 6 pruned. \n"
          ]
        },
        {
          "output_type": "stream",
          "name": "stderr",
          "text": [
            "<ipython-input-25-c75105839d37>:10: FutureWarning: suggest_uniform has been deprecated in v3.0.0. This feature will be removed in v6.0.0. See https://github.com/optuna/optuna/releases/tag/v3.0.0. Use :func:`~optuna.trial.Trial.suggest_float` instead.\n",
            "  ridge_alpha = trial.suggest_uniform('ridge_alpha', 0.0, 2.0)\n",
            "\u001b[32m[I 2023-01-11 21:45:02,703]\u001b[0m Trial 7 finished with value: 0.0 and parameters: {'classifier': 'RidgeClassifier', 'ridge_alpha': 1.62710711563136}. Best is trial 2 with value: 0.0.\u001b[0m\n"
          ]
        },
        {
          "output_type": "stream",
          "name": "stdout",
          "text": [
            "Trial 7 finished with value: 0.0 and parameters: {'classifier': 'RidgeClassifier', 'ridge_alpha': 1.62710711563136}. Best is trial 2 with value: 0.0.\n",
            "Trial 7 finished with value: 0.0 and parameters: {'classifier': 'RidgeClassifier', 'ridge_alpha': 1.62710711563136}. Best is trial 2 with value: 0.0.\n",
            "Trial 7 finished with value: 0.0 and parameters: {'classifier': 'RidgeClassifier', 'ridge_alpha': 1.62710711563136}. Best is trial 2 with value: 0.0.\n"
          ]
        },
        {
          "output_type": "stream",
          "name": "stderr",
          "text": [
            "<ipython-input-25-c75105839d37>:13: FutureWarning: suggest_uniform has been deprecated in v3.0.0. This feature will be removed in v6.0.0. See https://github.com/optuna/optuna/releases/tag/v3.0.0. Use :func:`~optuna.trial.Trial.suggest_float` instead.\n",
            "  sgd_alpha = trial.suggest_uniform('sgd_alpha', 0.0, 2.0)\n",
            "\u001b[32m[I 2023-01-11 21:45:02,724]\u001b[0m Trial 8 pruned. \u001b[0m\n"
          ]
        },
        {
          "output_type": "stream",
          "name": "stdout",
          "text": [
            "Trial 8 pruned. \n",
            "Trial 8 pruned. \n",
            "Trial 8 pruned. \n"
          ]
        },
        {
          "output_type": "stream",
          "name": "stderr",
          "text": [
            "<ipython-input-25-c75105839d37>:13: FutureWarning: suggest_uniform has been deprecated in v3.0.0. This feature will be removed in v6.0.0. See https://github.com/optuna/optuna/releases/tag/v3.0.0. Use :func:`~optuna.trial.Trial.suggest_float` instead.\n",
            "  sgd_alpha = trial.suggest_uniform('sgd_alpha', 0.0, 2.0)\n",
            "\u001b[32m[I 2023-01-11 21:45:02,742]\u001b[0m Trial 9 pruned. \u001b[0m\n"
          ]
        },
        {
          "output_type": "stream",
          "name": "stdout",
          "text": [
            "Trial 9 pruned. \n",
            "Trial 9 pruned. \n",
            "Trial 9 pruned. \n"
          ]
        }
      ]
    },
    {
      "cell_type": "code",
      "source": [
        "create_st.best_params"
      ],
      "metadata": {
        "colab": {
          "base_uri": "https://localhost:8080/"
        },
        "id": "PGqNTQGvytqo",
        "outputId": "af555ada-7516-470c-99b0-e32a3d99e379"
      },
      "execution_count": 26,
      "outputs": [
        {
          "output_type": "execute_result",
          "data": {
            "text/plain": [
              "{'classifier': 'RidgeClassifier', 'ridge_alpha': 0.21745698711628791}"
            ]
          },
          "metadata": {},
          "execution_count": 26
        }
      ]
    },
    {
      "cell_type": "code",
      "source": [
        "from optuna.visualization import plot_contour\n",
        "from optuna.visualization import plot_edf\n",
        "from optuna.visualization import plot_intermediate_values\n",
        "from optuna.visualization import plot_optimization_history\n",
        "from optuna.visualization import plot_parallel_coordinate\n",
        "from optuna.visualization import plot_param_importances\n",
        "from optuna.visualization import plot_slice"
      ],
      "metadata": {
        "id": "BLSwggQ-y4q_"
      },
      "execution_count": 27,
      "outputs": []
    },
    {
      "cell_type": "code",
      "source": [
        "plot_optimization_history(create_st)"
      ],
      "metadata": {
        "colab": {
          "base_uri": "https://localhost:8080/",
          "height": 542
        },
        "id": "oxpZPZ4Jy7en",
        "outputId": "f86b4b4f-81a7-4250-acc8-2fa92c21025c"
      },
      "execution_count": 28,
      "outputs": [
        {
          "output_type": "display_data",
          "data": {
            "text/html": [
              "<html>\n",
              "<head><meta charset=\"utf-8\" /></head>\n",
              "<body>\n",
              "    <div>            <script src=\"https://cdnjs.cloudflare.com/ajax/libs/mathjax/2.7.5/MathJax.js?config=TeX-AMS-MML_SVG\"></script><script type=\"text/javascript\">if (window.MathJax) {MathJax.Hub.Config({SVG: {font: \"STIX-Web\"}});}</script>                <script type=\"text/javascript\">window.PlotlyConfig = {MathJaxConfig: 'local'};</script>\n",
              "        <script src=\"https://cdn.plot.ly/plotly-2.8.3.min.js\"></script>                <div id=\"a4887c81-21ce-45e4-9eaa-912e3db11538\" class=\"plotly-graph-div\" style=\"height:525px; width:100%;\"></div>            <script type=\"text/javascript\">                                    window.PLOTLYENV=window.PLOTLYENV || {};                                    if (document.getElementById(\"a4887c81-21ce-45e4-9eaa-912e3db11538\")) {                    Plotly.newPlot(                        \"a4887c81-21ce-45e4-9eaa-912e3db11538\",                        [{\"mode\":\"markers\",\"name\":\"Objective Value\",\"x\":[0,1,2,3,4,7],\"y\":[0.26666666666666666,0.5555555555555556,0.0,0.6444444444444445,0.0,0.0],\"type\":\"scatter\"},{\"name\":\"Best Value\",\"x\":[0,1,2,3,4,7],\"y\":[0.26666666666666666,0.26666666666666666,0.0,0.0,0.0,0.0],\"type\":\"scatter\"}],                        {\"title\":{\"text\":\"Optimization History Plot\"},\"xaxis\":{\"title\":{\"text\":\"Trial\"}},\"yaxis\":{\"title\":{\"text\":\"Objective Value\"}},\"template\":{\"data\":{\"bar\":[{\"error_x\":{\"color\":\"#2a3f5f\"},\"error_y\":{\"color\":\"#2a3f5f\"},\"marker\":{\"line\":{\"color\":\"#E5ECF6\",\"width\":0.5},\"pattern\":{\"fillmode\":\"overlay\",\"size\":10,\"solidity\":0.2}},\"type\":\"bar\"}],\"barpolar\":[{\"marker\":{\"line\":{\"color\":\"#E5ECF6\",\"width\":0.5},\"pattern\":{\"fillmode\":\"overlay\",\"size\":10,\"solidity\":0.2}},\"type\":\"barpolar\"}],\"carpet\":[{\"aaxis\":{\"endlinecolor\":\"#2a3f5f\",\"gridcolor\":\"white\",\"linecolor\":\"white\",\"minorgridcolor\":\"white\",\"startlinecolor\":\"#2a3f5f\"},\"baxis\":{\"endlinecolor\":\"#2a3f5f\",\"gridcolor\":\"white\",\"linecolor\":\"white\",\"minorgridcolor\":\"white\",\"startlinecolor\":\"#2a3f5f\"},\"type\":\"carpet\"}],\"choropleth\":[{\"colorbar\":{\"outlinewidth\":0,\"ticks\":\"\"},\"type\":\"choropleth\"}],\"contour\":[{\"colorbar\":{\"outlinewidth\":0,\"ticks\":\"\"},\"colorscale\":[[0.0,\"#0d0887\"],[0.1111111111111111,\"#46039f\"],[0.2222222222222222,\"#7201a8\"],[0.3333333333333333,\"#9c179e\"],[0.4444444444444444,\"#bd3786\"],[0.5555555555555556,\"#d8576b\"],[0.6666666666666666,\"#ed7953\"],[0.7777777777777778,\"#fb9f3a\"],[0.8888888888888888,\"#fdca26\"],[1.0,\"#f0f921\"]],\"type\":\"contour\"}],\"contourcarpet\":[{\"colorbar\":{\"outlinewidth\":0,\"ticks\":\"\"},\"type\":\"contourcarpet\"}],\"heatmap\":[{\"colorbar\":{\"outlinewidth\":0,\"ticks\":\"\"},\"colorscale\":[[0.0,\"#0d0887\"],[0.1111111111111111,\"#46039f\"],[0.2222222222222222,\"#7201a8\"],[0.3333333333333333,\"#9c179e\"],[0.4444444444444444,\"#bd3786\"],[0.5555555555555556,\"#d8576b\"],[0.6666666666666666,\"#ed7953\"],[0.7777777777777778,\"#fb9f3a\"],[0.8888888888888888,\"#fdca26\"],[1.0,\"#f0f921\"]],\"type\":\"heatmap\"}],\"heatmapgl\":[{\"colorbar\":{\"outlinewidth\":0,\"ticks\":\"\"},\"colorscale\":[[0.0,\"#0d0887\"],[0.1111111111111111,\"#46039f\"],[0.2222222222222222,\"#7201a8\"],[0.3333333333333333,\"#9c179e\"],[0.4444444444444444,\"#bd3786\"],[0.5555555555555556,\"#d8576b\"],[0.6666666666666666,\"#ed7953\"],[0.7777777777777778,\"#fb9f3a\"],[0.8888888888888888,\"#fdca26\"],[1.0,\"#f0f921\"]],\"type\":\"heatmapgl\"}],\"histogram\":[{\"marker\":{\"pattern\":{\"fillmode\":\"overlay\",\"size\":10,\"solidity\":0.2}},\"type\":\"histogram\"}],\"histogram2d\":[{\"colorbar\":{\"outlinewidth\":0,\"ticks\":\"\"},\"colorscale\":[[0.0,\"#0d0887\"],[0.1111111111111111,\"#46039f\"],[0.2222222222222222,\"#7201a8\"],[0.3333333333333333,\"#9c179e\"],[0.4444444444444444,\"#bd3786\"],[0.5555555555555556,\"#d8576b\"],[0.6666666666666666,\"#ed7953\"],[0.7777777777777778,\"#fb9f3a\"],[0.8888888888888888,\"#fdca26\"],[1.0,\"#f0f921\"]],\"type\":\"histogram2d\"}],\"histogram2dcontour\":[{\"colorbar\":{\"outlinewidth\":0,\"ticks\":\"\"},\"colorscale\":[[0.0,\"#0d0887\"],[0.1111111111111111,\"#46039f\"],[0.2222222222222222,\"#7201a8\"],[0.3333333333333333,\"#9c179e\"],[0.4444444444444444,\"#bd3786\"],[0.5555555555555556,\"#d8576b\"],[0.6666666666666666,\"#ed7953\"],[0.7777777777777778,\"#fb9f3a\"],[0.8888888888888888,\"#fdca26\"],[1.0,\"#f0f921\"]],\"type\":\"histogram2dcontour\"}],\"mesh3d\":[{\"colorbar\":{\"outlinewidth\":0,\"ticks\":\"\"},\"type\":\"mesh3d\"}],\"parcoords\":[{\"line\":{\"colorbar\":{\"outlinewidth\":0,\"ticks\":\"\"}},\"type\":\"parcoords\"}],\"pie\":[{\"automargin\":true,\"type\":\"pie\"}],\"scatter\":[{\"marker\":{\"colorbar\":{\"outlinewidth\":0,\"ticks\":\"\"}},\"type\":\"scatter\"}],\"scatter3d\":[{\"line\":{\"colorbar\":{\"outlinewidth\":0,\"ticks\":\"\"}},\"marker\":{\"colorbar\":{\"outlinewidth\":0,\"ticks\":\"\"}},\"type\":\"scatter3d\"}],\"scattercarpet\":[{\"marker\":{\"colorbar\":{\"outlinewidth\":0,\"ticks\":\"\"}},\"type\":\"scattercarpet\"}],\"scattergeo\":[{\"marker\":{\"colorbar\":{\"outlinewidth\":0,\"ticks\":\"\"}},\"type\":\"scattergeo\"}],\"scattergl\":[{\"marker\":{\"colorbar\":{\"outlinewidth\":0,\"ticks\":\"\"}},\"type\":\"scattergl\"}],\"scattermapbox\":[{\"marker\":{\"colorbar\":{\"outlinewidth\":0,\"ticks\":\"\"}},\"type\":\"scattermapbox\"}],\"scatterpolar\":[{\"marker\":{\"colorbar\":{\"outlinewidth\":0,\"ticks\":\"\"}},\"type\":\"scatterpolar\"}],\"scatterpolargl\":[{\"marker\":{\"colorbar\":{\"outlinewidth\":0,\"ticks\":\"\"}},\"type\":\"scatterpolargl\"}],\"scatterternary\":[{\"marker\":{\"colorbar\":{\"outlinewidth\":0,\"ticks\":\"\"}},\"type\":\"scatterternary\"}],\"surface\":[{\"colorbar\":{\"outlinewidth\":0,\"ticks\":\"\"},\"colorscale\":[[0.0,\"#0d0887\"],[0.1111111111111111,\"#46039f\"],[0.2222222222222222,\"#7201a8\"],[0.3333333333333333,\"#9c179e\"],[0.4444444444444444,\"#bd3786\"],[0.5555555555555556,\"#d8576b\"],[0.6666666666666666,\"#ed7953\"],[0.7777777777777778,\"#fb9f3a\"],[0.8888888888888888,\"#fdca26\"],[1.0,\"#f0f921\"]],\"type\":\"surface\"}],\"table\":[{\"cells\":{\"fill\":{\"color\":\"#EBF0F8\"},\"line\":{\"color\":\"white\"}},\"header\":{\"fill\":{\"color\":\"#C8D4E3\"},\"line\":{\"color\":\"white\"}},\"type\":\"table\"}]},\"layout\":{\"annotationdefaults\":{\"arrowcolor\":\"#2a3f5f\",\"arrowhead\":0,\"arrowwidth\":1},\"autotypenumbers\":\"strict\",\"coloraxis\":{\"colorbar\":{\"outlinewidth\":0,\"ticks\":\"\"}},\"colorscale\":{\"diverging\":[[0,\"#8e0152\"],[0.1,\"#c51b7d\"],[0.2,\"#de77ae\"],[0.3,\"#f1b6da\"],[0.4,\"#fde0ef\"],[0.5,\"#f7f7f7\"],[0.6,\"#e6f5d0\"],[0.7,\"#b8e186\"],[0.8,\"#7fbc41\"],[0.9,\"#4d9221\"],[1,\"#276419\"]],\"sequential\":[[0.0,\"#0d0887\"],[0.1111111111111111,\"#46039f\"],[0.2222222222222222,\"#7201a8\"],[0.3333333333333333,\"#9c179e\"],[0.4444444444444444,\"#bd3786\"],[0.5555555555555556,\"#d8576b\"],[0.6666666666666666,\"#ed7953\"],[0.7777777777777778,\"#fb9f3a\"],[0.8888888888888888,\"#fdca26\"],[1.0,\"#f0f921\"]],\"sequentialminus\":[[0.0,\"#0d0887\"],[0.1111111111111111,\"#46039f\"],[0.2222222222222222,\"#7201a8\"],[0.3333333333333333,\"#9c179e\"],[0.4444444444444444,\"#bd3786\"],[0.5555555555555556,\"#d8576b\"],[0.6666666666666666,\"#ed7953\"],[0.7777777777777778,\"#fb9f3a\"],[0.8888888888888888,\"#fdca26\"],[1.0,\"#f0f921\"]]},\"colorway\":[\"#636efa\",\"#EF553B\",\"#00cc96\",\"#ab63fa\",\"#FFA15A\",\"#19d3f3\",\"#FF6692\",\"#B6E880\",\"#FF97FF\",\"#FECB52\"],\"font\":{\"color\":\"#2a3f5f\"},\"geo\":{\"bgcolor\":\"white\",\"lakecolor\":\"white\",\"landcolor\":\"#E5ECF6\",\"showlakes\":true,\"showland\":true,\"subunitcolor\":\"white\"},\"hoverlabel\":{\"align\":\"left\"},\"hovermode\":\"closest\",\"mapbox\":{\"style\":\"light\"},\"paper_bgcolor\":\"white\",\"plot_bgcolor\":\"#E5ECF6\",\"polar\":{\"angularaxis\":{\"gridcolor\":\"white\",\"linecolor\":\"white\",\"ticks\":\"\"},\"bgcolor\":\"#E5ECF6\",\"radialaxis\":{\"gridcolor\":\"white\",\"linecolor\":\"white\",\"ticks\":\"\"}},\"scene\":{\"xaxis\":{\"backgroundcolor\":\"#E5ECF6\",\"gridcolor\":\"white\",\"gridwidth\":2,\"linecolor\":\"white\",\"showbackground\":true,\"ticks\":\"\",\"zerolinecolor\":\"white\"},\"yaxis\":{\"backgroundcolor\":\"#E5ECF6\",\"gridcolor\":\"white\",\"gridwidth\":2,\"linecolor\":\"white\",\"showbackground\":true,\"ticks\":\"\",\"zerolinecolor\":\"white\"},\"zaxis\":{\"backgroundcolor\":\"#E5ECF6\",\"gridcolor\":\"white\",\"gridwidth\":2,\"linecolor\":\"white\",\"showbackground\":true,\"ticks\":\"\",\"zerolinecolor\":\"white\"}},\"shapedefaults\":{\"line\":{\"color\":\"#2a3f5f\"}},\"ternary\":{\"aaxis\":{\"gridcolor\":\"white\",\"linecolor\":\"white\",\"ticks\":\"\"},\"baxis\":{\"gridcolor\":\"white\",\"linecolor\":\"white\",\"ticks\":\"\"},\"bgcolor\":\"#E5ECF6\",\"caxis\":{\"gridcolor\":\"white\",\"linecolor\":\"white\",\"ticks\":\"\"}},\"title\":{\"x\":0.05},\"xaxis\":{\"automargin\":true,\"gridcolor\":\"white\",\"linecolor\":\"white\",\"ticks\":\"\",\"title\":{\"standoff\":15},\"zerolinecolor\":\"white\",\"zerolinewidth\":2},\"yaxis\":{\"automargin\":true,\"gridcolor\":\"white\",\"linecolor\":\"white\",\"ticks\":\"\",\"title\":{\"standoff\":15},\"zerolinecolor\":\"white\",\"zerolinewidth\":2}}}},                        {\"responsive\": true}                    ).then(function(){\n",
              "                            \n",
              "var gd = document.getElementById('a4887c81-21ce-45e4-9eaa-912e3db11538');\n",
              "var x = new MutationObserver(function (mutations, observer) {{\n",
              "        var display = window.getComputedStyle(gd).display;\n",
              "        if (!display || display === 'none') {{\n",
              "            console.log([gd, 'removed!']);\n",
              "            Plotly.purge(gd);\n",
              "            observer.disconnect();\n",
              "        }}\n",
              "}});\n",
              "\n",
              "// Listen for the removal of the full notebook cells\n",
              "var notebookContainer = gd.closest('#notebook-container');\n",
              "if (notebookContainer) {{\n",
              "    x.observe(notebookContainer, {childList: true});\n",
              "}}\n",
              "\n",
              "// Listen for the clearing of the current output cell\n",
              "var outputEl = gd.closest('.output');\n",
              "if (outputEl) {{\n",
              "    x.observe(outputEl, {childList: true});\n",
              "}}\n",
              "\n",
              "                        })                };                            </script>        </div>\n",
              "</body>\n",
              "</html>"
            ]
          },
          "metadata": {}
        }
      ]
    },
    {
      "cell_type": "code",
      "source": [
        "plot_intermediate_values(create_st)"
      ],
      "metadata": {
        "colab": {
          "base_uri": "https://localhost:8080/",
          "height": 542
        },
        "id": "xnC1FzBKy966",
        "outputId": "1d46c61d-ea91-4213-99ac-baea154be3e5"
      },
      "execution_count": 29,
      "outputs": [
        {
          "output_type": "display_data",
          "data": {
            "text/html": [
              "<html>\n",
              "<head><meta charset=\"utf-8\" /></head>\n",
              "<body>\n",
              "    <div>            <script src=\"https://cdnjs.cloudflare.com/ajax/libs/mathjax/2.7.5/MathJax.js?config=TeX-AMS-MML_SVG\"></script><script type=\"text/javascript\">if (window.MathJax) {MathJax.Hub.Config({SVG: {font: \"STIX-Web\"}});}</script>                <script type=\"text/javascript\">window.PlotlyConfig = {MathJaxConfig: 'local'};</script>\n",
              "        <script src=\"https://cdn.plot.ly/plotly-2.8.3.min.js\"></script>                <div id=\"77cb225a-f7d2-427b-b4db-4c1f4472237f\" class=\"plotly-graph-div\" style=\"height:525px; width:100%;\"></div>            <script type=\"text/javascript\">                                    window.PLOTLYENV=window.PLOTLYENV || {};                                    if (document.getElementById(\"77cb225a-f7d2-427b-b4db-4c1f4472237f\")) {                    Plotly.newPlot(                        \"77cb225a-f7d2-427b-b4db-4c1f4472237f\",                        [{\"marker\":{\"maxdisplayed\":10},\"mode\":\"lines+markers\",\"name\":\"Trial0\",\"x\":[0,1,2,3,4,5,6,7,8,9,10,11,12,13,14,15,16,17,18,19,20,21,22,23,24,25,26,27,28,29,30,31,32,33,34,35,36,37,38,39,40,41,42,43,44,45,46,47,48,49,50,51,52,53,54,55,56,57,58,59,60,61,62,63,64,65,66,67,68,69,70,71,72,73,74,75,76,77,78,79,80,81,82,83,84,85,86,87,88,89,90,91,92,93,94,95,96,97,98,99],\"y\":[0.5555555555555556,0.7333333333333333,0.6444444444444445,0.28888888888888886,0.8,0.35555555555555557,0.28888888888888886,0.6666666666666666,0.35555555555555557,1.0888888888888888,0.28888888888888886,0.26666666666666666,0.26666666666666666,0.4666666666666667,0.5555555555555556,0.4444444444444444,0.5555555555555556,0.8222222222222222,0.4666666666666667,0.7555555555555555,0.35555555555555557,0.26666666666666666,0.2222222222222222,0.9111111111111111,0.9111111111111111,0.26666666666666666,0.26666666666666666,0.4444444444444444,0.5555555555555556,0.3333333333333333,0.8222222222222222,0.8222222222222222,0.5111111111111111,0.6222222222222222,0.26666666666666666,0.4666666666666667,0.6444444444444445,0.4444444444444444,0.9111111111111111,0.8222222222222222,0.8666666666666667,0.37777777777777777,1.1333333333333333,0.24444444444444444,0.4666666666666667,0.9111111111111111,0.28888888888888886,0.7777777777777778,0.28888888888888886,0.4444444444444444,0.8222222222222222,0.8,0.8222222222222222,0.4888888888888889,0.5333333333333333,0.6666666666666666,0.35555555555555557,0.6666666666666666,0.8222222222222222,0.7111111111111111,0.6444444444444445,0.6444444444444445,0.6444444444444445,0.4,0.5777777777777777,0.4222222222222222,0.9555555555555556,1.0222222222222221,0.5333333333333333,0.8222222222222222,0.35555555555555557,0.26666666666666666,0.5555555555555556,0.4444444444444444,0.6888888888888889,0.26666666666666666,0.28888888888888886,0.9111111111111111,0.26666666666666666,0.26666666666666666,0.3111111111111111,0.6666666666666666,0.28888888888888886,0.8888888888888888,0.6222222222222222,0.35555555555555557,1.6,1.2222222222222223,0.35555555555555557,1.0,0.9777777777777777,0.8222222222222222,0.28888888888888886,0.8666666666666667,0.8444444444444444,0.35555555555555557,0.4666666666666667,0.8,1.8888888888888888,0.6666666666666666],\"type\":\"scatter\"},{\"marker\":{\"maxdisplayed\":10},\"mode\":\"lines+markers\",\"name\":\"Trial1\",\"x\":[0,1,2,3,4,5,6,7,8,9,10,11,12,13,14,15,16,17,18,19,20,21,22,23,24,25,26,27,28,29,30,31,32,33,34,35,36,37,38,39,40,41,42,43,44,45,46,47,48,49,50,51,52,53,54,55,56,57,58,59,60,61,62,63,64,65,66,67,68,69,70,71,72,73,74,75,76,77,78,79,80,81,82,83,84,85,86,87,88,89,90,91,92,93,94,95,96,97,98,99],\"y\":[0.26666666666666666,0.4666666666666667,0.6666666666666666,0.6888888888888889,0.35555555555555557,0.4444444444444444,0.4444444444444444,0.26666666666666666,0.26666666666666666,0.26666666666666666,0.4888888888888889,0.7555555555555555,1.0,0.4222222222222222,1.1111111111111112,0.28888888888888886,0.26666666666666666,0.24444444444444444,0.26666666666666666,0.37777777777777777,0.26666666666666666,0.6,0.9111111111111111,0.9111111111111111,0.26666666666666666,0.37777777777777777,0.6666666666666666,0.4888888888888889,0.26666666666666666,0.9777777777777777,0.8,0.4888888888888889,0.5555555555555556,0.26666666666666666,0.3111111111111111,0.26666666666666666,0.6888888888888889,1.511111111111111,0.8666666666666667,0.6444444444444445,0.4222222222222222,0.8,0.26666666666666666,0.6666666666666666,0.24444444444444444,0.5555555555555556,0.8666666666666667,0.7111111111111111,0.26666666666666666,1.8,0.7777777777777778,0.8222222222222222,0.35555555555555557,0.5333333333333333,0.5555555555555556,0.8,0.37777777777777777,0.4666666666666667,0.4222222222222222,0.3111111111111111,0.7777777777777778,0.4888888888888889,0.9111111111111111,0.8222222222222222,0.6666666666666666,0.3111111111111111,0.3333333333333333,0.26666666666666666,0.8222222222222222,0.3111111111111111,0.4444444444444444,0.26666666666666666,0.8222222222222222,1.3555555555555556,0.3111111111111111,1.2444444444444445,0.5555555555555556,0.26666666666666666,0.4666666666666667,0.4888888888888889,0.5555555555555556,0.28888888888888886,0.4666666666666667,0.5111111111111111,0.4888888888888889,0.5555555555555556,0.28888888888888886,0.8,1.0888888888888888,0.7111111111111111,0.7333333333333333,0.28888888888888886,0.26666666666666666,0.3111111111111111,0.28888888888888886,0.26666666666666666,0.6666666666666666,0.7333333333333333,0.5555555555555556,0.28888888888888886],\"type\":\"scatter\"},{\"marker\":{\"maxdisplayed\":10},\"mode\":\"lines+markers\",\"name\":\"Trial2\",\"x\":[0,1,2,3,4,5,6,7,8,9,10,11,12,13,14,15,16,17,18,19,20,21,22,23,24,25,26,27,28,29,30,31,32,33,34,35,36,37,38,39,40,41,42,43,44,45,46,47,48,49,50,51,52,53,54,55,56,57,58,59,60,61,62,63,64,65,66,67,68,69,70,71,72,73,74,75,76,77,78,79,80,81,82,83,84,85,86,87,88,89,90,91,92,93,94,95,96,97,98,99],\"y\":[0.0,0.0,0.0,0.0,0.0,0.0,0.0,0.0,0.0,0.0,0.0,0.0,0.0,0.0,0.0,0.0,0.0,0.0,0.0,0.0,0.0,0.0,0.0,0.0,0.0,0.0,0.0,0.0,0.0,0.0,0.0,0.0,0.0,0.0,0.0,0.0,0.0,0.0,0.0,0.0,0.0,0.0,0.0,0.0,0.0,0.0,0.0,0.0,0.0,0.0,0.0,0.0,0.0,0.0,0.0,0.0,0.0,0.0,0.0,0.0,0.0,0.0,0.0,0.0,0.0,0.0,0.0,0.0,0.0,0.0,0.0,0.0,0.0,0.0,0.0,0.0,0.0,0.0,0.0,0.0,0.0,0.0,0.0,0.0,0.0,0.0,0.0,0.0,0.0,0.0,0.0,0.0,0.0,0.0,0.0,0.0,0.0,0.0,0.0,0.0],\"type\":\"scatter\"},{\"marker\":{\"maxdisplayed\":10},\"mode\":\"lines+markers\",\"name\":\"Trial3\",\"x\":[0,1,2,3,4,5,6,7,8,9,10,11,12,13,14,15,16,17,18,19,20,21,22,23,24,25,26,27,28,29,30,31,32,33,34,35,36,37,38,39,40,41,42,43,44,45,46,47,48,49,50,51,52,53,54,55,56,57,58,59,60,61,62,63,64,65,66,67,68,69,70,71,72,73,74,75,76,77,78,79,80,81,82,83,84,85,86,87,88,89,90,91,92,93,94,95,96,97,98,99],\"y\":[0.0,0.0,0.0,0.0,0.0,0.0,0.0,0.0,0.0,0.0,0.0,0.0,0.0,0.0,0.0,0.0,0.0,0.0,0.0,0.0,0.0,0.0,0.0,0.0,0.0,0.0,0.0,0.0,0.0,0.0,0.0,0.0,0.0,0.0,0.0,0.0,0.0,0.0,0.0,0.0,0.0,0.0,0.0,0.0,0.0,0.0,0.0,0.0,0.0,0.0,0.0,0.0,0.0,0.0,0.0,0.0,0.0,0.0,0.0,0.0,0.0,0.0,0.0,0.0,0.0,0.0,0.0,0.0,0.0,0.0,0.0,0.0,0.0,0.0,0.0,0.0,0.0,0.0,0.0,0.0,0.0,0.0,0.0,0.0,0.0,0.0,0.0,0.0,0.0,0.0,0.0,0.0,0.0,0.0,0.0,0.0,0.0,0.0,0.0,0.0],\"type\":\"scatter\"},{\"marker\":{\"maxdisplayed\":10},\"mode\":\"lines+markers\",\"name\":\"Trial4\",\"x\":[0,1,2,3,4,5,6,7,8,9,10,11,12,13,14,15,16,17,18,19,20,21,22,23,24,25,26,27,28,29,30,31,32,33,34,35,36,37,38,39,40,41,42,43,44,45,46,47,48,49,50,51,52,53,54,55,56,57,58,59,60,61,62,63,64,65,66,67,68,69,70,71,72,73,74,75,76,77,78,79,80,81,82,83,84,85,86,87,88,89,90,91,92,93,94,95,96,97,98,99],\"y\":[0.37777777777777777,0.35555555555555557,0.26666666666666666,0.4222222222222222,1.8444444444444446,0.6222222222222222,0.6444444444444445,0.6666666666666666,0.26666666666666666,0.6,1.3555555555555556,0.28888888888888886,0.8222222222222222,0.26666666666666666,0.28888888888888886,0.6222222222222222,1.0222222222222221,0.37777777777777777,0.26666666666666666,0.4444444444444444,0.28888888888888886,0.4888888888888889,0.4888888888888889,0.3111111111111111,0.5555555555555556,0.4222222222222222,0.7111111111111111,0.3111111111111111,0.6444444444444445,0.2222222222222222,0.35555555555555557,0.8,0.6666666666666666,0.2222222222222222,1.4444444444444444,0.3111111111111111,0.26666666666666666,0.7777777777777778,0.6222222222222222,0.8222222222222222,0.26666666666666666,0.6666666666666666,0.26666666666666666,1.0888888888888888,0.7777777777777778,1.3333333333333333,0.28888888888888886,0.6222222222222222,0.5333333333333333,0.5555555555555556,0.26666666666666666,0.9111111111111111,0.6444444444444445,0.3333333333333333,0.5111111111111111,0.4666666666666667,0.4666666666666667,0.26666666666666666,0.8,0.4444444444444444,0.4888888888888889,0.6666666666666666,0.8222222222222222,0.6666666666666666,1.1777777777777778,0.4888888888888889,0.6666666666666666,0.8,1.2,0.37777777777777777,0.7777777777777778,0.26666666666666666,0.28888888888888886,0.4,0.26666666666666666,0.5555555555555556,0.7111111111111111,0.6444444444444445,0.5333333333333333,0.28888888888888886,0.3333333333333333,0.7777777777777778,0.8222222222222222,0.5555555555555556,0.9111111111111111,0.9111111111111111,0.5777777777777777,0.4666666666666667,0.4666666666666667,0.8666666666666667,0.7555555555555555,0.6444444444444445,0.3111111111111111,0.6666666666666666,0.7777777777777778,0.4444444444444444,0.8,0.4666666666666667,0.9111111111111111,0.28888888888888886],\"type\":\"scatter\"},{\"marker\":{\"maxdisplayed\":10},\"mode\":\"lines+markers\",\"name\":\"Trial5\",\"x\":[0,1,2,3,4,5,6,7,8,9,10,11,12,13,14,15,16,17,18,19,20,21,22,23,24,25,26,27,28,29,30,31,32,33,34,35,36,37,38,39,40,41,42,43,44,45,46,47,48,49,50,51,52,53,54,55,56,57,58,59,60,61,62,63,64,65,66,67,68,69,70,71,72,73,74,75,76,77,78,79,80,81,82,83,84,85,86,87,88,89,90,91,92,93,94,95,96,97,98,99],\"y\":[0.0,0.0,0.0,0.0,0.0,0.0,0.0,0.0,0.0,0.0,0.0,0.0,0.0,0.0,0.0,0.0,0.0,0.0,0.0,0.0,0.0,0.0,0.0,0.0,0.0,0.0,0.0,0.0,0.0,0.0,0.0,0.0,0.0,0.0,0.0,0.0,0.0,0.0,0.0,0.0,0.0,0.0,0.0,0.0,0.0,0.0,0.0,0.0,0.0,0.0,0.0,0.0,0.0,0.0,0.0,0.0,0.0,0.0,0.0,0.0,0.0,0.0,0.0,0.0,0.0,0.0,0.0,0.0,0.0,0.0,0.0,0.0,0.0,0.0,0.0,0.0,0.0,0.0,0.0,0.0,0.0,0.0,0.0,0.0,0.0,0.0,0.0,0.0,0.0,0.0,0.0,0.0,0.0,0.0,0.0,0.0,0.0,0.0,0.0,0.0],\"type\":\"scatter\"},{\"marker\":{\"maxdisplayed\":10},\"mode\":\"lines+markers\",\"name\":\"Trial6\",\"x\":[0],\"y\":[0.4888888888888889],\"type\":\"scatter\"},{\"marker\":{\"maxdisplayed\":10},\"mode\":\"lines+markers\",\"name\":\"Trial7\",\"x\":[0],\"y\":[0.3111111111111111],\"type\":\"scatter\"},{\"marker\":{\"maxdisplayed\":10},\"mode\":\"lines+markers\",\"name\":\"Trial8\",\"x\":[0,1,2,3,4,5,6,7,8,9,10,11,12,13,14,15,16,17,18,19,20,21,22,23,24,25,26,27,28,29,30,31,32,33,34,35,36,37,38,39,40,41,42,43,44,45,46,47,48,49,50,51,52,53,54,55,56,57,58,59,60,61,62,63,64,65,66,67,68,69,70,71,72,73,74,75,76,77,78,79,80,81,82,83,84,85,86,87,88,89,90,91,92,93,94,95,96,97,98,99],\"y\":[0.0,0.0,0.0,0.0,0.0,0.0,0.0,0.0,0.0,0.0,0.0,0.0,0.0,0.0,0.0,0.0,0.0,0.0,0.0,0.0,0.0,0.0,0.0,0.0,0.0,0.0,0.0,0.0,0.0,0.0,0.0,0.0,0.0,0.0,0.0,0.0,0.0,0.0,0.0,0.0,0.0,0.0,0.0,0.0,0.0,0.0,0.0,0.0,0.0,0.0,0.0,0.0,0.0,0.0,0.0,0.0,0.0,0.0,0.0,0.0,0.0,0.0,0.0,0.0,0.0,0.0,0.0,0.0,0.0,0.0,0.0,0.0,0.0,0.0,0.0,0.0,0.0,0.0,0.0,0.0,0.0,0.0,0.0,0.0,0.0,0.0,0.0,0.0,0.0,0.0,0.0,0.0,0.0,0.0,0.0,0.0,0.0,0.0,0.0,0.0],\"type\":\"scatter\"},{\"marker\":{\"maxdisplayed\":10},\"mode\":\"lines+markers\",\"name\":\"Trial9\",\"x\":[0,1,2,3,4,5,6,7,8,9,10,11,12,13,14,15,16,17,18,19,20,21,22,23,24,25,26,27,28,29,30,31,32,33,34,35,36,37,38,39,40,41,42,43,44,45,46,47,48,49,50,51,52,53,54,55,56,57,58,59,60,61,62,63,64,65,66,67,68,69,70,71,72,73,74,75,76,77,78,79,80,81,82,83,84,85,86,87,88,89,90,91,92,93,94,95,96,97,98,99],\"y\":[0.0,0.0,0.0,0.0,0.0,0.0,0.0,0.0,0.0,0.0,0.0,0.0,0.0,0.0,0.0,0.0,0.0,0.0,0.0,0.0,0.0,0.0,0.0,0.0,0.0,0.0,0.0,0.0,0.0,0.0,0.0,0.0,0.0,0.0,0.0,0.0,0.0,0.0,0.0,0.0,0.0,0.0,0.0,0.0,0.0,0.0,0.0,0.0,0.0,0.0,0.0,0.0,0.0,0.0,0.0,0.0,0.0,0.0,0.0,0.0,0.0,0.0,0.0,0.0,0.0,0.0,0.0,0.0,0.0,0.0,0.0,0.0,0.0,0.0,0.0,0.0,0.0,0.0,0.0,0.0,0.0,0.0,0.0,0.0,0.0,0.0,0.0,0.0,0.0,0.0,0.0,0.0,0.0,0.0,0.0,0.0,0.0,0.0,0.0,0.0],\"type\":\"scatter\"}],                        {\"showlegend\":false,\"title\":{\"text\":\"Intermediate Values Plot\"},\"xaxis\":{\"title\":{\"text\":\"Step\"}},\"yaxis\":{\"title\":{\"text\":\"Intermediate Value\"}},\"template\":{\"data\":{\"bar\":[{\"error_x\":{\"color\":\"#2a3f5f\"},\"error_y\":{\"color\":\"#2a3f5f\"},\"marker\":{\"line\":{\"color\":\"#E5ECF6\",\"width\":0.5},\"pattern\":{\"fillmode\":\"overlay\",\"size\":10,\"solidity\":0.2}},\"type\":\"bar\"}],\"barpolar\":[{\"marker\":{\"line\":{\"color\":\"#E5ECF6\",\"width\":0.5},\"pattern\":{\"fillmode\":\"overlay\",\"size\":10,\"solidity\":0.2}},\"type\":\"barpolar\"}],\"carpet\":[{\"aaxis\":{\"endlinecolor\":\"#2a3f5f\",\"gridcolor\":\"white\",\"linecolor\":\"white\",\"minorgridcolor\":\"white\",\"startlinecolor\":\"#2a3f5f\"},\"baxis\":{\"endlinecolor\":\"#2a3f5f\",\"gridcolor\":\"white\",\"linecolor\":\"white\",\"minorgridcolor\":\"white\",\"startlinecolor\":\"#2a3f5f\"},\"type\":\"carpet\"}],\"choropleth\":[{\"colorbar\":{\"outlinewidth\":0,\"ticks\":\"\"},\"type\":\"choropleth\"}],\"contour\":[{\"colorbar\":{\"outlinewidth\":0,\"ticks\":\"\"},\"colorscale\":[[0.0,\"#0d0887\"],[0.1111111111111111,\"#46039f\"],[0.2222222222222222,\"#7201a8\"],[0.3333333333333333,\"#9c179e\"],[0.4444444444444444,\"#bd3786\"],[0.5555555555555556,\"#d8576b\"],[0.6666666666666666,\"#ed7953\"],[0.7777777777777778,\"#fb9f3a\"],[0.8888888888888888,\"#fdca26\"],[1.0,\"#f0f921\"]],\"type\":\"contour\"}],\"contourcarpet\":[{\"colorbar\":{\"outlinewidth\":0,\"ticks\":\"\"},\"type\":\"contourcarpet\"}],\"heatmap\":[{\"colorbar\":{\"outlinewidth\":0,\"ticks\":\"\"},\"colorscale\":[[0.0,\"#0d0887\"],[0.1111111111111111,\"#46039f\"],[0.2222222222222222,\"#7201a8\"],[0.3333333333333333,\"#9c179e\"],[0.4444444444444444,\"#bd3786\"],[0.5555555555555556,\"#d8576b\"],[0.6666666666666666,\"#ed7953\"],[0.7777777777777778,\"#fb9f3a\"],[0.8888888888888888,\"#fdca26\"],[1.0,\"#f0f921\"]],\"type\":\"heatmap\"}],\"heatmapgl\":[{\"colorbar\":{\"outlinewidth\":0,\"ticks\":\"\"},\"colorscale\":[[0.0,\"#0d0887\"],[0.1111111111111111,\"#46039f\"],[0.2222222222222222,\"#7201a8\"],[0.3333333333333333,\"#9c179e\"],[0.4444444444444444,\"#bd3786\"],[0.5555555555555556,\"#d8576b\"],[0.6666666666666666,\"#ed7953\"],[0.7777777777777778,\"#fb9f3a\"],[0.8888888888888888,\"#fdca26\"],[1.0,\"#f0f921\"]],\"type\":\"heatmapgl\"}],\"histogram\":[{\"marker\":{\"pattern\":{\"fillmode\":\"overlay\",\"size\":10,\"solidity\":0.2}},\"type\":\"histogram\"}],\"histogram2d\":[{\"colorbar\":{\"outlinewidth\":0,\"ticks\":\"\"},\"colorscale\":[[0.0,\"#0d0887\"],[0.1111111111111111,\"#46039f\"],[0.2222222222222222,\"#7201a8\"],[0.3333333333333333,\"#9c179e\"],[0.4444444444444444,\"#bd3786\"],[0.5555555555555556,\"#d8576b\"],[0.6666666666666666,\"#ed7953\"],[0.7777777777777778,\"#fb9f3a\"],[0.8888888888888888,\"#fdca26\"],[1.0,\"#f0f921\"]],\"type\":\"histogram2d\"}],\"histogram2dcontour\":[{\"colorbar\":{\"outlinewidth\":0,\"ticks\":\"\"},\"colorscale\":[[0.0,\"#0d0887\"],[0.1111111111111111,\"#46039f\"],[0.2222222222222222,\"#7201a8\"],[0.3333333333333333,\"#9c179e\"],[0.4444444444444444,\"#bd3786\"],[0.5555555555555556,\"#d8576b\"],[0.6666666666666666,\"#ed7953\"],[0.7777777777777778,\"#fb9f3a\"],[0.8888888888888888,\"#fdca26\"],[1.0,\"#f0f921\"]],\"type\":\"histogram2dcontour\"}],\"mesh3d\":[{\"colorbar\":{\"outlinewidth\":0,\"ticks\":\"\"},\"type\":\"mesh3d\"}],\"parcoords\":[{\"line\":{\"colorbar\":{\"outlinewidth\":0,\"ticks\":\"\"}},\"type\":\"parcoords\"}],\"pie\":[{\"automargin\":true,\"type\":\"pie\"}],\"scatter\":[{\"marker\":{\"colorbar\":{\"outlinewidth\":0,\"ticks\":\"\"}},\"type\":\"scatter\"}],\"scatter3d\":[{\"line\":{\"colorbar\":{\"outlinewidth\":0,\"ticks\":\"\"}},\"marker\":{\"colorbar\":{\"outlinewidth\":0,\"ticks\":\"\"}},\"type\":\"scatter3d\"}],\"scattercarpet\":[{\"marker\":{\"colorbar\":{\"outlinewidth\":0,\"ticks\":\"\"}},\"type\":\"scattercarpet\"}],\"scattergeo\":[{\"marker\":{\"colorbar\":{\"outlinewidth\":0,\"ticks\":\"\"}},\"type\":\"scattergeo\"}],\"scattergl\":[{\"marker\":{\"colorbar\":{\"outlinewidth\":0,\"ticks\":\"\"}},\"type\":\"scattergl\"}],\"scattermapbox\":[{\"marker\":{\"colorbar\":{\"outlinewidth\":0,\"ticks\":\"\"}},\"type\":\"scattermapbox\"}],\"scatterpolar\":[{\"marker\":{\"colorbar\":{\"outlinewidth\":0,\"ticks\":\"\"}},\"type\":\"scatterpolar\"}],\"scatterpolargl\":[{\"marker\":{\"colorbar\":{\"outlinewidth\":0,\"ticks\":\"\"}},\"type\":\"scatterpolargl\"}],\"scatterternary\":[{\"marker\":{\"colorbar\":{\"outlinewidth\":0,\"ticks\":\"\"}},\"type\":\"scatterternary\"}],\"surface\":[{\"colorbar\":{\"outlinewidth\":0,\"ticks\":\"\"},\"colorscale\":[[0.0,\"#0d0887\"],[0.1111111111111111,\"#46039f\"],[0.2222222222222222,\"#7201a8\"],[0.3333333333333333,\"#9c179e\"],[0.4444444444444444,\"#bd3786\"],[0.5555555555555556,\"#d8576b\"],[0.6666666666666666,\"#ed7953\"],[0.7777777777777778,\"#fb9f3a\"],[0.8888888888888888,\"#fdca26\"],[1.0,\"#f0f921\"]],\"type\":\"surface\"}],\"table\":[{\"cells\":{\"fill\":{\"color\":\"#EBF0F8\"},\"line\":{\"color\":\"white\"}},\"header\":{\"fill\":{\"color\":\"#C8D4E3\"},\"line\":{\"color\":\"white\"}},\"type\":\"table\"}]},\"layout\":{\"annotationdefaults\":{\"arrowcolor\":\"#2a3f5f\",\"arrowhead\":0,\"arrowwidth\":1},\"autotypenumbers\":\"strict\",\"coloraxis\":{\"colorbar\":{\"outlinewidth\":0,\"ticks\":\"\"}},\"colorscale\":{\"diverging\":[[0,\"#8e0152\"],[0.1,\"#c51b7d\"],[0.2,\"#de77ae\"],[0.3,\"#f1b6da\"],[0.4,\"#fde0ef\"],[0.5,\"#f7f7f7\"],[0.6,\"#e6f5d0\"],[0.7,\"#b8e186\"],[0.8,\"#7fbc41\"],[0.9,\"#4d9221\"],[1,\"#276419\"]],\"sequential\":[[0.0,\"#0d0887\"],[0.1111111111111111,\"#46039f\"],[0.2222222222222222,\"#7201a8\"],[0.3333333333333333,\"#9c179e\"],[0.4444444444444444,\"#bd3786\"],[0.5555555555555556,\"#d8576b\"],[0.6666666666666666,\"#ed7953\"],[0.7777777777777778,\"#fb9f3a\"],[0.8888888888888888,\"#fdca26\"],[1.0,\"#f0f921\"]],\"sequentialminus\":[[0.0,\"#0d0887\"],[0.1111111111111111,\"#46039f\"],[0.2222222222222222,\"#7201a8\"],[0.3333333333333333,\"#9c179e\"],[0.4444444444444444,\"#bd3786\"],[0.5555555555555556,\"#d8576b\"],[0.6666666666666666,\"#ed7953\"],[0.7777777777777778,\"#fb9f3a\"],[0.8888888888888888,\"#fdca26\"],[1.0,\"#f0f921\"]]},\"colorway\":[\"#636efa\",\"#EF553B\",\"#00cc96\",\"#ab63fa\",\"#FFA15A\",\"#19d3f3\",\"#FF6692\",\"#B6E880\",\"#FF97FF\",\"#FECB52\"],\"font\":{\"color\":\"#2a3f5f\"},\"geo\":{\"bgcolor\":\"white\",\"lakecolor\":\"white\",\"landcolor\":\"#E5ECF6\",\"showlakes\":true,\"showland\":true,\"subunitcolor\":\"white\"},\"hoverlabel\":{\"align\":\"left\"},\"hovermode\":\"closest\",\"mapbox\":{\"style\":\"light\"},\"paper_bgcolor\":\"white\",\"plot_bgcolor\":\"#E5ECF6\",\"polar\":{\"angularaxis\":{\"gridcolor\":\"white\",\"linecolor\":\"white\",\"ticks\":\"\"},\"bgcolor\":\"#E5ECF6\",\"radialaxis\":{\"gridcolor\":\"white\",\"linecolor\":\"white\",\"ticks\":\"\"}},\"scene\":{\"xaxis\":{\"backgroundcolor\":\"#E5ECF6\",\"gridcolor\":\"white\",\"gridwidth\":2,\"linecolor\":\"white\",\"showbackground\":true,\"ticks\":\"\",\"zerolinecolor\":\"white\"},\"yaxis\":{\"backgroundcolor\":\"#E5ECF6\",\"gridcolor\":\"white\",\"gridwidth\":2,\"linecolor\":\"white\",\"showbackground\":true,\"ticks\":\"\",\"zerolinecolor\":\"white\"},\"zaxis\":{\"backgroundcolor\":\"#E5ECF6\",\"gridcolor\":\"white\",\"gridwidth\":2,\"linecolor\":\"white\",\"showbackground\":true,\"ticks\":\"\",\"zerolinecolor\":\"white\"}},\"shapedefaults\":{\"line\":{\"color\":\"#2a3f5f\"}},\"ternary\":{\"aaxis\":{\"gridcolor\":\"white\",\"linecolor\":\"white\",\"ticks\":\"\"},\"baxis\":{\"gridcolor\":\"white\",\"linecolor\":\"white\",\"ticks\":\"\"},\"bgcolor\":\"#E5ECF6\",\"caxis\":{\"gridcolor\":\"white\",\"linecolor\":\"white\",\"ticks\":\"\"}},\"title\":{\"x\":0.05},\"xaxis\":{\"automargin\":true,\"gridcolor\":\"white\",\"linecolor\":\"white\",\"ticks\":\"\",\"title\":{\"standoff\":15},\"zerolinecolor\":\"white\",\"zerolinewidth\":2},\"yaxis\":{\"automargin\":true,\"gridcolor\":\"white\",\"linecolor\":\"white\",\"ticks\":\"\",\"title\":{\"standoff\":15},\"zerolinecolor\":\"white\",\"zerolinewidth\":2}}}},                        {\"responsive\": true}                    ).then(function(){\n",
              "                            \n",
              "var gd = document.getElementById('77cb225a-f7d2-427b-b4db-4c1f4472237f');\n",
              "var x = new MutationObserver(function (mutations, observer) {{\n",
              "        var display = window.getComputedStyle(gd).display;\n",
              "        if (!display || display === 'none') {{\n",
              "            console.log([gd, 'removed!']);\n",
              "            Plotly.purge(gd);\n",
              "            observer.disconnect();\n",
              "        }}\n",
              "}});\n",
              "\n",
              "// Listen for the removal of the full notebook cells\n",
              "var notebookContainer = gd.closest('#notebook-container');\n",
              "if (notebookContainer) {{\n",
              "    x.observe(notebookContainer, {childList: true});\n",
              "}}\n",
              "\n",
              "// Listen for the clearing of the current output cell\n",
              "var outputEl = gd.closest('.output');\n",
              "if (outputEl) {{\n",
              "    x.observe(outputEl, {childList: true});\n",
              "}}\n",
              "\n",
              "                        })                };                            </script>        </div>\n",
              "</body>\n",
              "</html>"
            ]
          },
          "metadata": {}
        }
      ]
    },
    {
      "cell_type": "code",
      "source": [
        "plot_slice(create_st)"
      ],
      "metadata": {
        "colab": {
          "base_uri": "https://localhost:8080/",
          "height": 542
        },
        "id": "ebHbRFC8zgv3",
        "outputId": "57aba496-c074-4c6f-d724-4cb1d102d6f8"
      },
      "execution_count": 34,
      "outputs": [
        {
          "output_type": "display_data",
          "data": {
            "text/html": [
              "<html>\n",
              "<head><meta charset=\"utf-8\" /></head>\n",
              "<body>\n",
              "    <div>            <script src=\"https://cdnjs.cloudflare.com/ajax/libs/mathjax/2.7.5/MathJax.js?config=TeX-AMS-MML_SVG\"></script><script type=\"text/javascript\">if (window.MathJax) {MathJax.Hub.Config({SVG: {font: \"STIX-Web\"}});}</script>                <script type=\"text/javascript\">window.PlotlyConfig = {MathJaxConfig: 'local'};</script>\n",
              "        <script src=\"https://cdn.plot.ly/plotly-2.8.3.min.js\"></script>                <div id=\"7e5a186d-731c-4a6f-8ab7-86cd82987d49\" class=\"plotly-graph-div\" style=\"height:525px; width:100%;\"></div>            <script type=\"text/javascript\">                                    window.PLOTLYENV=window.PLOTLYENV || {};                                    if (document.getElementById(\"7e5a186d-731c-4a6f-8ab7-86cd82987d49\")) {                    Plotly.newPlot(                        \"7e5a186d-731c-4a6f-8ab7-86cd82987d49\",                        [{\"marker\":{\"color\":[0,1,2,3,4,7],\"colorbar\":{\"title\":{\"text\":\"Trial\"},\"x\":1.0,\"xpad\":40},\"colorscale\":[[0.0,\"rgb(247,251,255)\"],[0.125,\"rgb(222,235,247)\"],[0.25,\"rgb(198,219,239)\"],[0.375,\"rgb(158,202,225)\"],[0.5,\"rgb(107,174,214)\"],[0.625,\"rgb(66,146,198)\"],[0.75,\"rgb(33,113,181)\"],[0.875,\"rgb(8,81,156)\"],[1.0,\"rgb(8,48,107)\"]],\"line\":{\"color\":\"Grey\",\"width\":0.5},\"showscale\":true},\"mode\":\"markers\",\"showlegend\":false,\"x\":[\"SGDClassifier\",\"SGDClassifier\",\"RidgeClassifier\",\"SGDClassifier\",\"RidgeClassifier\",\"RidgeClassifier\"],\"y\":[0.26666666666666666,0.5555555555555556,0.0,0.6444444444444445,0.0,0.0],\"type\":\"scatter\",\"xaxis\":\"x\",\"yaxis\":\"y\"},{\"marker\":{\"color\":[2,4,7],\"colorbar\":{\"title\":{\"text\":\"Trial\"},\"x\":1.0,\"xpad\":40},\"colorscale\":[[0.0,\"rgb(247,251,255)\"],[0.125,\"rgb(222,235,247)\"],[0.25,\"rgb(198,219,239)\"],[0.375,\"rgb(158,202,225)\"],[0.5,\"rgb(107,174,214)\"],[0.625,\"rgb(66,146,198)\"],[0.75,\"rgb(33,113,181)\"],[0.875,\"rgb(8,81,156)\"],[1.0,\"rgb(8,48,107)\"]],\"line\":{\"color\":\"Grey\",\"width\":0.5},\"showscale\":false},\"mode\":\"markers\",\"showlegend\":false,\"x\":[0.21745698711628791,0.33374453462093867,1.62710711563136],\"y\":[0.0,0.0,0.0],\"type\":\"scatter\",\"xaxis\":\"x2\",\"yaxis\":\"y2\"},{\"marker\":{\"color\":[0,1,3],\"colorbar\":{\"title\":{\"text\":\"Trial\"},\"x\":1.0,\"xpad\":40},\"colorscale\":[[0.0,\"rgb(247,251,255)\"],[0.125,\"rgb(222,235,247)\"],[0.25,\"rgb(198,219,239)\"],[0.375,\"rgb(158,202,225)\"],[0.5,\"rgb(107,174,214)\"],[0.625,\"rgb(66,146,198)\"],[0.75,\"rgb(33,113,181)\"],[0.875,\"rgb(8,81,156)\"],[1.0,\"rgb(8,48,107)\"]],\"line\":{\"color\":\"Grey\",\"width\":0.5},\"showscale\":false},\"mode\":\"markers\",\"showlegend\":false,\"x\":[0.5413041528873119,1.1119602261198187,1.6931696701006147],\"y\":[0.26666666666666666,0.5555555555555556,0.6444444444444445],\"type\":\"scatter\",\"xaxis\":\"x3\",\"yaxis\":\"y3\"}],                        {\"template\":{\"data\":{\"bar\":[{\"error_x\":{\"color\":\"#2a3f5f\"},\"error_y\":{\"color\":\"#2a3f5f\"},\"marker\":{\"line\":{\"color\":\"#E5ECF6\",\"width\":0.5},\"pattern\":{\"fillmode\":\"overlay\",\"size\":10,\"solidity\":0.2}},\"type\":\"bar\"}],\"barpolar\":[{\"marker\":{\"line\":{\"color\":\"#E5ECF6\",\"width\":0.5},\"pattern\":{\"fillmode\":\"overlay\",\"size\":10,\"solidity\":0.2}},\"type\":\"barpolar\"}],\"carpet\":[{\"aaxis\":{\"endlinecolor\":\"#2a3f5f\",\"gridcolor\":\"white\",\"linecolor\":\"white\",\"minorgridcolor\":\"white\",\"startlinecolor\":\"#2a3f5f\"},\"baxis\":{\"endlinecolor\":\"#2a3f5f\",\"gridcolor\":\"white\",\"linecolor\":\"white\",\"minorgridcolor\":\"white\",\"startlinecolor\":\"#2a3f5f\"},\"type\":\"carpet\"}],\"choropleth\":[{\"colorbar\":{\"outlinewidth\":0,\"ticks\":\"\"},\"type\":\"choropleth\"}],\"contour\":[{\"colorbar\":{\"outlinewidth\":0,\"ticks\":\"\"},\"colorscale\":[[0.0,\"#0d0887\"],[0.1111111111111111,\"#46039f\"],[0.2222222222222222,\"#7201a8\"],[0.3333333333333333,\"#9c179e\"],[0.4444444444444444,\"#bd3786\"],[0.5555555555555556,\"#d8576b\"],[0.6666666666666666,\"#ed7953\"],[0.7777777777777778,\"#fb9f3a\"],[0.8888888888888888,\"#fdca26\"],[1.0,\"#f0f921\"]],\"type\":\"contour\"}],\"contourcarpet\":[{\"colorbar\":{\"outlinewidth\":0,\"ticks\":\"\"},\"type\":\"contourcarpet\"}],\"heatmap\":[{\"colorbar\":{\"outlinewidth\":0,\"ticks\":\"\"},\"colorscale\":[[0.0,\"#0d0887\"],[0.1111111111111111,\"#46039f\"],[0.2222222222222222,\"#7201a8\"],[0.3333333333333333,\"#9c179e\"],[0.4444444444444444,\"#bd3786\"],[0.5555555555555556,\"#d8576b\"],[0.6666666666666666,\"#ed7953\"],[0.7777777777777778,\"#fb9f3a\"],[0.8888888888888888,\"#fdca26\"],[1.0,\"#f0f921\"]],\"type\":\"heatmap\"}],\"heatmapgl\":[{\"colorbar\":{\"outlinewidth\":0,\"ticks\":\"\"},\"colorscale\":[[0.0,\"#0d0887\"],[0.1111111111111111,\"#46039f\"],[0.2222222222222222,\"#7201a8\"],[0.3333333333333333,\"#9c179e\"],[0.4444444444444444,\"#bd3786\"],[0.5555555555555556,\"#d8576b\"],[0.6666666666666666,\"#ed7953\"],[0.7777777777777778,\"#fb9f3a\"],[0.8888888888888888,\"#fdca26\"],[1.0,\"#f0f921\"]],\"type\":\"heatmapgl\"}],\"histogram\":[{\"marker\":{\"pattern\":{\"fillmode\":\"overlay\",\"size\":10,\"solidity\":0.2}},\"type\":\"histogram\"}],\"histogram2d\":[{\"colorbar\":{\"outlinewidth\":0,\"ticks\":\"\"},\"colorscale\":[[0.0,\"#0d0887\"],[0.1111111111111111,\"#46039f\"],[0.2222222222222222,\"#7201a8\"],[0.3333333333333333,\"#9c179e\"],[0.4444444444444444,\"#bd3786\"],[0.5555555555555556,\"#d8576b\"],[0.6666666666666666,\"#ed7953\"],[0.7777777777777778,\"#fb9f3a\"],[0.8888888888888888,\"#fdca26\"],[1.0,\"#f0f921\"]],\"type\":\"histogram2d\"}],\"histogram2dcontour\":[{\"colorbar\":{\"outlinewidth\":0,\"ticks\":\"\"},\"colorscale\":[[0.0,\"#0d0887\"],[0.1111111111111111,\"#46039f\"],[0.2222222222222222,\"#7201a8\"],[0.3333333333333333,\"#9c179e\"],[0.4444444444444444,\"#bd3786\"],[0.5555555555555556,\"#d8576b\"],[0.6666666666666666,\"#ed7953\"],[0.7777777777777778,\"#fb9f3a\"],[0.8888888888888888,\"#fdca26\"],[1.0,\"#f0f921\"]],\"type\":\"histogram2dcontour\"}],\"mesh3d\":[{\"colorbar\":{\"outlinewidth\":0,\"ticks\":\"\"},\"type\":\"mesh3d\"}],\"parcoords\":[{\"line\":{\"colorbar\":{\"outlinewidth\":0,\"ticks\":\"\"}},\"type\":\"parcoords\"}],\"pie\":[{\"automargin\":true,\"type\":\"pie\"}],\"scatter\":[{\"marker\":{\"colorbar\":{\"outlinewidth\":0,\"ticks\":\"\"}},\"type\":\"scatter\"}],\"scatter3d\":[{\"line\":{\"colorbar\":{\"outlinewidth\":0,\"ticks\":\"\"}},\"marker\":{\"colorbar\":{\"outlinewidth\":0,\"ticks\":\"\"}},\"type\":\"scatter3d\"}],\"scattercarpet\":[{\"marker\":{\"colorbar\":{\"outlinewidth\":0,\"ticks\":\"\"}},\"type\":\"scattercarpet\"}],\"scattergeo\":[{\"marker\":{\"colorbar\":{\"outlinewidth\":0,\"ticks\":\"\"}},\"type\":\"scattergeo\"}],\"scattergl\":[{\"marker\":{\"colorbar\":{\"outlinewidth\":0,\"ticks\":\"\"}},\"type\":\"scattergl\"}],\"scattermapbox\":[{\"marker\":{\"colorbar\":{\"outlinewidth\":0,\"ticks\":\"\"}},\"type\":\"scattermapbox\"}],\"scatterpolar\":[{\"marker\":{\"colorbar\":{\"outlinewidth\":0,\"ticks\":\"\"}},\"type\":\"scatterpolar\"}],\"scatterpolargl\":[{\"marker\":{\"colorbar\":{\"outlinewidth\":0,\"ticks\":\"\"}},\"type\":\"scatterpolargl\"}],\"scatterternary\":[{\"marker\":{\"colorbar\":{\"outlinewidth\":0,\"ticks\":\"\"}},\"type\":\"scatterternary\"}],\"surface\":[{\"colorbar\":{\"outlinewidth\":0,\"ticks\":\"\"},\"colorscale\":[[0.0,\"#0d0887\"],[0.1111111111111111,\"#46039f\"],[0.2222222222222222,\"#7201a8\"],[0.3333333333333333,\"#9c179e\"],[0.4444444444444444,\"#bd3786\"],[0.5555555555555556,\"#d8576b\"],[0.6666666666666666,\"#ed7953\"],[0.7777777777777778,\"#fb9f3a\"],[0.8888888888888888,\"#fdca26\"],[1.0,\"#f0f921\"]],\"type\":\"surface\"}],\"table\":[{\"cells\":{\"fill\":{\"color\":\"#EBF0F8\"},\"line\":{\"color\":\"white\"}},\"header\":{\"fill\":{\"color\":\"#C8D4E3\"},\"line\":{\"color\":\"white\"}},\"type\":\"table\"}]},\"layout\":{\"annotationdefaults\":{\"arrowcolor\":\"#2a3f5f\",\"arrowhead\":0,\"arrowwidth\":1},\"autotypenumbers\":\"strict\",\"coloraxis\":{\"colorbar\":{\"outlinewidth\":0,\"ticks\":\"\"}},\"colorscale\":{\"diverging\":[[0,\"#8e0152\"],[0.1,\"#c51b7d\"],[0.2,\"#de77ae\"],[0.3,\"#f1b6da\"],[0.4,\"#fde0ef\"],[0.5,\"#f7f7f7\"],[0.6,\"#e6f5d0\"],[0.7,\"#b8e186\"],[0.8,\"#7fbc41\"],[0.9,\"#4d9221\"],[1,\"#276419\"]],\"sequential\":[[0.0,\"#0d0887\"],[0.1111111111111111,\"#46039f\"],[0.2222222222222222,\"#7201a8\"],[0.3333333333333333,\"#9c179e\"],[0.4444444444444444,\"#bd3786\"],[0.5555555555555556,\"#d8576b\"],[0.6666666666666666,\"#ed7953\"],[0.7777777777777778,\"#fb9f3a\"],[0.8888888888888888,\"#fdca26\"],[1.0,\"#f0f921\"]],\"sequentialminus\":[[0.0,\"#0d0887\"],[0.1111111111111111,\"#46039f\"],[0.2222222222222222,\"#7201a8\"],[0.3333333333333333,\"#9c179e\"],[0.4444444444444444,\"#bd3786\"],[0.5555555555555556,\"#d8576b\"],[0.6666666666666666,\"#ed7953\"],[0.7777777777777778,\"#fb9f3a\"],[0.8888888888888888,\"#fdca26\"],[1.0,\"#f0f921\"]]},\"colorway\":[\"#636efa\",\"#EF553B\",\"#00cc96\",\"#ab63fa\",\"#FFA15A\",\"#19d3f3\",\"#FF6692\",\"#B6E880\",\"#FF97FF\",\"#FECB52\"],\"font\":{\"color\":\"#2a3f5f\"},\"geo\":{\"bgcolor\":\"white\",\"lakecolor\":\"white\",\"landcolor\":\"#E5ECF6\",\"showlakes\":true,\"showland\":true,\"subunitcolor\":\"white\"},\"hoverlabel\":{\"align\":\"left\"},\"hovermode\":\"closest\",\"mapbox\":{\"style\":\"light\"},\"paper_bgcolor\":\"white\",\"plot_bgcolor\":\"#E5ECF6\",\"polar\":{\"angularaxis\":{\"gridcolor\":\"white\",\"linecolor\":\"white\",\"ticks\":\"\"},\"bgcolor\":\"#E5ECF6\",\"radialaxis\":{\"gridcolor\":\"white\",\"linecolor\":\"white\",\"ticks\":\"\"}},\"scene\":{\"xaxis\":{\"backgroundcolor\":\"#E5ECF6\",\"gridcolor\":\"white\",\"gridwidth\":2,\"linecolor\":\"white\",\"showbackground\":true,\"ticks\":\"\",\"zerolinecolor\":\"white\"},\"yaxis\":{\"backgroundcolor\":\"#E5ECF6\",\"gridcolor\":\"white\",\"gridwidth\":2,\"linecolor\":\"white\",\"showbackground\":true,\"ticks\":\"\",\"zerolinecolor\":\"white\"},\"zaxis\":{\"backgroundcolor\":\"#E5ECF6\",\"gridcolor\":\"white\",\"gridwidth\":2,\"linecolor\":\"white\",\"showbackground\":true,\"ticks\":\"\",\"zerolinecolor\":\"white\"}},\"shapedefaults\":{\"line\":{\"color\":\"#2a3f5f\"}},\"ternary\":{\"aaxis\":{\"gridcolor\":\"white\",\"linecolor\":\"white\",\"ticks\":\"\"},\"baxis\":{\"gridcolor\":\"white\",\"linecolor\":\"white\",\"ticks\":\"\"},\"bgcolor\":\"#E5ECF6\",\"caxis\":{\"gridcolor\":\"white\",\"linecolor\":\"white\",\"ticks\":\"\"}},\"title\":{\"x\":0.05},\"xaxis\":{\"automargin\":true,\"gridcolor\":\"white\",\"linecolor\":\"white\",\"ticks\":\"\",\"title\":{\"standoff\":15},\"zerolinecolor\":\"white\",\"zerolinewidth\":2},\"yaxis\":{\"automargin\":true,\"gridcolor\":\"white\",\"linecolor\":\"white\",\"ticks\":\"\",\"title\":{\"standoff\":15},\"zerolinecolor\":\"white\",\"zerolinewidth\":2}}},\"xaxis\":{\"anchor\":\"y\",\"domain\":[0.0,0.2888888888888889],\"title\":{\"text\":\"classifier\"}},\"yaxis\":{\"anchor\":\"x\",\"domain\":[0.0,1.0],\"title\":{\"text\":\"Objective Value\"}},\"xaxis2\":{\"anchor\":\"y2\",\"domain\":[0.35555555555555557,0.6444444444444445],\"title\":{\"text\":\"ridge_alpha\"}},\"yaxis2\":{\"anchor\":\"x2\",\"domain\":[0.0,1.0],\"matches\":\"y\",\"showticklabels\":false},\"xaxis3\":{\"anchor\":\"y3\",\"domain\":[0.7111111111111111,1.0],\"title\":{\"text\":\"sgd_alpha\"}},\"yaxis3\":{\"anchor\":\"x3\",\"domain\":[0.0,1.0],\"matches\":\"y\",\"showticklabels\":false},\"title\":{\"text\":\"Slice Plot\"}},                        {\"responsive\": true}                    ).then(function(){\n",
              "                            \n",
              "var gd = document.getElementById('7e5a186d-731c-4a6f-8ab7-86cd82987d49');\n",
              "var x = new MutationObserver(function (mutations, observer) {{\n",
              "        var display = window.getComputedStyle(gd).display;\n",
              "        if (!display || display === 'none') {{\n",
              "            console.log([gd, 'removed!']);\n",
              "            Plotly.purge(gd);\n",
              "            observer.disconnect();\n",
              "        }}\n",
              "}});\n",
              "\n",
              "// Listen for the removal of the full notebook cells\n",
              "var notebookContainer = gd.closest('#notebook-container');\n",
              "if (notebookContainer) {{\n",
              "    x.observe(notebookContainer, {childList: true});\n",
              "}}\n",
              "\n",
              "// Listen for the clearing of the current output cell\n",
              "var outputEl = gd.closest('.output');\n",
              "if (outputEl) {{\n",
              "    x.observe(outputEl, {childList: true});\n",
              "}}\n",
              "\n",
              "                        })                };                            </script>        </div>\n",
              "</body>\n",
              "</html>"
            ]
          },
          "metadata": {}
        }
      ]
    },
    {
      "cell_type": "code",
      "source": [
        "plot_param_importances(create_st)"
      ],
      "metadata": {
        "colab": {
          "base_uri": "https://localhost:8080/",
          "height": 542
        },
        "id": "9RqkSKEqzuSR",
        "outputId": "f927dca7-ea7e-4da9-aa02-d9c4ef5d5cc1"
      },
      "execution_count": 36,
      "outputs": [
        {
          "output_type": "display_data",
          "data": {
            "text/html": [
              "<html>\n",
              "<head><meta charset=\"utf-8\" /></head>\n",
              "<body>\n",
              "    <div>            <script src=\"https://cdnjs.cloudflare.com/ajax/libs/mathjax/2.7.5/MathJax.js?config=TeX-AMS-MML_SVG\"></script><script type=\"text/javascript\">if (window.MathJax) {MathJax.Hub.Config({SVG: {font: \"STIX-Web\"}});}</script>                <script type=\"text/javascript\">window.PlotlyConfig = {MathJaxConfig: 'local'};</script>\n",
              "        <script src=\"https://cdn.plot.ly/plotly-2.8.3.min.js\"></script>                <div id=\"2acb374b-3f92-4327-8482-1479bdcde063\" class=\"plotly-graph-div\" style=\"height:525px; width:100%;\"></div>            <script type=\"text/javascript\">                                    window.PLOTLYENV=window.PLOTLYENV || {};                                    if (document.getElementById(\"2acb374b-3f92-4327-8482-1479bdcde063\")) {                    Plotly.newPlot(                        \"2acb374b-3f92-4327-8482-1479bdcde063\",                        [{\"cliponaxis\":false,\"hovertemplate\":[\"classifier (CategoricalDistribution): 1.0<extra></extra>\"],\"marker\":{\"color\":\"rgb(66,146,198)\"},\"orientation\":\"h\",\"text\":[\"1.00\"],\"textposition\":\"outside\",\"x\":[1.0],\"y\":[\"classifier\"],\"type\":\"bar\"}],                        {\"showlegend\":false,\"title\":{\"text\":\"Hyperparameter Importances\"},\"xaxis\":{\"title\":{\"text\":\"Importance for Objective Value\"}},\"yaxis\":{\"title\":{\"text\":\"Hyperparameter\"}},\"template\":{\"data\":{\"bar\":[{\"error_x\":{\"color\":\"#2a3f5f\"},\"error_y\":{\"color\":\"#2a3f5f\"},\"marker\":{\"line\":{\"color\":\"#E5ECF6\",\"width\":0.5},\"pattern\":{\"fillmode\":\"overlay\",\"size\":10,\"solidity\":0.2}},\"type\":\"bar\"}],\"barpolar\":[{\"marker\":{\"line\":{\"color\":\"#E5ECF6\",\"width\":0.5},\"pattern\":{\"fillmode\":\"overlay\",\"size\":10,\"solidity\":0.2}},\"type\":\"barpolar\"}],\"carpet\":[{\"aaxis\":{\"endlinecolor\":\"#2a3f5f\",\"gridcolor\":\"white\",\"linecolor\":\"white\",\"minorgridcolor\":\"white\",\"startlinecolor\":\"#2a3f5f\"},\"baxis\":{\"endlinecolor\":\"#2a3f5f\",\"gridcolor\":\"white\",\"linecolor\":\"white\",\"minorgridcolor\":\"white\",\"startlinecolor\":\"#2a3f5f\"},\"type\":\"carpet\"}],\"choropleth\":[{\"colorbar\":{\"outlinewidth\":0,\"ticks\":\"\"},\"type\":\"choropleth\"}],\"contour\":[{\"colorbar\":{\"outlinewidth\":0,\"ticks\":\"\"},\"colorscale\":[[0.0,\"#0d0887\"],[0.1111111111111111,\"#46039f\"],[0.2222222222222222,\"#7201a8\"],[0.3333333333333333,\"#9c179e\"],[0.4444444444444444,\"#bd3786\"],[0.5555555555555556,\"#d8576b\"],[0.6666666666666666,\"#ed7953\"],[0.7777777777777778,\"#fb9f3a\"],[0.8888888888888888,\"#fdca26\"],[1.0,\"#f0f921\"]],\"type\":\"contour\"}],\"contourcarpet\":[{\"colorbar\":{\"outlinewidth\":0,\"ticks\":\"\"},\"type\":\"contourcarpet\"}],\"heatmap\":[{\"colorbar\":{\"outlinewidth\":0,\"ticks\":\"\"},\"colorscale\":[[0.0,\"#0d0887\"],[0.1111111111111111,\"#46039f\"],[0.2222222222222222,\"#7201a8\"],[0.3333333333333333,\"#9c179e\"],[0.4444444444444444,\"#bd3786\"],[0.5555555555555556,\"#d8576b\"],[0.6666666666666666,\"#ed7953\"],[0.7777777777777778,\"#fb9f3a\"],[0.8888888888888888,\"#fdca26\"],[1.0,\"#f0f921\"]],\"type\":\"heatmap\"}],\"heatmapgl\":[{\"colorbar\":{\"outlinewidth\":0,\"ticks\":\"\"},\"colorscale\":[[0.0,\"#0d0887\"],[0.1111111111111111,\"#46039f\"],[0.2222222222222222,\"#7201a8\"],[0.3333333333333333,\"#9c179e\"],[0.4444444444444444,\"#bd3786\"],[0.5555555555555556,\"#d8576b\"],[0.6666666666666666,\"#ed7953\"],[0.7777777777777778,\"#fb9f3a\"],[0.8888888888888888,\"#fdca26\"],[1.0,\"#f0f921\"]],\"type\":\"heatmapgl\"}],\"histogram\":[{\"marker\":{\"pattern\":{\"fillmode\":\"overlay\",\"size\":10,\"solidity\":0.2}},\"type\":\"histogram\"}],\"histogram2d\":[{\"colorbar\":{\"outlinewidth\":0,\"ticks\":\"\"},\"colorscale\":[[0.0,\"#0d0887\"],[0.1111111111111111,\"#46039f\"],[0.2222222222222222,\"#7201a8\"],[0.3333333333333333,\"#9c179e\"],[0.4444444444444444,\"#bd3786\"],[0.5555555555555556,\"#d8576b\"],[0.6666666666666666,\"#ed7953\"],[0.7777777777777778,\"#fb9f3a\"],[0.8888888888888888,\"#fdca26\"],[1.0,\"#f0f921\"]],\"type\":\"histogram2d\"}],\"histogram2dcontour\":[{\"colorbar\":{\"outlinewidth\":0,\"ticks\":\"\"},\"colorscale\":[[0.0,\"#0d0887\"],[0.1111111111111111,\"#46039f\"],[0.2222222222222222,\"#7201a8\"],[0.3333333333333333,\"#9c179e\"],[0.4444444444444444,\"#bd3786\"],[0.5555555555555556,\"#d8576b\"],[0.6666666666666666,\"#ed7953\"],[0.7777777777777778,\"#fb9f3a\"],[0.8888888888888888,\"#fdca26\"],[1.0,\"#f0f921\"]],\"type\":\"histogram2dcontour\"}],\"mesh3d\":[{\"colorbar\":{\"outlinewidth\":0,\"ticks\":\"\"},\"type\":\"mesh3d\"}],\"parcoords\":[{\"line\":{\"colorbar\":{\"outlinewidth\":0,\"ticks\":\"\"}},\"type\":\"parcoords\"}],\"pie\":[{\"automargin\":true,\"type\":\"pie\"}],\"scatter\":[{\"marker\":{\"colorbar\":{\"outlinewidth\":0,\"ticks\":\"\"}},\"type\":\"scatter\"}],\"scatter3d\":[{\"line\":{\"colorbar\":{\"outlinewidth\":0,\"ticks\":\"\"}},\"marker\":{\"colorbar\":{\"outlinewidth\":0,\"ticks\":\"\"}},\"type\":\"scatter3d\"}],\"scattercarpet\":[{\"marker\":{\"colorbar\":{\"outlinewidth\":0,\"ticks\":\"\"}},\"type\":\"scattercarpet\"}],\"scattergeo\":[{\"marker\":{\"colorbar\":{\"outlinewidth\":0,\"ticks\":\"\"}},\"type\":\"scattergeo\"}],\"scattergl\":[{\"marker\":{\"colorbar\":{\"outlinewidth\":0,\"ticks\":\"\"}},\"type\":\"scattergl\"}],\"scattermapbox\":[{\"marker\":{\"colorbar\":{\"outlinewidth\":0,\"ticks\":\"\"}},\"type\":\"scattermapbox\"}],\"scatterpolar\":[{\"marker\":{\"colorbar\":{\"outlinewidth\":0,\"ticks\":\"\"}},\"type\":\"scatterpolar\"}],\"scatterpolargl\":[{\"marker\":{\"colorbar\":{\"outlinewidth\":0,\"ticks\":\"\"}},\"type\":\"scatterpolargl\"}],\"scatterternary\":[{\"marker\":{\"colorbar\":{\"outlinewidth\":0,\"ticks\":\"\"}},\"type\":\"scatterternary\"}],\"surface\":[{\"colorbar\":{\"outlinewidth\":0,\"ticks\":\"\"},\"colorscale\":[[0.0,\"#0d0887\"],[0.1111111111111111,\"#46039f\"],[0.2222222222222222,\"#7201a8\"],[0.3333333333333333,\"#9c179e\"],[0.4444444444444444,\"#bd3786\"],[0.5555555555555556,\"#d8576b\"],[0.6666666666666666,\"#ed7953\"],[0.7777777777777778,\"#fb9f3a\"],[0.8888888888888888,\"#fdca26\"],[1.0,\"#f0f921\"]],\"type\":\"surface\"}],\"table\":[{\"cells\":{\"fill\":{\"color\":\"#EBF0F8\"},\"line\":{\"color\":\"white\"}},\"header\":{\"fill\":{\"color\":\"#C8D4E3\"},\"line\":{\"color\":\"white\"}},\"type\":\"table\"}]},\"layout\":{\"annotationdefaults\":{\"arrowcolor\":\"#2a3f5f\",\"arrowhead\":0,\"arrowwidth\":1},\"autotypenumbers\":\"strict\",\"coloraxis\":{\"colorbar\":{\"outlinewidth\":0,\"ticks\":\"\"}},\"colorscale\":{\"diverging\":[[0,\"#8e0152\"],[0.1,\"#c51b7d\"],[0.2,\"#de77ae\"],[0.3,\"#f1b6da\"],[0.4,\"#fde0ef\"],[0.5,\"#f7f7f7\"],[0.6,\"#e6f5d0\"],[0.7,\"#b8e186\"],[0.8,\"#7fbc41\"],[0.9,\"#4d9221\"],[1,\"#276419\"]],\"sequential\":[[0.0,\"#0d0887\"],[0.1111111111111111,\"#46039f\"],[0.2222222222222222,\"#7201a8\"],[0.3333333333333333,\"#9c179e\"],[0.4444444444444444,\"#bd3786\"],[0.5555555555555556,\"#d8576b\"],[0.6666666666666666,\"#ed7953\"],[0.7777777777777778,\"#fb9f3a\"],[0.8888888888888888,\"#fdca26\"],[1.0,\"#f0f921\"]],\"sequentialminus\":[[0.0,\"#0d0887\"],[0.1111111111111111,\"#46039f\"],[0.2222222222222222,\"#7201a8\"],[0.3333333333333333,\"#9c179e\"],[0.4444444444444444,\"#bd3786\"],[0.5555555555555556,\"#d8576b\"],[0.6666666666666666,\"#ed7953\"],[0.7777777777777778,\"#fb9f3a\"],[0.8888888888888888,\"#fdca26\"],[1.0,\"#f0f921\"]]},\"colorway\":[\"#636efa\",\"#EF553B\",\"#00cc96\",\"#ab63fa\",\"#FFA15A\",\"#19d3f3\",\"#FF6692\",\"#B6E880\",\"#FF97FF\",\"#FECB52\"],\"font\":{\"color\":\"#2a3f5f\"},\"geo\":{\"bgcolor\":\"white\",\"lakecolor\":\"white\",\"landcolor\":\"#E5ECF6\",\"showlakes\":true,\"showland\":true,\"subunitcolor\":\"white\"},\"hoverlabel\":{\"align\":\"left\"},\"hovermode\":\"closest\",\"mapbox\":{\"style\":\"light\"},\"paper_bgcolor\":\"white\",\"plot_bgcolor\":\"#E5ECF6\",\"polar\":{\"angularaxis\":{\"gridcolor\":\"white\",\"linecolor\":\"white\",\"ticks\":\"\"},\"bgcolor\":\"#E5ECF6\",\"radialaxis\":{\"gridcolor\":\"white\",\"linecolor\":\"white\",\"ticks\":\"\"}},\"scene\":{\"xaxis\":{\"backgroundcolor\":\"#E5ECF6\",\"gridcolor\":\"white\",\"gridwidth\":2,\"linecolor\":\"white\",\"showbackground\":true,\"ticks\":\"\",\"zerolinecolor\":\"white\"},\"yaxis\":{\"backgroundcolor\":\"#E5ECF6\",\"gridcolor\":\"white\",\"gridwidth\":2,\"linecolor\":\"white\",\"showbackground\":true,\"ticks\":\"\",\"zerolinecolor\":\"white\"},\"zaxis\":{\"backgroundcolor\":\"#E5ECF6\",\"gridcolor\":\"white\",\"gridwidth\":2,\"linecolor\":\"white\",\"showbackground\":true,\"ticks\":\"\",\"zerolinecolor\":\"white\"}},\"shapedefaults\":{\"line\":{\"color\":\"#2a3f5f\"}},\"ternary\":{\"aaxis\":{\"gridcolor\":\"white\",\"linecolor\":\"white\",\"ticks\":\"\"},\"baxis\":{\"gridcolor\":\"white\",\"linecolor\":\"white\",\"ticks\":\"\"},\"bgcolor\":\"#E5ECF6\",\"caxis\":{\"gridcolor\":\"white\",\"linecolor\":\"white\",\"ticks\":\"\"}},\"title\":{\"x\":0.05},\"xaxis\":{\"automargin\":true,\"gridcolor\":\"white\",\"linecolor\":\"white\",\"ticks\":\"\",\"title\":{\"standoff\":15},\"zerolinecolor\":\"white\",\"zerolinewidth\":2},\"yaxis\":{\"automargin\":true,\"gridcolor\":\"white\",\"linecolor\":\"white\",\"ticks\":\"\",\"title\":{\"standoff\":15},\"zerolinecolor\":\"white\",\"zerolinewidth\":2}}}},                        {\"responsive\": true}                    ).then(function(){\n",
              "                            \n",
              "var gd = document.getElementById('2acb374b-3f92-4327-8482-1479bdcde063');\n",
              "var x = new MutationObserver(function (mutations, observer) {{\n",
              "        var display = window.getComputedStyle(gd).display;\n",
              "        if (!display || display === 'none') {{\n",
              "            console.log([gd, 'removed!']);\n",
              "            Plotly.purge(gd);\n",
              "            observer.disconnect();\n",
              "        }}\n",
              "}});\n",
              "\n",
              "// Listen for the removal of the full notebook cells\n",
              "var notebookContainer = gd.closest('#notebook-container');\n",
              "if (notebookContainer) {{\n",
              "    x.observe(notebookContainer, {childList: true});\n",
              "}}\n",
              "\n",
              "// Listen for the clearing of the current output cell\n",
              "var outputEl = gd.closest('.output');\n",
              "if (outputEl) {{\n",
              "    x.observe(outputEl, {childList: true});\n",
              "}}\n",
              "\n",
              "                        })                };                            </script>        </div>\n",
              "</body>\n",
              "</html>"
            ]
          },
          "metadata": {}
        }
      ]
    },
    {
      "cell_type": "code",
      "source": [
        "plot_edf(create_st)"
      ],
      "metadata": {
        "colab": {
          "base_uri": "https://localhost:8080/",
          "height": 542
        },
        "id": "Zn_MPVODziP2",
        "outputId": "b1c991be-6d9f-4b73-9093-30224843dfb2"
      },
      "execution_count": 37,
      "outputs": [
        {
          "output_type": "display_data",
          "data": {
            "text/html": [
              "<html>\n",
              "<head><meta charset=\"utf-8\" /></head>\n",
              "<body>\n",
              "    <div>            <script src=\"https://cdnjs.cloudflare.com/ajax/libs/mathjax/2.7.5/MathJax.js?config=TeX-AMS-MML_SVG\"></script><script type=\"text/javascript\">if (window.MathJax) {MathJax.Hub.Config({SVG: {font: \"STIX-Web\"}});}</script>                <script type=\"text/javascript\">window.PlotlyConfig = {MathJaxConfig: 'local'};</script>\n",
              "        <script src=\"https://cdn.plot.ly/plotly-2.8.3.min.js\"></script>                <div id=\"b22d5a35-4545-4356-9f27-1cb711628802\" class=\"plotly-graph-div\" style=\"height:525px; width:100%;\"></div>            <script type=\"text/javascript\">                                    window.PLOTLYENV=window.PLOTLYENV || {};                                    if (document.getElementById(\"b22d5a35-4545-4356-9f27-1cb711628802\")) {                    Plotly.newPlot(                        \"b22d5a35-4545-4356-9f27-1cb711628802\",                        [{\"mode\":\"lines\",\"name\":\"no-name-0dace083-61b9-47ce-9f91-ea1253f7577d\",\"x\":[0.0,0.006509539842873177,0.013019079685746353,0.01952861952861953,0.026038159371492706,0.032547699214365886,0.03905723905723906,0.04556677890011224,0.05207631874298541,0.05858585858585859,0.06509539842873177,0.07160493827160494,0.07811447811447812,0.08462401795735129,0.09113355780022447,0.09764309764309764,0.10415263748597083,0.11066217732884401,0.11717171717171718,0.12368125701459036,0.13019079685746354,0.1367003367003367,0.14320987654320988,0.14971941638608305,0.15622895622895625,0.1627384960718294,0.16924803591470258,0.17575757575757578,0.18226711560044895,0.18877665544332212,0.19528619528619529,0.20179573512906848,0.20830527497194165,0.21481481481481482,0.22132435465768802,0.22783389450056118,0.23434343434343435,0.24085297418630752,0.24736251402918072,0.25387205387205386,0.2603815937149271,0.26689113355780025,0.2734006734006734,0.2799102132435466,0.28641975308641976,0.29292929292929293,0.2994388327721661,0.3059483726150393,0.3124579124579125,0.31896745230078566,0.3254769921436588,0.331986531986532,0.33849607182940517,0.34500561167227833,0.35151515151515156,0.3580246913580247,0.3645342312008979,0.37104377104377106,0.37755331088664423,0.3840628507295174,0.39057239057239057,0.3970819304152638,0.40359147025813696,0.41010101010101013,0.4166105499438833,0.42312008978675647,0.42962962962962964,0.4361391694725028,0.44264870931537603,0.4491582491582492,0.45566778900112237,0.46217732884399554,0.4686868686868687,0.4751964085297419,0.48170594837261504,0.48821548821548827,0.49472502805836144,0.5012345679012346,0.5077441077441077,0.514253647586981,0.5207631874298542,0.5272727272727273,0.5337822671156005,0.5402918069584737,0.5468013468013468,0.55331088664422,0.5598204264870932,0.5663299663299664,0.5728395061728395,0.5793490460157127,0.5858585858585859,0.592368125701459,0.5988776655443322,0.6053872053872055,0.6118967452300786,0.6184062850729518,0.624915824915825,0.6314253647586981,0.6379349046015713,0.6444444444444445],\"y\":[0.5,0.5,0.5,0.5,0.5,0.5,0.5,0.5,0.5,0.5,0.5,0.5,0.5,0.5,0.5,0.5,0.5,0.5,0.5,0.5,0.5,0.5,0.5,0.5,0.5,0.5,0.5,0.5,0.5,0.5,0.5,0.5,0.5,0.5,0.5,0.5,0.5,0.5,0.5,0.5,0.5,0.6666666666666666,0.6666666666666666,0.6666666666666666,0.6666666666666666,0.6666666666666666,0.6666666666666666,0.6666666666666666,0.6666666666666666,0.6666666666666666,0.6666666666666666,0.6666666666666666,0.6666666666666666,0.6666666666666666,0.6666666666666666,0.6666666666666666,0.6666666666666666,0.6666666666666666,0.6666666666666666,0.6666666666666666,0.6666666666666666,0.6666666666666666,0.6666666666666666,0.6666666666666666,0.6666666666666666,0.6666666666666666,0.6666666666666666,0.6666666666666666,0.6666666666666666,0.6666666666666666,0.6666666666666666,0.6666666666666666,0.6666666666666666,0.6666666666666666,0.6666666666666666,0.6666666666666666,0.6666666666666666,0.6666666666666666,0.6666666666666666,0.6666666666666666,0.6666666666666666,0.6666666666666666,0.6666666666666666,0.6666666666666666,0.6666666666666666,0.6666666666666666,0.8333333333333334,0.8333333333333334,0.8333333333333334,0.8333333333333334,0.8333333333333334,0.8333333333333334,0.8333333333333334,0.8333333333333334,0.8333333333333334,0.8333333333333334,0.8333333333333334,0.8333333333333334,0.8333333333333334,1.0],\"type\":\"scatter\"}],                        {\"title\":{\"text\":\"Empirical Distribution Function Plot\"},\"xaxis\":{\"title\":{\"text\":\"Objective Value\"}},\"yaxis\":{\"title\":{\"text\":\"Cumulative Probability\"},\"range\":[0,1]},\"template\":{\"data\":{\"bar\":[{\"error_x\":{\"color\":\"#2a3f5f\"},\"error_y\":{\"color\":\"#2a3f5f\"},\"marker\":{\"line\":{\"color\":\"#E5ECF6\",\"width\":0.5},\"pattern\":{\"fillmode\":\"overlay\",\"size\":10,\"solidity\":0.2}},\"type\":\"bar\"}],\"barpolar\":[{\"marker\":{\"line\":{\"color\":\"#E5ECF6\",\"width\":0.5},\"pattern\":{\"fillmode\":\"overlay\",\"size\":10,\"solidity\":0.2}},\"type\":\"barpolar\"}],\"carpet\":[{\"aaxis\":{\"endlinecolor\":\"#2a3f5f\",\"gridcolor\":\"white\",\"linecolor\":\"white\",\"minorgridcolor\":\"white\",\"startlinecolor\":\"#2a3f5f\"},\"baxis\":{\"endlinecolor\":\"#2a3f5f\",\"gridcolor\":\"white\",\"linecolor\":\"white\",\"minorgridcolor\":\"white\",\"startlinecolor\":\"#2a3f5f\"},\"type\":\"carpet\"}],\"choropleth\":[{\"colorbar\":{\"outlinewidth\":0,\"ticks\":\"\"},\"type\":\"choropleth\"}],\"contour\":[{\"colorbar\":{\"outlinewidth\":0,\"ticks\":\"\"},\"colorscale\":[[0.0,\"#0d0887\"],[0.1111111111111111,\"#46039f\"],[0.2222222222222222,\"#7201a8\"],[0.3333333333333333,\"#9c179e\"],[0.4444444444444444,\"#bd3786\"],[0.5555555555555556,\"#d8576b\"],[0.6666666666666666,\"#ed7953\"],[0.7777777777777778,\"#fb9f3a\"],[0.8888888888888888,\"#fdca26\"],[1.0,\"#f0f921\"]],\"type\":\"contour\"}],\"contourcarpet\":[{\"colorbar\":{\"outlinewidth\":0,\"ticks\":\"\"},\"type\":\"contourcarpet\"}],\"heatmap\":[{\"colorbar\":{\"outlinewidth\":0,\"ticks\":\"\"},\"colorscale\":[[0.0,\"#0d0887\"],[0.1111111111111111,\"#46039f\"],[0.2222222222222222,\"#7201a8\"],[0.3333333333333333,\"#9c179e\"],[0.4444444444444444,\"#bd3786\"],[0.5555555555555556,\"#d8576b\"],[0.6666666666666666,\"#ed7953\"],[0.7777777777777778,\"#fb9f3a\"],[0.8888888888888888,\"#fdca26\"],[1.0,\"#f0f921\"]],\"type\":\"heatmap\"}],\"heatmapgl\":[{\"colorbar\":{\"outlinewidth\":0,\"ticks\":\"\"},\"colorscale\":[[0.0,\"#0d0887\"],[0.1111111111111111,\"#46039f\"],[0.2222222222222222,\"#7201a8\"],[0.3333333333333333,\"#9c179e\"],[0.4444444444444444,\"#bd3786\"],[0.5555555555555556,\"#d8576b\"],[0.6666666666666666,\"#ed7953\"],[0.7777777777777778,\"#fb9f3a\"],[0.8888888888888888,\"#fdca26\"],[1.0,\"#f0f921\"]],\"type\":\"heatmapgl\"}],\"histogram\":[{\"marker\":{\"pattern\":{\"fillmode\":\"overlay\",\"size\":10,\"solidity\":0.2}},\"type\":\"histogram\"}],\"histogram2d\":[{\"colorbar\":{\"outlinewidth\":0,\"ticks\":\"\"},\"colorscale\":[[0.0,\"#0d0887\"],[0.1111111111111111,\"#46039f\"],[0.2222222222222222,\"#7201a8\"],[0.3333333333333333,\"#9c179e\"],[0.4444444444444444,\"#bd3786\"],[0.5555555555555556,\"#d8576b\"],[0.6666666666666666,\"#ed7953\"],[0.7777777777777778,\"#fb9f3a\"],[0.8888888888888888,\"#fdca26\"],[1.0,\"#f0f921\"]],\"type\":\"histogram2d\"}],\"histogram2dcontour\":[{\"colorbar\":{\"outlinewidth\":0,\"ticks\":\"\"},\"colorscale\":[[0.0,\"#0d0887\"],[0.1111111111111111,\"#46039f\"],[0.2222222222222222,\"#7201a8\"],[0.3333333333333333,\"#9c179e\"],[0.4444444444444444,\"#bd3786\"],[0.5555555555555556,\"#d8576b\"],[0.6666666666666666,\"#ed7953\"],[0.7777777777777778,\"#fb9f3a\"],[0.8888888888888888,\"#fdca26\"],[1.0,\"#f0f921\"]],\"type\":\"histogram2dcontour\"}],\"mesh3d\":[{\"colorbar\":{\"outlinewidth\":0,\"ticks\":\"\"},\"type\":\"mesh3d\"}],\"parcoords\":[{\"line\":{\"colorbar\":{\"outlinewidth\":0,\"ticks\":\"\"}},\"type\":\"parcoords\"}],\"pie\":[{\"automargin\":true,\"type\":\"pie\"}],\"scatter\":[{\"marker\":{\"colorbar\":{\"outlinewidth\":0,\"ticks\":\"\"}},\"type\":\"scatter\"}],\"scatter3d\":[{\"line\":{\"colorbar\":{\"outlinewidth\":0,\"ticks\":\"\"}},\"marker\":{\"colorbar\":{\"outlinewidth\":0,\"ticks\":\"\"}},\"type\":\"scatter3d\"}],\"scattercarpet\":[{\"marker\":{\"colorbar\":{\"outlinewidth\":0,\"ticks\":\"\"}},\"type\":\"scattercarpet\"}],\"scattergeo\":[{\"marker\":{\"colorbar\":{\"outlinewidth\":0,\"ticks\":\"\"}},\"type\":\"scattergeo\"}],\"scattergl\":[{\"marker\":{\"colorbar\":{\"outlinewidth\":0,\"ticks\":\"\"}},\"type\":\"scattergl\"}],\"scattermapbox\":[{\"marker\":{\"colorbar\":{\"outlinewidth\":0,\"ticks\":\"\"}},\"type\":\"scattermapbox\"}],\"scatterpolar\":[{\"marker\":{\"colorbar\":{\"outlinewidth\":0,\"ticks\":\"\"}},\"type\":\"scatterpolar\"}],\"scatterpolargl\":[{\"marker\":{\"colorbar\":{\"outlinewidth\":0,\"ticks\":\"\"}},\"type\":\"scatterpolargl\"}],\"scatterternary\":[{\"marker\":{\"colorbar\":{\"outlinewidth\":0,\"ticks\":\"\"}},\"type\":\"scatterternary\"}],\"surface\":[{\"colorbar\":{\"outlinewidth\":0,\"ticks\":\"\"},\"colorscale\":[[0.0,\"#0d0887\"],[0.1111111111111111,\"#46039f\"],[0.2222222222222222,\"#7201a8\"],[0.3333333333333333,\"#9c179e\"],[0.4444444444444444,\"#bd3786\"],[0.5555555555555556,\"#d8576b\"],[0.6666666666666666,\"#ed7953\"],[0.7777777777777778,\"#fb9f3a\"],[0.8888888888888888,\"#fdca26\"],[1.0,\"#f0f921\"]],\"type\":\"surface\"}],\"table\":[{\"cells\":{\"fill\":{\"color\":\"#EBF0F8\"},\"line\":{\"color\":\"white\"}},\"header\":{\"fill\":{\"color\":\"#C8D4E3\"},\"line\":{\"color\":\"white\"}},\"type\":\"table\"}]},\"layout\":{\"annotationdefaults\":{\"arrowcolor\":\"#2a3f5f\",\"arrowhead\":0,\"arrowwidth\":1},\"autotypenumbers\":\"strict\",\"coloraxis\":{\"colorbar\":{\"outlinewidth\":0,\"ticks\":\"\"}},\"colorscale\":{\"diverging\":[[0,\"#8e0152\"],[0.1,\"#c51b7d\"],[0.2,\"#de77ae\"],[0.3,\"#f1b6da\"],[0.4,\"#fde0ef\"],[0.5,\"#f7f7f7\"],[0.6,\"#e6f5d0\"],[0.7,\"#b8e186\"],[0.8,\"#7fbc41\"],[0.9,\"#4d9221\"],[1,\"#276419\"]],\"sequential\":[[0.0,\"#0d0887\"],[0.1111111111111111,\"#46039f\"],[0.2222222222222222,\"#7201a8\"],[0.3333333333333333,\"#9c179e\"],[0.4444444444444444,\"#bd3786\"],[0.5555555555555556,\"#d8576b\"],[0.6666666666666666,\"#ed7953\"],[0.7777777777777778,\"#fb9f3a\"],[0.8888888888888888,\"#fdca26\"],[1.0,\"#f0f921\"]],\"sequentialminus\":[[0.0,\"#0d0887\"],[0.1111111111111111,\"#46039f\"],[0.2222222222222222,\"#7201a8\"],[0.3333333333333333,\"#9c179e\"],[0.4444444444444444,\"#bd3786\"],[0.5555555555555556,\"#d8576b\"],[0.6666666666666666,\"#ed7953\"],[0.7777777777777778,\"#fb9f3a\"],[0.8888888888888888,\"#fdca26\"],[1.0,\"#f0f921\"]]},\"colorway\":[\"#636efa\",\"#EF553B\",\"#00cc96\",\"#ab63fa\",\"#FFA15A\",\"#19d3f3\",\"#FF6692\",\"#B6E880\",\"#FF97FF\",\"#FECB52\"],\"font\":{\"color\":\"#2a3f5f\"},\"geo\":{\"bgcolor\":\"white\",\"lakecolor\":\"white\",\"landcolor\":\"#E5ECF6\",\"showlakes\":true,\"showland\":true,\"subunitcolor\":\"white\"},\"hoverlabel\":{\"align\":\"left\"},\"hovermode\":\"closest\",\"mapbox\":{\"style\":\"light\"},\"paper_bgcolor\":\"white\",\"plot_bgcolor\":\"#E5ECF6\",\"polar\":{\"angularaxis\":{\"gridcolor\":\"white\",\"linecolor\":\"white\",\"ticks\":\"\"},\"bgcolor\":\"#E5ECF6\",\"radialaxis\":{\"gridcolor\":\"white\",\"linecolor\":\"white\",\"ticks\":\"\"}},\"scene\":{\"xaxis\":{\"backgroundcolor\":\"#E5ECF6\",\"gridcolor\":\"white\",\"gridwidth\":2,\"linecolor\":\"white\",\"showbackground\":true,\"ticks\":\"\",\"zerolinecolor\":\"white\"},\"yaxis\":{\"backgroundcolor\":\"#E5ECF6\",\"gridcolor\":\"white\",\"gridwidth\":2,\"linecolor\":\"white\",\"showbackground\":true,\"ticks\":\"\",\"zerolinecolor\":\"white\"},\"zaxis\":{\"backgroundcolor\":\"#E5ECF6\",\"gridcolor\":\"white\",\"gridwidth\":2,\"linecolor\":\"white\",\"showbackground\":true,\"ticks\":\"\",\"zerolinecolor\":\"white\"}},\"shapedefaults\":{\"line\":{\"color\":\"#2a3f5f\"}},\"ternary\":{\"aaxis\":{\"gridcolor\":\"white\",\"linecolor\":\"white\",\"ticks\":\"\"},\"baxis\":{\"gridcolor\":\"white\",\"linecolor\":\"white\",\"ticks\":\"\"},\"bgcolor\":\"#E5ECF6\",\"caxis\":{\"gridcolor\":\"white\",\"linecolor\":\"white\",\"ticks\":\"\"}},\"title\":{\"x\":0.05},\"xaxis\":{\"automargin\":true,\"gridcolor\":\"white\",\"linecolor\":\"white\",\"ticks\":\"\",\"title\":{\"standoff\":15},\"zerolinecolor\":\"white\",\"zerolinewidth\":2},\"yaxis\":{\"automargin\":true,\"gridcolor\":\"white\",\"linecolor\":\"white\",\"ticks\":\"\",\"title\":{\"standoff\":15},\"zerolinecolor\":\"white\",\"zerolinewidth\":2}}}},                        {\"responsive\": true}                    ).then(function(){\n",
              "                            \n",
              "var gd = document.getElementById('b22d5a35-4545-4356-9f27-1cb711628802');\n",
              "var x = new MutationObserver(function (mutations, observer) {{\n",
              "        var display = window.getComputedStyle(gd).display;\n",
              "        if (!display || display === 'none') {{\n",
              "            console.log([gd, 'removed!']);\n",
              "            Plotly.purge(gd);\n",
              "            observer.disconnect();\n",
              "        }}\n",
              "}});\n",
              "\n",
              "// Listen for the removal of the full notebook cells\n",
              "var notebookContainer = gd.closest('#notebook-container');\n",
              "if (notebookContainer) {{\n",
              "    x.observe(notebookContainer, {childList: true});\n",
              "}}\n",
              "\n",
              "// Listen for the clearing of the current output cell\n",
              "var outputEl = gd.closest('.output');\n",
              "if (outputEl) {{\n",
              "    x.observe(outputEl, {childList: true});\n",
              "}}\n",
              "\n",
              "                        })                };                            </script>        </div>\n",
              "</body>\n",
              "</html>"
            ]
          },
          "metadata": {}
        }
      ]
    }
  ]
}