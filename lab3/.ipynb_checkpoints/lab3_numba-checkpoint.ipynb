{
 "cells": [
  {
   "cell_type": "markdown",
   "id": "063a5d60-9af3-4bb4-b086-fcb556696a91",
   "metadata": {},
   "source": [
    "# Лабораторная работа №3\n",
    "\n",
    "## NUMBA"
   ]
  },
  {
   "cell_type": "code",
   "execution_count": 3,
   "id": "2c4058a2-fedf-437e-86c4-68aa2aca036e",
   "metadata": {},
   "outputs": [
    {
     "ename": "ModuleNotFoundError",
     "evalue": "No module named 'numba'",
     "output_type": "error",
     "traceback": [
      "\u001b[1;31m---------------------------------------------------------------------------\u001b[0m",
      "\u001b[1;31mModuleNotFoundError\u001b[0m                       Traceback (most recent call last)",
      "Cell \u001b[1;32mIn[3], line 6\u001b[0m\n\u001b[0;32m      4\u001b[0m \u001b[38;5;28;01mfrom\u001b[39;00m \u001b[38;5;21;01mmatplotlib\u001b[39;00m \u001b[38;5;28;01mimport\u001b[39;00m pyplot \u001b[38;5;28;01mas\u001b[39;00m plt\n\u001b[0;32m      5\u001b[0m \u001b[38;5;28;01mimport\u001b[39;00m \u001b[38;5;21;01msklearn\u001b[39;00m\n\u001b[1;32m----> 6\u001b[0m \u001b[38;5;28;01mimport\u001b[39;00m \u001b[38;5;21;01mnumba\u001b[39;00m\n\u001b[0;32m      7\u001b[0m \u001b[38;5;28;01mfrom\u001b[39;00m \u001b[38;5;21;01mnumba\u001b[39;00m \u001b[38;5;28;01mimport\u001b[39;00m jit\n",
      "\u001b[1;31mModuleNotFoundError\u001b[0m: No module named 'numba'"
     ]
    }
   ],
   "source": [
    "from typing import Tuple, Mapping\n",
    "\n",
    "import numpy as np\n",
    "from matplotlib import pyplot as plt\n",
    "import sklearn\n",
    "import numba\n",
    "from numba import jit"
   ]
  },
  {
   "cell_type": "code",
   "execution_count": 2,
   "id": "7fa7ab60-f6ee-4b68-b0bb-0a4f2dffeec5",
   "metadata": {},
   "outputs": [],
   "source": [
    "!pip install numba"
   ]
  },
  {
   "cell_type": "markdown",
   "id": "7225b52d-0027-467a-89cf-3c7041829312",
   "metadata": {},
   "source": [
    "#### Тестовые функции"
   ]
  },
  {
   "cell_type": "markdown",
   "id": "4c53e71c-0011-4786-b655-f865a17e2a1e",
   "metadata": {},
   "source": [
    "##### Функция трехгорбого верблюда\n",
    "$$ {\\displaystyle f(x,y)=2x^{2}-1.05x^{4}+{\\frac {x^{6}}{6}}+xy+y^{2}} $$\n",
    "Глобальный минимум\n",
    "$$ {\\displaystyle f(0,0)=0} $$\n",
    "Метод поиска\n",
    "$$ {\\displaystyle -5\\leq x,y\\leq 5} $$"
   ]
  },
  {
   "cell_type": "code",
   "execution_count": 6,
   "id": "dabc7171-b0b1-41ac-938e-8756cdd4caa4",
   "metadata": {},
   "outputs": [],
   "source": [
    "def test_func_Camel(x: np.ndarray, y:np.ndarray) -> np.float64:   \n",
    "    return 2 * x**2 - 1.05 * x**4 + 1/6 * x**6 + x * y + y**2\n",
    "\n",
    "def test_func_Camel_dx(x: np.ndarray, y:np.ndarray) -> np.float64:\n",
    "    return 4 * x - 4.2 * x**3 + x**5 + y\n",
    "\n",
    "def test_func_Camel_dy(x: np.ndarray, y:np.ndarray) -> np.float64:\n",
    "    return x + 2 * y"
   ]
  },
  {
   "cell_type": "markdown",
   "id": "26475549-095b-432c-97b6-02f871fd1945",
   "metadata": {},
   "source": [
    "##### Функция Изома\n",
    "$$ {\\displaystyle f(x,y)=-\\cos \\left(x\\right)\\cos \\left(y\\right)\\exp \\left(-\\left(\\left(x-\\pi \\right)^{2}+\\left(y-\\pi \\right)^{2}\\right)\\right)} $$\n",
    "Глобальный минимум\n",
    "$$ {\\displaystyle f(\\pi ,\\pi )=-1} $$\n",
    "Метод поиска\n",
    "$$ {\\displaystyle -100\\leq x,y\\leq 100} $$"
   ]
  },
  {
   "cell_type": "code",
   "execution_count": 8,
   "id": "81833f8b-49c7-4c5e-8716-59cda7f8c67a",
   "metadata": {},
   "outputs": [],
   "source": [
    "def test_func_Izom(x: np.ndarray, y:np.ndarray) -> np.float64:   \n",
    "    return -np.cos(x) * np.cos(y) * np.exp(-((x - np.pi)**2 + (y - np.pi)**2))\n",
    "\n",
    "def test_func_Izom_dx(x: np.ndarray, y:np.ndarray) -> np.float64:  \n",
    "    return np.exp(-x**2-y**2-2*(np.pi)**2)*(np.cos(y)*np.exp(2*np.pi*x+2*np.pi*y)*np.sin(x)+(2*np.exp(2*np.pi*y)*np.cos(y)*x-2*np.pi*np.exp(2*np.pi*y)*np.cos(y))*np.exp(2*np.pi*x)*np.cos(x))\n",
    "\n",
    "def test_func_Izom_dy(x: np.ndarray, y:np.ndarray) -> np.float64:\n",
    "    return np.exp(-y**2-x**2-2*(np.pi)**2)*(np.cos(x)*np.exp(2*np.pi*y+2*np.pi*x)*np.sin(y)+(2*np.exp(2*np.pi*x)*np.cos(x)*y-2*np.pi*np.exp(2*np.pi*x)*np.cos(x))*np.exp(2*np.pi*y)*np.cos(y))"
   ]
  },
  {
   "cell_type": "markdown",
   "id": "c8dc2a45-1a77-4c6b-bd6f-e2b021f30ba3",
   "metadata": {},
   "source": [
    "##### Функция Била\n",
    "$$ {\\displaystyle f(x,y)=\\left(1.5-x+xy\\right)^{2}+\\left(2.25-x+xy^{2}\\right)^{2}} $$\n",
    "Глобальный минимум:\n",
    "$$ {\\displaystyle f(3,0.5)=0} $$\n",
    "Метод поиска:\n",
    "$$ {\\displaystyle -4.5\\leq x,y\\leq 4.5} $$"
   ]
  },
  {
   "cell_type": "code",
   "execution_count": 9,
   "id": "4efb972c-1284-4ccc-bdea-fb4fcdfb87e9",
   "metadata": {
    "tags": []
   },
   "outputs": [],
   "source": [
    "def test_func_Bil(x: np.ndarray, y:np.ndarray) -> np.longdouble:\n",
    "    return (1.5 - x + x*y)**2 + (2.25 - x + x*y**2)**2\n",
    "\n",
    "def test_func_Bil_dx(x: np.ndarray, y:np.ndarray) -> np.longdouble:\n",
    "    return (4 * y**4 - 4 * y**2 - 8*y + 8)*x * 0.5 + 4.5 *y**2 + 3 * y - 7.5\n",
    "\n",
    "def test_func_Bil_dy(x: np.ndarray, y:np.ndarray) -> np.longdouble:\n",
    "    return 4 * x**2 * y**3 + (9*x - 2*x**2)*y - 2 * x**2 + 3 * x"
   ]
  },
  {
   "cell_type": "code",
   "execution_count": 11,
   "id": "05b5d63c-2f69-475d-bc5a-e0deaf9ce838",
   "metadata": {},
   "outputs": [],
   "source": [
    "def my_gd(f: Mapping, dfdx: Mapping, dfdy: Mapping, x0: np.ndarray, lr: float = 0.001, T: int = 10000)-> Tuple [np.ndarray, np.ndarray, np.float32]:\n",
    "    \"\"\"\n",
    "    Реализация градиентного спуска\n",
    "    \n",
    "    Args:\n",
    "        f(Mapping) -> функционал для оптимизации\n",
    "        df(Mapping) -> градиент оптимизирующего функционала (dx,dy)\n",
    "        x0(np.ndarray) -> стартовая точка\n",
    "        lr(float) -> скорость обучения\n",
    "        T(int) -> количество итераций\n",
    "    \n",
    "    Returns:\n",
    "        x, y, результат функции от этих x и y\n",
    "    \n",
    "    \"\"\"\n",
    "    \n",
    "    x_old = x0[0]\n",
    "    y_old = x0[1]\n",
    "    \n",
    "    for _ in range(T):\n",
    "        x_new = x_old - lr * dfdx(x_old, y_old)\n",
    "        y_new = y_old - lr * dfdy(x_old, y_old)\n",
    "        \n",
    "        x_old = x_new\n",
    "        y_old = y_new\n",
    "        history.append([x_old.copy(), y_old.copy(), f(x_old, y_old)])\n",
    "    return x_new, y_new, f(x_new, y_new)"
   ]
  }
 ],
 "metadata": {
  "kernelspec": {
   "display_name": "Python 3 (ipykernel)",
   "language": "python",
   "name": "python3"
  },
  "language_info": {
   "codemirror_mode": {
    "name": "ipython",
    "version": 3
   },
   "file_extension": ".py",
   "mimetype": "text/x-python",
   "name": "python",
   "nbconvert_exporter": "python",
   "pygments_lexer": "ipython3",
   "version": "3.10.0"
  }
 },
 "nbformat": 4,
 "nbformat_minor": 5
}
