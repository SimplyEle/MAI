{
  "cells": [
    {
      "cell_type": "markdown",
      "id": "063a5d60-9af3-4bb4-b086-fcb556696a91",
      "metadata": {
        "id": "063a5d60-9af3-4bb4-b086-fcb556696a91"
      },
      "source": [
        "# Лабораторная работа №3\n",
        "\n",
        "## NUMBA"
      ]
    },
    {
      "cell_type": "code",
      "execution_count": 115,
      "id": "7fa7ab60-f6ee-4b68-b0bb-0a4f2dffeec5",
      "metadata": {
        "colab": {
          "base_uri": "https://localhost:8080/"
        },
        "id": "7fa7ab60-f6ee-4b68-b0bb-0a4f2dffeec5",
        "outputId": "e66fcd0b-634b-4785-a40c-fb7a94a752b7"
      },
      "outputs": [
        {
          "output_type": "stream",
          "name": "stdout",
          "text": [
            "Looking in indexes: https://pypi.org/simple, https://us-python.pkg.dev/colab-wheels/public/simple/\n",
            "Requirement already satisfied: numba in /usr/local/lib/python3.8/dist-packages (0.56.4)\n",
            "Requirement already satisfied: setuptools in /usr/local/lib/python3.8/dist-packages (from numba) (57.4.0)\n",
            "Requirement already satisfied: importlib-metadata in /usr/local/lib/python3.8/dist-packages (from numba) (6.0.0)\n",
            "Requirement already satisfied: numpy<1.24,>=1.18 in /usr/local/lib/python3.8/dist-packages (from numba) (1.21.6)\n",
            "Requirement already satisfied: llvmlite<0.40,>=0.39.0dev0 in /usr/local/lib/python3.8/dist-packages (from numba) (0.39.1)\n",
            "Requirement already satisfied: zipp>=0.5 in /usr/local/lib/python3.8/dist-packages (from importlib-metadata->numba) (3.11.0)\n"
          ]
        }
      ],
      "source": [
        "!pip install numba"
      ]
    },
    {
      "cell_type": "code",
      "source": [
        "!pip install tabulate"
      ],
      "metadata": {
        "colab": {
          "base_uri": "https://localhost:8080/"
        },
        "id": "wQOjHEv6TBvj",
        "outputId": "cfc07d4d-6f17-456a-eb7e-10f6040541c6"
      },
      "id": "wQOjHEv6TBvj",
      "execution_count": 116,
      "outputs": [
        {
          "output_type": "stream",
          "name": "stdout",
          "text": [
            "Looking in indexes: https://pypi.org/simple, https://us-python.pkg.dev/colab-wheels/public/simple/\n",
            "Requirement already satisfied: tabulate in /usr/local/lib/python3.8/dist-packages (0.8.10)\n"
          ]
        }
      ]
    },
    {
      "cell_type": "code",
      "execution_count": 117,
      "id": "2c4058a2-fedf-437e-86c4-68aa2aca036e",
      "metadata": {
        "id": "2c4058a2-fedf-437e-86c4-68aa2aca036e"
      },
      "outputs": [],
      "source": [
        "from typing import Tuple, Mapping\n",
        "\n",
        "import numpy as np\n",
        "from matplotlib import pyplot as plt\n",
        "import sklearn\n",
        "import numba\n",
        "from numba import jit\n",
        "from datetime import datetime\n",
        "from tabulate import tabulate"
      ]
    },
    {
      "cell_type": "markdown",
      "id": "7225b52d-0027-467a-89cf-3c7041829312",
      "metadata": {
        "id": "7225b52d-0027-467a-89cf-3c7041829312"
      },
      "source": [
        "#### Тестовые функции"
      ]
    },
    {
      "cell_type": "markdown",
      "id": "4c53e71c-0011-4786-b655-f865a17e2a1e",
      "metadata": {
        "id": "4c53e71c-0011-4786-b655-f865a17e2a1e"
      },
      "source": [
        "##### Функция трехгорбого верблюда\n",
        "$$ {\\displaystyle f(x,y)=2x^{2}-1.05x^{4}+{\\frac {x^{6}}{6}}+xy+y^{2}} $$\n",
        "Глобальный минимум\n",
        "$$ {\\displaystyle f(0,0)=0} $$\n",
        "Метод поиска\n",
        "$$ {\\displaystyle -5\\leq x,y\\leq 5} $$"
      ]
    },
    {
      "cell_type": "code",
      "execution_count": 118,
      "id": "dabc7171-b0b1-41ac-938e-8756cdd4caa4",
      "metadata": {
        "id": "dabc7171-b0b1-41ac-938e-8756cdd4caa4"
      },
      "outputs": [],
      "source": [
        "def test_func_Camel(x: np.ndarray, y:np.ndarray) -> np.float64:   \n",
        "    return 2 * x**2 - 1.05 * x**4 + 1/6 * x**6 + x * y + y**2\n",
        "\n",
        "def test_func_Camel_dx(x: np.ndarray, y:np.ndarray) -> np.float64:\n",
        "    return 4 * x - 4.2 * x**3 + x**5 + y\n",
        "\n",
        "def test_func_Camel_dy(x: np.ndarray, y:np.ndarray) -> np.float64:\n",
        "    return x + 2 * y"
      ]
    },
    {
      "cell_type": "markdown",
      "id": "26475549-095b-432c-97b6-02f871fd1945",
      "metadata": {
        "id": "26475549-095b-432c-97b6-02f871fd1945"
      },
      "source": [
        "##### Функция Изома\n",
        "$$ {\\displaystyle f(x,y)=-\\cos \\left(x\\right)\\cos \\left(y\\right)\\exp \\left(-\\left(\\left(x-\\pi \\right)^{2}+\\left(y-\\pi \\right)^{2}\\right)\\right)} $$\n",
        "Глобальный минимум\n",
        "$$ {\\displaystyle f(\\pi ,\\pi )=-1} $$\n",
        "Метод поиска\n",
        "$$ {\\displaystyle -100\\leq x,y\\leq 100} $$"
      ]
    },
    {
      "cell_type": "code",
      "execution_count": 119,
      "id": "81833f8b-49c7-4c5e-8716-59cda7f8c67a",
      "metadata": {
        "id": "81833f8b-49c7-4c5e-8716-59cda7f8c67a"
      },
      "outputs": [],
      "source": [
        "def test_func_Izom(x: np.ndarray, y:np.ndarray) -> np.float64:   \n",
        "    return -np.cos(x) * np.cos(y) * np.exp(-((x - np.pi)**2 + (y - np.pi)**2))\n",
        "\n",
        "def test_func_Izom_dx(x: np.ndarray, y:np.ndarray) -> np.float64:  \n",
        "    return np.exp(-x**2-y**2-2*(np.pi)**2)*(np.cos(y)*np.exp(2*np.pi*x+2*np.pi*y)*np.sin(x)+(2*np.exp(2*np.pi*y)*np.cos(y)*x-2*np.pi*np.exp(2*np.pi*y)*np.cos(y))*np.exp(2*np.pi*x)*np.cos(x))\n",
        "\n",
        "def test_func_Izom_dy(x: np.ndarray, y:np.ndarray) -> np.float64:\n",
        "    return np.exp(-y**2-x**2-2*(np.pi)**2)*(np.cos(x)*np.exp(2*np.pi*y+2*np.pi*x)*np.sin(y)+(2*np.exp(2*np.pi*x)*np.cos(x)*y-2*np.pi*np.exp(2*np.pi*x)*np.cos(x))*np.exp(2*np.pi*y)*np.cos(y))"
      ]
    },
    {
      "cell_type": "markdown",
      "id": "c8dc2a45-1a77-4c6b-bd6f-e2b021f30ba3",
      "metadata": {
        "id": "c8dc2a45-1a77-4c6b-bd6f-e2b021f30ba3"
      },
      "source": [
        "##### Функция Била\n",
        "$$ {\\displaystyle f(x,y)=\\left(1.5-x+xy\\right)^{2}+\\left(2.25-x+xy^{2}\\right)^{2}} $$\n",
        "Глобальный минимум:\n",
        "$$ {\\displaystyle f(3,0.5)=0} $$\n",
        "Метод поиска:\n",
        "$$ {\\displaystyle -4.5\\leq x,y\\leq 4.5} $$"
      ]
    },
    {
      "cell_type": "code",
      "execution_count": 120,
      "id": "4efb972c-1284-4ccc-bdea-fb4fcdfb87e9",
      "metadata": {
        "tags": [],
        "id": "4efb972c-1284-4ccc-bdea-fb4fcdfb87e9"
      },
      "outputs": [],
      "source": [
        "def test_func_Bil(x: np.ndarray, y:np.ndarray) -> np.longdouble:\n",
        "    return (1.5 - x + x*y)**2 + (2.25 - x + x*y**2)**2\n",
        "\n",
        "def test_func_Bil_dx(x: np.ndarray, y:np.ndarray) -> np.longdouble:\n",
        "    return (4 * y**4 - 4 * y**2 - 8*y + 8)*x * 0.5 + 4.5 *y**2 + 3 * y - 7.5\n",
        "\n",
        "def test_func_Bil_dy(x: np.ndarray, y:np.ndarray) -> np.longdouble:\n",
        "    return 4 * x**2 * y**3 + (9*x - 2*x**2)*y - 2 * x**2 + 3 * x"
      ]
    },
    {
      "cell_type": "code",
      "execution_count": 121,
      "id": "05b5d63c-2f69-475d-bc5a-e0deaf9ce838",
      "metadata": {
        "id": "05b5d63c-2f69-475d-bc5a-e0deaf9ce838"
      },
      "outputs": [],
      "source": [
        "def my_gd(f: Mapping, dfdx: Mapping, dfdy: Mapping, x0: np.ndarray, lr: float = 0.001, T: int = 10000)-> Tuple [np.ndarray, np.ndarray, np.float32]:\n",
        "    \"\"\"\n",
        "    Реализация градиентного спуска\n",
        "    \n",
        "    Args:\n",
        "        f(Mapping) -> функционал для оптимизации\n",
        "        df(Mapping) -> градиент оптимизирующего функционала (dx,dy)\n",
        "        x0(np.ndarray) -> стартовая точка\n",
        "        lr(float) -> скорость обучения\n",
        "        T(int) -> количество итераций\n",
        "    \n",
        "    Returns:\n",
        "        x, y, результат функции от этих x и y\n",
        "    \n",
        "    \"\"\"\n",
        "    \n",
        "    x_old = x0[0]\n",
        "    y_old = x0[1]\n",
        "    \n",
        "    for _ in range(T):\n",
        "        x_new = x_old - lr * dfdx(x_old, y_old)\n",
        "        y_new = y_old - lr * dfdy(x_old, y_old)\n",
        "        \n",
        "        x_old = x_new\n",
        "        y_old = y_new\n",
        "        #history.append([x_old.copy(), y_old.copy(), f(x_old, y_old)])\n",
        "    return x_new, y_new, f(x_new, y_new)"
      ]
    },
    {
      "cell_type": "markdown",
      "source": [
        "## Реализация через NUMBA"
      ],
      "metadata": {
        "id": "xHE8qDy0JaIt"
      },
      "id": "xHE8qDy0JaIt"
    },
    {
      "cell_type": "code",
      "source": [
        "@numba.njit(fastmath=True)\n",
        "def test_func_Camel_numba(x: np.ndarray, y:np.ndarray) -> np.float64:   \n",
        "    return 2 * x**2 - 1.05 * x**4 + 1/6 * x**6 + x * y + y**2\n",
        "\n",
        "@numba.njit(fastmath=True)\n",
        "def test_func_Camel_dx_numba(x: np.ndarray, y:np.ndarray) -> np.float64:\n",
        "    return 4 * x - 4.2 * x**3 + x**5 + y\n",
        "\n",
        "@numba.njit(fastmath=True)\n",
        "def test_func_Camel_dy_numba(x: np.ndarray, y:np.ndarray) -> np.float64:\n",
        "    return x + 2 * y"
      ],
      "metadata": {
        "id": "WvidTq3TJUcQ"
      },
      "id": "WvidTq3TJUcQ",
      "execution_count": 122,
      "outputs": []
    },
    {
      "cell_type": "code",
      "source": [
        "@numba.njit(fastmath=True)\n",
        "def test_func_Izom_numba(x: np.ndarray, y:np.ndarray) -> np.float64:   \n",
        "    return -np.cos(x) * np.cos(y) * np.exp(-((x - np.pi)**2 + (y - np.pi)**2))\n",
        "\n",
        "@numba.njit(fastmath=True)\n",
        "def test_func_Izom_dx_numba(x: np.ndarray, y:np.ndarray) -> np.float64:  \n",
        "    return np.exp(-x**2-y**2-2*(np.pi)**2)*(np.cos(y)*np.exp(2*np.pi*x+2*np.pi*y)*np.sin(x)+(2*np.exp(2*np.pi*y)*np.cos(y)*x-2*np.pi*np.exp(2*np.pi*y)*np.cos(y))*np.exp(2*np.pi*x)*np.cos(x))\n",
        "\n",
        "@numba.njit(fastmath=True)\n",
        "def test_func_Izom_dy_numba(x: np.ndarray, y:np.ndarray) -> np.float64:\n",
        "    return np.exp(-y**2-x**2-2*(np.pi)**2)*(np.cos(x)*np.exp(2*np.pi*y+2*np.pi*x)*np.sin(y)+(2*np.exp(2*np.pi*x)*np.cos(x)*y-2*np.pi*np.exp(2*np.pi*x)*np.cos(x))*np.exp(2*np.pi*y)*np.cos(y))"
      ],
      "metadata": {
        "id": "N624FBOhKsD_"
      },
      "id": "N624FBOhKsD_",
      "execution_count": 123,
      "outputs": []
    },
    {
      "cell_type": "code",
      "source": [
        "@numba.njit(fastmath=True)\n",
        "def test_func_Bil_numba(x: np.ndarray, y:np.ndarray) -> np.longdouble:\n",
        "    return (1.5 - x + x*y)**2 + (2.25 - x + x*y**2)**2\n",
        "\n",
        "@numba.njit(fastmath=True)\n",
        "def test_func_Bil_dx_numba(x: np.ndarray, y:np.ndarray) -> np.longdouble:\n",
        "    return (4 * y**4 - 4 * y**2 - 8*y + 8)*x * 0.5 + 4.5 *y**2 + 3 * y - 7.5\n",
        "\n",
        "@numba.njit(fastmath=True)\n",
        "def test_func_Bil_dy_numba(x: np.ndarray, y:np.ndarray) -> np.longdouble:\n",
        "    return 4 * x**2 * y**3 + (9*x - 2*x**2)*y - 2 * x**2 + 3 * x"
      ],
      "metadata": {
        "id": "SbAB4IiUKsF0"
      },
      "id": "SbAB4IiUKsF0",
      "execution_count": 124,
      "outputs": []
    },
    {
      "cell_type": "code",
      "source": [
        "@numba.njit(fastmath=True, debug=True)\n",
        "def my_gd_numba(f: Mapping, dfdx: Mapping, dfdy: Mapping, x0: np.ndarray, lr: float = 0.001, T: int = 10000)-> Tuple [np.ndarray, np.ndarray, np.float32]:\n",
        "    \"\"\"\n",
        "    Реализация градиентного спуска\n",
        "    \n",
        "    Args:\n",
        "        f(Mapping) -> функционал для оптимизации\n",
        "        df(Mapping) -> градиент оптимизирующего функционала (dx,dy)\n",
        "        x0(np.ndarray) -> стартовая точка\n",
        "        lr(float) -> скорость обучения\n",
        "        T(int) -> количество итераций\n",
        "    \n",
        "    Returns:\n",
        "        x, y, результат функции от этих x и y\n",
        "    \n",
        "    \"\"\"\n",
        "    \n",
        "    x_old = x0[0]\n",
        "    y_old = x0[1]\n",
        "    \n",
        "    for _ in range(T):\n",
        "        x_new = x_old - lr * dfdx(x_old, y_old)\n",
        "        y_new = y_old - lr * dfdy(x_old, y_old)\n",
        "        \n",
        "        x_old = x_new\n",
        "        y_old = y_new\n",
        "        #history.append([x_old.copy(), y_old.copy(), f(x_old, y_old)])\n",
        "    return x_new, y_new, f(x_new, y_new)"
      ],
      "metadata": {
        "id": "mANLRJfHKsJO"
      },
      "id": "mANLRJfHKsJO",
      "execution_count": 125,
      "outputs": []
    },
    {
      "cell_type": "markdown",
      "source": [
        "## Сравнение времени"
      ],
      "metadata": {
        "id": "1hQNrCKYLbQk"
      },
      "id": "1hQNrCKYLbQk"
    },
    {
      "cell_type": "code",
      "source": [
        "times = [[0,0], [0,0], [0,0]]"
      ],
      "metadata": {
        "id": "lGP7H1uoTI0k"
      },
      "id": "lGP7H1uoTI0k",
      "execution_count": 126,
      "outputs": []
    },
    {
      "cell_type": "markdown",
      "source": [
        "для функции трёхгорбого верблюда"
      ],
      "metadata": {
        "id": "eKZ995CPORVm"
      },
      "id": "eKZ995CPORVm"
    },
    {
      "cell_type": "code",
      "source": [
        "start_time = datetime.now()\n",
        "my_gd(test_func_Camel, test_func_Camel_dx, test_func_Camel_dy, np.array([-1,5]))\n",
        "times[0][0] = datetime.now() - start_time"
      ],
      "metadata": {
        "id": "pIWngJ9yKsVV"
      },
      "id": "pIWngJ9yKsVV",
      "execution_count": 127,
      "outputs": []
    },
    {
      "cell_type": "code",
      "source": [
        "start_time = datetime.now()\n",
        "my_gd_numba(test_func_Camel_numba, test_func_Camel_dx_numba, test_func_Camel_dy_numba, np.array([-1,5]))\n",
        "times[0][1] = datetime.now() - start_time"
      ],
      "metadata": {
        "id": "IRO3ZVSfMXoI"
      },
      "id": "IRO3ZVSfMXoI",
      "execution_count": 134,
      "outputs": []
    },
    {
      "cell_type": "markdown",
      "source": [
        "для функции Изома"
      ],
      "metadata": {
        "id": "Y0fgTMsfOWBD"
      },
      "id": "Y0fgTMsfOWBD"
    },
    {
      "cell_type": "code",
      "source": [
        "start_time = datetime.now()\n",
        "my_gd(test_func_Izom, test_func_Izom_dx, test_func_Izom_dy, np.array([4,4]))\n",
        "times[1][0] = datetime.now() - start_time"
      ],
      "metadata": {
        "id": "Z0Ah1k78ObIt"
      },
      "id": "Z0Ah1k78ObIt",
      "execution_count": 129,
      "outputs": []
    },
    {
      "cell_type": "code",
      "source": [
        "start_time = datetime.now()\n",
        "my_gd_numba(test_func_Izom_numba, test_func_Izom_dx_numba, test_func_Izom_dy_numba, np.array([4,4]))\n",
        "times[1][1] = datetime.now() - start_time"
      ],
      "metadata": {
        "id": "6HUwMcJxObMF"
      },
      "id": "6HUwMcJxObMF",
      "execution_count": 135,
      "outputs": []
    },
    {
      "cell_type": "markdown",
      "source": [
        "для функции Била"
      ],
      "metadata": {
        "id": "DchO-T-eOX5d"
      },
      "id": "DchO-T-eOX5d"
    },
    {
      "cell_type": "code",
      "source": [
        "start_time = datetime.now()\n",
        "my_gd(test_func_Bil, test_func_Bil_dx, test_func_Bil_dy, np.array([2, 0]))\n",
        "times[2][0] = datetime.now() - start_time"
      ],
      "metadata": {
        "id": "fC94C2zVOb7J"
      },
      "id": "fC94C2zVOb7J",
      "execution_count": 131,
      "outputs": []
    },
    {
      "cell_type": "code",
      "source": [
        "start_time = datetime.now()\n",
        "my_gd_numba(test_func_Bil_numba, test_func_Bil_dx_numba, test_func_Bil_dy_numba, np.array([2, 0]))\n",
        "times[2][1] = datetime.now() - start_time"
      ],
      "metadata": {
        "id": "vx10CbrhOb-s"
      },
      "id": "vx10CbrhOb-s",
      "execution_count": 136,
      "outputs": []
    },
    {
      "cell_type": "markdown",
      "source": [
        "## Итоговая таблица с результатами замеров"
      ],
      "metadata": {
        "id": "IkTQvKA_Tm7o"
      },
      "id": "IkTQvKA_Tm7o"
    },
    {
      "cell_type": "code",
      "source": [
        "data = [\n",
        "    [\"Без применения numba\", times[0][0], times[1][0], times[2][0]],\n",
        "    [\"С применением numba\",times[0][1], times[1][1], times[2][1]]\n",
        "]\n",
        "\n",
        "head = [\" \", \"Функция трёхгорбого верблюда\", \"Функция Изома\", \"Функция Била\"]\n",
        "\n",
        "print(tabulate(data, headers=head, tablefmt=\"grid\"))"
      ],
      "metadata": {
        "colab": {
          "base_uri": "https://localhost:8080/"
        },
        "id": "ZzvHMKrMTmG9",
        "outputId": "49946d33-bbc7-44d3-9cb0-fb9d0e09f586"
      },
      "id": "ZzvHMKrMTmG9",
      "execution_count": 137,
      "outputs": [
        {
          "output_type": "stream",
          "name": "stdout",
          "text": [
            "+----------------------+--------------------------------+-----------------+----------------+\n",
            "|                      | Функция трёхгорбого верблюда   | Функция Изома   | Функция Била   |\n",
            "+======================+================================+=================+================+\n",
            "| Без применения numba | 0:00:00.036474                 | 0:00:00.359180  | 0:00:00.075418 |\n",
            "+----------------------+--------------------------------+-----------------+----------------+\n",
            "| С применением numba  | 0:00:00.000320                 | 0:00:00.005712  | 0:00:00.000495 |\n",
            "+----------------------+--------------------------------+-----------------+----------------+\n"
          ]
        }
      ]
    }
  ],
  "metadata": {
    "kernelspec": {
      "display_name": "Python 3 (ipykernel)",
      "language": "python",
      "name": "python3"
    },
    "language_info": {
      "codemirror_mode": {
        "name": "ipython",
        "version": 3
      },
      "file_extension": ".py",
      "mimetype": "text/x-python",
      "name": "python",
      "nbconvert_exporter": "python",
      "pygments_lexer": "ipython3",
      "version": "3.10.0"
    },
    "colab": {
      "provenance": []
    }
  },
  "nbformat": 4,
  "nbformat_minor": 5
}